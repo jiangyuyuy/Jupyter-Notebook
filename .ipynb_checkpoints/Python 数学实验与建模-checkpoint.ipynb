{
 "cells": [
  {
   "cell_type": "code",
   "execution_count": null,
   "metadata": {},
   "outputs": [],
   "source": [
    "# 1.Python 语言快速入门"
   ]
  },
  {
   "cell_type": "code",
   "execution_count": 4,
   "metadata": {},
   "outputs": [],
   "source": [
    "import math, time, random\n",
    "import numpy as np"
   ]
  },
  {
   "cell_type": "code",
   "execution_count": 1,
   "metadata": {},
   "outputs": [
    {
     "name": "stdout",
     "output_type": "stream",
     "text": [
      "1*2*3\n"
     ]
    }
   ],
   "source": [
    "print('1', '2', '3', sep = '*')  # 分隔符"
   ]
  },
  {
   "cell_type": "code",
   "execution_count": 2,
   "metadata": {},
   "outputs": [
    {
     "name": "stdout",
     "output_type": "stream",
     "text": [
      "1 2 * 1234\n"
     ]
    }
   ],
   "source": [
    "print('1', '2', end = ' * ')  # 终止符\n",
    "print('1234')"
   ]
  },
  {
   "cell_type": "code",
   "execution_count": 4,
   "metadata": {},
   "outputs": [
    {
     "name": "stdout",
     "output_type": "stream",
     "text": [
      "同志们好，\n",
      "大家辛苦了！\n"
     ]
    }
   ],
   "source": [
    "a = \"\"\"同志们好，\n",
    "大家辛苦了！\"\"\"\n",
    "print(a)"
   ]
  },
  {
   "cell_type": "code",
   "execution_count": 15,
   "metadata": {},
   "outputs": [
    {
     "name": "stdout",
     "output_type": "stream",
     "text": [
      "张三的年龄是:18, 体重是:75.50\n"
     ]
    }
   ],
   "source": [
    "name = '张三'; age = 18; weight = 75.50\n",
    "print(\"%s的年龄是:%d, 体重是:%.2f\"%(name, age, weight))"
   ]
  },
  {
   "cell_type": "code",
   "execution_count": 17,
   "metadata": {},
   "outputs": [
    {
     "name": "stdout",
     "output_type": "stream",
     "text": [
      "张三的年龄是:18, 体重是:75.50\n"
     ]
    }
   ],
   "source": [
    "print(f\"{name}的年龄是:{age}, 体重是:{weight:.2f}\")"
   ]
  },
  {
   "cell_type": "code",
   "execution_count": 19,
   "metadata": {},
   "outputs": [
    {
     "name": "stdout",
     "output_type": "stream",
     "text": [
      "请输入的您的身高:175\n",
      "175cm\n"
     ]
    }
   ],
   "source": [
    "height = input(\"请输入的您的身高:\")\n",
    "print(f\"{height}cm\")"
   ]
  },
  {
   "cell_type": "code",
   "execution_count": 20,
   "metadata": {},
   "outputs": [
    {
     "data": {
      "text/plain": [
       "(20.5, 20, 1, 1)"
      ]
     },
     "execution_count": 20,
     "metadata": {},
     "output_type": "execute_result"
    }
   ],
   "source": [
    "41 / 2, 41 // 2, 41 % 2, 41 % 2"
   ]
  },
  {
   "cell_type": "code",
   "execution_count": 23,
   "metadata": {},
   "outputs": [
    {
     "data": {
      "text/plain": [
       "True"
      ]
     },
     "execution_count": 23,
     "metadata": {},
     "output_type": "execute_result"
    }
   ],
   "source": [
    "1 != 2"
   ]
  },
  {
   "cell_type": "code",
   "execution_count": 24,
   "metadata": {},
   "outputs": [
    {
     "data": {
      "text/plain": [
       "False"
      ]
     },
     "execution_count": 24,
     "metadata": {},
     "output_type": "execute_result"
    }
   ],
   "source": [
    "1 > 2"
   ]
  },
  {
   "cell_type": "code",
   "execution_count": 25,
   "metadata": {},
   "outputs": [
    {
     "name": "stdout",
     "output_type": "stream",
     "text": [
      "False\n"
     ]
    }
   ],
   "source": [
    "value = (20 % 5 == 0) and (21 % 2 == 0)\n",
    "print(value)"
   ]
  },
  {
   "cell_type": "code",
   "execution_count": 32,
   "metadata": {},
   "outputs": [
    {
     "data": {
      "text/plain": [
       "(1, 2, -3, -4)"
      ]
     },
     "execution_count": 32,
     "metadata": {},
     "output_type": "execute_result"
    }
   ],
   "source": [
    "~-2, ~-3, ~2, ~3  # 按位取反(二进制操作符号)"
   ]
  },
  {
   "cell_type": "code",
   "execution_count": 34,
   "metadata": {},
   "outputs": [
    {
     "data": {
      "text/plain": [
       "'0b10'"
      ]
     },
     "execution_count": 34,
     "metadata": {},
     "output_type": "execute_result"
    }
   ],
   "source": [
    "bin(2)  # 准换为 2 进制"
   ]
  },
  {
   "cell_type": "code",
   "execution_count": 35,
   "metadata": {},
   "outputs": [
    {
     "data": {
      "text/plain": [
       "[0, 1, 2, 3, 4]"
      ]
     },
     "execution_count": 35,
     "metadata": {},
     "output_type": "execute_result"
    }
   ],
   "source": [
    "list(range(5))"
   ]
  },
  {
   "cell_type": "code",
   "execution_count": 79,
   "metadata": {},
   "outputs": [
    {
     "data": {
      "text/plain": [
       "[0, 1, 2, 3, 4]"
      ]
     },
     "execution_count": 79,
     "metadata": {},
     "output_type": "execute_result"
    }
   ],
   "source": [
    "import numpy as np\n",
    "list(np.arange(0, 5))"
   ]
  },
  {
   "cell_type": "code",
   "execution_count": 41,
   "metadata": {},
   "outputs": [
    {
     "name": "stderr",
     "output_type": "stream",
     "text": [
      "<ipython-input-41-bf86406d74aa>:2: UserWarning: torch.range is deprecated and will be removed in a future release because its behavior is inconsistent with Python's range builtin. Instead, use torch.arange, which produces values in [start, end).\n",
      "  torch.arange(5), torch.range(0, 5)\n"
     ]
    },
    {
     "data": {
      "text/plain": [
       "(tensor([0, 1, 2, 3, 4]), tensor([0., 1., 2., 3., 4., 5.]))"
      ]
     },
     "execution_count": 41,
     "metadata": {},
     "output_type": "execute_result"
    }
   ],
   "source": [
    "import torch\n",
    "torch.arange(5), torch.range(0, 5)"
   ]
  },
  {
   "cell_type": "code",
   "execution_count": 3,
   "metadata": {},
   "outputs": [
    {
     "name": "stdout",
     "output_type": "stream",
     "text": [
      "请输入大于 0 的一个整数:10\n",
      "55\n"
     ]
    }
   ],
   "source": [
    "input1 = int(input(\"请输入大于 0 的一个整数: \"))\n",
    "sum1 = 0\n",
    "for i in range(input1 + 1):\n",
    "    sum1 = sum1 + i\n",
    "print(sum1)"
   ]
  },
  {
   "cell_type": "code",
   "execution_count": 15,
   "metadata": {},
   "outputs": [
    {
     "name": "stdout",
     "output_type": "stream",
     "text": [
      "请输入角度:30\n",
      "x = 30.0, x 弧度值为:0.5235987755982988, sin(x) = 0.500\n"
     ]
    }
   ],
   "source": [
    "from math import radians\n",
    "n = 0\n",
    "x1 = float(input(\"请输入角度:\"))\n",
    "x = radians(x1)\n",
    "s = a = x\n",
    "while abs(a) >= 1e-6:\n",
    "    a *= - x * x / (2 * n + 3) / (2 * n + 2)\n",
    "    n += 1\n",
    "    s += a\n",
    "print(f\"x = {x1}, x 弧度值为:{x}, sin(x) = {s:.3f}\")"
   ]
  },
  {
   "cell_type": "code",
   "execution_count": 9,
   "metadata": {},
   "outputs": [
    {
     "data": {
      "text/plain": [
       "0.5235987755982988"
      ]
     },
     "execution_count": 9,
     "metadata": {},
     "output_type": "execute_result"
    }
   ],
   "source": [
    "radians(30)  # pi / 6"
   ]
  },
  {
   "cell_type": "code",
   "execution_count": 19,
   "metadata": {},
   "outputs": [
    {
     "name": "stdout",
     "output_type": "stream",
     "text": [
      "输入数字 0 停止输入！请输入一个数字:10\n",
      "输入数字 0 停止输入！请输入一个数字:20\n",
      "输入数字 0 停止输入！请输入一个数字:0\n",
      "sum = 30\n"
     ]
    }
   ],
   "source": [
    "sum = 0\n",
    "number = 1\n",
    "while True:\n",
    "    if number == 0:\n",
    "        break\n",
    "    number = int(input(\"输入数字 0 停止输入！请输入一个数字:\"))\n",
    "    sum += number\n",
    "print(f\"sum = {sum}\")"
   ]
  },
  {
   "cell_type": "code",
   "execution_count": 27,
   "metadata": {},
   "outputs": [
    {
     "data": {
      "text/plain": [
       "[1, 2, 3, 4]"
      ]
     },
     "execution_count": 27,
     "metadata": {},
     "output_type": "execute_result"
    }
   ],
   "source": [
    "# 复合数据类型\n",
    "b = [1, 2, 3]\n",
    "b.append(4)\n",
    "b"
   ]
  },
  {
   "cell_type": "code",
   "execution_count": 28,
   "metadata": {},
   "outputs": [
    {
     "data": {
      "text/plain": [
       "[1, 2, 3, 4, 5, 6]"
      ]
     },
     "execution_count": 28,
     "metadata": {},
     "output_type": "execute_result"
    }
   ],
   "source": [
    "b.extend([5, 6])\n",
    "b"
   ]
  },
  {
   "cell_type": "code",
   "execution_count": 29,
   "metadata": {},
   "outputs": [
    {
     "data": {
      "text/plain": [
       "[8, 1, 2, 3, 4, 5, 6]"
      ]
     },
     "execution_count": 29,
     "metadata": {},
     "output_type": "execute_result"
    }
   ],
   "source": [
    "b.insert(0, 8)\n",
    "b"
   ]
  },
  {
   "cell_type": "code",
   "execution_count": 30,
   "metadata": {},
   "outputs": [
    {
     "data": {
      "text/plain": [
       "4"
      ]
     },
     "execution_count": 30,
     "metadata": {},
     "output_type": "execute_result"
    }
   ],
   "source": [
    "a = [0, 1, 2, 3, 4]\n",
    "a.pop()"
   ]
  },
  {
   "cell_type": "code",
   "execution_count": 31,
   "metadata": {},
   "outputs": [
    {
     "data": {
      "text/plain": [
       "[0, 1, 2, 3]"
      ]
     },
     "execution_count": 31,
     "metadata": {},
     "output_type": "execute_result"
    }
   ],
   "source": [
    "a"
   ]
  },
  {
   "cell_type": "code",
   "execution_count": 32,
   "metadata": {},
   "outputs": [
    {
     "data": {
      "text/plain": [
       "[0, 2, 3]"
      ]
     },
     "execution_count": 32,
     "metadata": {},
     "output_type": "execute_result"
    }
   ],
   "source": [
    "a.pop(1)\n",
    "a"
   ]
  },
  {
   "cell_type": "code",
   "execution_count": 33,
   "metadata": {},
   "outputs": [
    {
     "data": {
      "text/plain": [
       "[0, 2]"
      ]
     },
     "execution_count": 33,
     "metadata": {},
     "output_type": "execute_result"
    }
   ],
   "source": [
    "a.remove(3)\n",
    "a"
   ]
  },
  {
   "cell_type": "code",
   "execution_count": 35,
   "metadata": {},
   "outputs": [
    {
     "data": {
      "text/plain": [
       "[]"
      ]
     },
     "execution_count": 35,
     "metadata": {},
     "output_type": "execute_result"
    }
   ],
   "source": [
    "a.clear()  # 全部清空\n",
    "a"
   ]
  },
  {
   "cell_type": "code",
   "execution_count": 38,
   "metadata": {},
   "outputs": [
    {
     "data": {
      "text/plain": [
       "1"
      ]
     },
     "execution_count": 38,
     "metadata": {},
     "output_type": "execute_result"
    }
   ],
   "source": [
    "a = [0, 1, 2, 2, 3, 4]\n",
    "a.index(1)"
   ]
  },
  {
   "cell_type": "code",
   "execution_count": 39,
   "metadata": {},
   "outputs": [
    {
     "data": {
      "text/plain": [
       "2"
      ]
     },
     "execution_count": 39,
     "metadata": {},
     "output_type": "execute_result"
    }
   ],
   "source": [
    "a.count(2)"
   ]
  },
  {
   "cell_type": "code",
   "execution_count": 40,
   "metadata": {},
   "outputs": [
    {
     "data": {
      "text/plain": [
       "[0, 1, 2, 2, 3, 4, 0, 1, 2, 2, 3, 4]"
      ]
     },
     "execution_count": 40,
     "metadata": {},
     "output_type": "execute_result"
    }
   ],
   "source": [
    "a * 2"
   ]
  },
  {
   "cell_type": "code",
   "execution_count": 41,
   "metadata": {},
   "outputs": [
    {
     "data": {
      "text/plain": [
       "[0, 1, 2, 2, 3, 4]"
      ]
     },
     "execution_count": 41,
     "metadata": {},
     "output_type": "execute_result"
    }
   ],
   "source": [
    "a.sort()  # 改变原列表\n",
    "a"
   ]
  },
  {
   "cell_type": "code",
   "execution_count": 42,
   "metadata": {},
   "outputs": [
    {
     "data": {
      "text/plain": [
       "[0, 1, 2, 2, 3, 4]"
      ]
     },
     "execution_count": 42,
     "metadata": {},
     "output_type": "execute_result"
    }
   ],
   "source": [
    "b = sorted(a)  # 返回新列表\n",
    "b"
   ]
  },
  {
   "cell_type": "code",
   "execution_count": 45,
   "metadata": {},
   "outputs": [
    {
     "data": {
      "text/plain": [
       "{'姓名': 'JiangYu', '体重': 75, '年龄': 18}"
      ]
     },
     "execution_count": 45,
     "metadata": {},
     "output_type": "execute_result"
    }
   ],
   "source": [
    "a = {'姓名':'JiangYu', '体重':75}\n",
    "a['年龄'] = 18\n",
    "a"
   ]
  },
  {
   "cell_type": "code",
   "execution_count": 47,
   "metadata": {},
   "outputs": [
    {
     "data": {
      "text/plain": [
       "'JiangYu'"
      ]
     },
     "execution_count": 47,
     "metadata": {},
     "output_type": "execute_result"
    }
   ],
   "source": [
    "a.pop('姓名')"
   ]
  },
  {
   "cell_type": "code",
   "execution_count": 48,
   "metadata": {},
   "outputs": [
    {
     "data": {
      "text/plain": [
       "{'体重': 75, '年龄': 18}"
      ]
     },
     "execution_count": 48,
     "metadata": {},
     "output_type": "execute_result"
    }
   ],
   "source": [
    "a"
   ]
  },
  {
   "cell_type": "code",
   "execution_count": 50,
   "metadata": {},
   "outputs": [
    {
     "data": {
      "text/plain": [
       "{'1', '2', '3', '4', '5', '6', '8', '9'}"
      ]
     },
     "execution_count": 50,
     "metadata": {},
     "output_type": "execute_result"
    }
   ],
   "source": [
    "a = set('12344565895')\n",
    "a"
   ]
  },
  {
   "cell_type": "code",
   "execution_count": 51,
   "metadata": {},
   "outputs": [
    {
     "data": {
      "text/plain": [
       "5"
      ]
     },
     "execution_count": 51,
     "metadata": {},
     "output_type": "execute_result"
    }
   ],
   "source": [
    "x = '2 + 3'\n",
    "eval(x)"
   ]
  },
  {
   "cell_type": "code",
   "execution_count": 54,
   "metadata": {},
   "outputs": [],
   "source": [
    "def fun(a, b, c):\n",
    "    return a + b + c"
   ]
  },
  {
   "cell_type": "code",
   "execution_count": 58,
   "metadata": {},
   "outputs": [
    {
     "data": {
      "text/plain": [
       "6"
      ]
     },
     "execution_count": 58,
     "metadata": {},
     "output_type": "execute_result"
    }
   ],
   "source": [
    "seq = [1, 2, 3]\n",
    "a = fun(*seq)\n",
    "a"
   ]
  },
  {
   "cell_type": "code",
   "execution_count": 3,
   "metadata": {},
   "outputs": [],
   "source": [
    "f = lambda n,m:sum([k ** m for k in range(1, n + 1)])"
   ]
  },
  {
   "cell_type": "code",
   "execution_count": 5,
   "metadata": {},
   "outputs": [
    {
     "data": {
      "text/plain": [
       "47977.92896825397"
      ]
     },
     "execution_count": 5,
     "metadata": {},
     "output_type": "execute_result"
    }
   ],
   "source": [
    "g = f(100, 1) + f(10, -1) + f(50, 2)\n",
    "g"
   ]
  },
  {
   "cell_type": "code",
   "execution_count": 7,
   "metadata": {},
   "outputs": [
    {
     "name": "stdout",
     "output_type": "stream",
     "text": [
      "请输入 n 的值:3\n"
     ]
    },
    {
     "data": {
      "text/plain": [
       "24"
      ]
     },
     "execution_count": 7,
     "metadata": {},
     "output_type": "execute_result"
    }
   ],
   "source": [
    "n = int(input(\"请输入 n 的值:\"))\n",
    "def func(n):\n",
    "    if n <= 1:\n",
    "        return 1\n",
    "    else:\n",
    "        return n * func(n - 1)\n",
    "func(4)"
   ]
  },
  {
   "cell_type": "code",
   "execution_count": 4,
   "metadata": {},
   "outputs": [
    {
     "data": {
      "text/plain": [
       "(set(), {})"
      ]
     },
     "execution_count": 4,
     "metadata": {},
     "output_type": "execute_result"
    }
   ],
   "source": [
    "a = set()\n",
    "b = dict()\n",
    "a, b"
   ]
  },
  {
   "cell_type": "code",
   "execution_count": 10,
   "metadata": {},
   "outputs": [
    {
     "name": "stdout",
     "output_type": "stream",
     "text": [
      "请输入一个3位整数(输入0退出):153\n",
      "你输入的三位数位水仙花数:153\n",
      "请输入一个3位整数(输入0退出):125\n",
      "你输入的三位数不是水仙花数，请重新输入!\n",
      "请输入一个3位整数(输入0退出):23\n",
      "输入的数字不是三位数，请重新输入!\n",
      "请输入一个3位整数(输入0退出):0\n"
     ]
    }
   ],
   "source": [
    "# 判断是否为水仙花数\n",
    "while True:\n",
    "    x = int(input(\"请输入一个3位整数(输入0退出):\"))\n",
    "    if x == 0:\n",
    "        break\n",
    "    if 100 > x or x > 999:\n",
    "        print(\"输入的数字不是三位数，请重新输入!\")\n",
    "    else:\n",
    "        # // 整除; % 取余数; / 除法\n",
    "        a = x // 100\n",
    "        b = (x // 10) % 10\n",
    "        c = x % 10\n",
    "        if a ** 3 + b ** 3 + c ** 3 == x:\n",
    "            print(f\"你输入的三位数位水仙花数:{x}\")\n",
    "        else:\n",
    "            print(\"你输入的三位数不是水仙花数，请重新输入!\")"
   ]
  },
  {
   "cell_type": "code",
   "execution_count": 19,
   "metadata": {},
   "outputs": [
    {
     "name": "stdout",
     "output_type": "stream",
     "text": [
      "随机产生的三位数是:162, 更改后的数字为:102\n",
      "随机产生的三位数是:396, 更改后的数字为:306\n",
      "随机产生的三位数是:998, 更改后的数字为:908\n",
      "随机产生的三位数是:942, 更改后的数字为:902\n"
     ]
    }
   ],
   "source": [
    "for i in range(4):\n",
    "    x = np.random.randint(100, 999)\n",
    "    a = x // 100\n",
    "    b = (x // 10) % 10\n",
    "    c = x % 10\n",
    "    x_out = a * 100 + 0 * 10 + c\n",
    "    print(f'随机产生的三位数是:{x}, 更改后的数字为:{x_out}')"
   ]
  },
  {
   "cell_type": "code",
   "execution_count": 22,
   "metadata": {},
   "outputs": [
    {
     "data": {
      "text/plain": [
       "array([[5, 1, 7],\n",
       "       [8, 9, 3]])"
      ]
     },
     "execution_count": 22,
     "metadata": {},
     "output_type": "execute_result"
    }
   ],
   "source": [
    "# 2.数据处理与可视化\n",
    "# 2.1 数值计算工具\n",
    "a = np.random.randint(0, 10, (2, 3))\n",
    "a"
   ]
  },
  {
   "cell_type": "code",
   "execution_count": 43,
   "metadata": {},
   "outputs": [
    {
     "data": {
      "text/plain": [
       "4"
      ]
     },
     "execution_count": 43,
     "metadata": {},
     "output_type": "execute_result"
    }
   ],
   "source": [
    "a.itemsize  # 每个元素字节大小"
   ]
  },
  {
   "cell_type": "code",
   "execution_count": 44,
   "metadata": {},
   "outputs": [
    {
     "data": {
      "text/plain": [
       "(array([1, 2, 3]),\n",
       " array([[1, 2, 3]]),\n",
       " array([[1],\n",
       "        [2],\n",
       "        [3]]),\n",
       " (3,),\n",
       " (1, 3),\n",
       " (3, 1))"
      ]
     },
     "execution_count": 44,
     "metadata": {},
     "output_type": "execute_result"
    }
   ],
   "source": [
    "# 一维向量的三种方式\n",
    "a = np.array([1, 2, 3])\n",
    "b = np.array([[1, 2, 3]])\n",
    "c = np.array([[1], [2], [3]])\n",
    "a, b, c, a.shape, b.shape, c.shape"
   ]
  },
  {
   "cell_type": "code",
   "execution_count": 46,
   "metadata": {},
   "outputs": [
    {
     "data": {
      "text/plain": [
       "((4, 3), (1, 4, 3))"
      ]
     },
     "execution_count": 46,
     "metadata": {},
     "output_type": "execute_result"
    }
   ],
   "source": [
    "d1 = np.array([[1, 2, 3], [4, 5, 6], \n",
    "              [7, 8, 9], [10, 11, 12]])\n",
    "d2 = np.array([[[1, 2, 3], [4, 5, 6], \n",
    "              [7, 8, 9], [10, 11, 12]]])\n",
    "d1.shape, d2.shape"
   ]
  },
  {
   "cell_type": "code",
   "execution_count": 50,
   "metadata": {},
   "outputs": [
    {
     "data": {
      "text/plain": [
       "(6, 6, array([7, 8, 9]))"
      ]
     },
     "execution_count": 50,
     "metadata": {},
     "output_type": "execute_result"
    }
   ],
   "source": [
    "d1[1, 2], d2[0, 1, 2], d2[0, 2]"
   ]
  },
  {
   "cell_type": "code",
   "execution_count": 58,
   "metadata": {},
   "outputs": [
    {
     "data": {
      "text/plain": [
       "(array([1. , 2. , 3.5, 3.1, 6. ]), array([3.5, 3.1, 6. ]))"
      ]
     },
     "execution_count": 58,
     "metadata": {},
     "output_type": "execute_result"
    }
   ],
   "source": [
    "a = np.array([1, 2, 3.5, 3.1, 6])\n",
    "a, a[a > 3]"
   ]
  },
  {
   "cell_type": "code",
   "execution_count": 60,
   "metadata": {},
   "outputs": [
    {
     "data": {
      "text/plain": [
       "array([1, 5, 9])"
      ]
     },
     "execution_count": 60,
     "metadata": {},
     "output_type": "execute_result"
    }
   ],
   "source": [
    "b = np.array([[1, 2, 3], \n",
    "              [4, 5, 6], \n",
    "              [7, 8, 9], \n",
    "              [10, 11, 12]])\n",
    "b[[0, 1, 2], [0, 1, 2]]"
   ]
  },
  {
   "cell_type": "code",
   "execution_count": 68,
   "metadata": {},
   "outputs": [
    {
     "data": {
      "text/plain": [
       "(array([[1, 2],\n",
       "        [4, 5]]),\n",
       " 2,\n",
       " array([[1, 2, 3],\n",
       "        [4, 5, 6]]),\n",
       " array([[1, 2],\n",
       "        [4, 5]]))"
      ]
     },
     "execution_count": 68,
     "metadata": {},
     "output_type": "execute_result"
    }
   ],
   "source": [
    "b[0:2, 0:2], b[0, 1], b[[0, 1]], b[[0, 1]][:, [0, 1]]"
   ]
  },
  {
   "cell_type": "code",
   "execution_count": 69,
   "metadata": {},
   "outputs": [
    {
     "data": {
      "text/plain": [
       "array([[ 1,  2,  3],\n",
       "       [ 4,  5,  6],\n",
       "       [ 7,  8,  9],\n",
       "       [10, 11, 12]])"
      ]
     },
     "execution_count": 69,
     "metadata": {},
     "output_type": "execute_result"
    }
   ],
   "source": [
    "a = np.array([[1, 2, 3], \n",
    "              [4, 5, 6], \n",
    "              [7, 8, 9], \n",
    "              [10, 11, 12]])\n",
    "a"
   ]
  },
  {
   "cell_type": "code",
   "execution_count": 70,
   "metadata": {},
   "outputs": [
    {
     "data": {
      "text/plain": [
       "array([[ 1,  2,  3],\n",
       "       [ 4,  5,  6],\n",
       "       [10, 11, 12]])"
      ]
     },
     "execution_count": 70,
     "metadata": {},
     "output_type": "execute_result"
    }
   ],
   "source": [
    "np.delete(a, 2, axis = 0)  # 删除第三行"
   ]
  },
  {
   "cell_type": "code",
   "execution_count": 71,
   "metadata": {},
   "outputs": [
    {
     "data": {
      "text/plain": [
       "array([[ 2,  3],\n",
       "       [ 5,  6],\n",
       "       [ 8,  9],\n",
       "       [11, 12]])"
      ]
     },
     "execution_count": 71,
     "metadata": {},
     "output_type": "execute_result"
    }
   ],
   "source": [
    "np.delete(a, 0, axis = 1)  # 删除第一列"
   ]
  },
  {
   "cell_type": "code",
   "execution_count": 74,
   "metadata": {},
   "outputs": [
    {
     "data": {
      "text/plain": [
       "array([[ 1,  2,  3],\n",
       "       [ 4,  5,  6],\n",
       "       [ 7,  8,  9],\n",
       "       [10, 11, 12],\n",
       "       [13, 14, 15]])"
      ]
     },
     "execution_count": 74,
     "metadata": {},
     "output_type": "execute_result"
    }
   ],
   "source": [
    "np.append(a, [[13, 14, 15]], axis = 0)"
   ]
  },
  {
   "cell_type": "code",
   "execution_count": 77,
   "metadata": {},
   "outputs": [
    {
     "data": {
      "text/plain": [
       "array([[    1,     2,     3,    10],\n",
       "       [    4,     5,     6,   100],\n",
       "       [    7,     8,     9,  1000],\n",
       "       [   10,    11,    12, 10000]])"
      ]
     },
     "execution_count": 77,
     "metadata": {},
     "output_type": "execute_result"
    }
   ],
   "source": [
    "np.append(a, [[10], [100], [1000], [10000]], axis = 1)"
   ]
  },
  {
   "cell_type": "code",
   "execution_count": 78,
   "metadata": {},
   "outputs": [
    {
     "data": {
      "text/plain": [
       "[[1, 2, 3], [4, 5, 6], [7, 8, 9], [10, 11, 12]]"
      ]
     },
     "execution_count": 78,
     "metadata": {},
     "output_type": "execute_result"
    }
   ],
   "source": [
    "b = a.tolist()  # 将数组转换为列表\n",
    "b"
   ]
  },
  {
   "cell_type": "code",
   "execution_count": 80,
   "metadata": {},
   "outputs": [
    {
     "data": {
      "text/plain": [
       "array([[0, 1],\n",
       "       [2, 3]])"
      ]
     },
     "execution_count": 80,
     "metadata": {},
     "output_type": "execute_result"
    }
   ],
   "source": [
    "a = np.arange(4).reshape(2, 2)\n",
    "a"
   ]
  },
  {
   "cell_type": "code",
   "execution_count": 81,
   "metadata": {},
   "outputs": [
    {
     "data": {
      "text/plain": [
       "([array([[0],\n",
       "         [2]]),\n",
       "  array([[1],\n",
       "         [3]])],\n",
       " [array([[0, 1]]), array([[2, 3]])])"
      ]
     },
     "execution_count": 81,
     "metadata": {},
     "output_type": "execute_result"
    }
   ],
   "source": [
    "b = np.hsplit(a, 2)  # 分两个列\n",
    "c = np.vsplit(a, 2)  # 分两个行\n",
    "b, c"
   ]
  },
  {
   "cell_type": "code",
   "execution_count": 84,
   "metadata": {},
   "outputs": [
    {
     "data": {
      "text/plain": [
       "array([[0, 1, 0],\n",
       "       [1, 1, 1]])"
      ]
     },
     "execution_count": 84,
     "metadata": {},
     "output_type": "execute_result"
    }
   ],
   "source": [
    "x = np.array([[1, 4, 3], \n",
    "              [4, 2, 6]])\n",
    "y = np.array([[2, 3, 4], \n",
    "              [2, 1, 5]])\n",
    "np.where(x > y, 1, 0)"
   ]
  },
  {
   "cell_type": "code",
   "execution_count": 90,
   "metadata": {},
   "outputs": [
    {
     "name": "stdout",
     "output_type": "stream",
     "text": [
      "math: 0.005964517593383789\n"
     ]
    }
   ],
   "source": [
    "a = [i * 0.01 for i in range(10000)]\n",
    "start = time.time()\n",
    "for (i, t) in enumerate(a):\n",
    "    a[i] = math.sin(t)\n",
    "end = time.time()\n",
    "print(\"math:\", end - start)"
   ]
  },
  {
   "cell_type": "code",
   "execution_count": 91,
   "metadata": {},
   "outputs": [
    {
     "name": "stdout",
     "output_type": "stream",
     "text": [
      "numpy: 0.0009801387786865234\n"
     ]
    }
   ],
   "source": [
    "a = np.array([i * 0.01 for i in range(10000)])\n",
    "start = time.time()\n",
    "a = np.sin(a)\n",
    "end = time.time()\n",
    "print(\"numpy:\", end - start)"
   ]
  },
  {
   "cell_type": "code",
   "execution_count": 96,
   "metadata": {},
   "outputs": [
    {
     "data": {
      "text/plain": [
       "(array([[ 0],\n",
       "        [10]]),\n",
       " array([0, 1, 2]),\n",
       " array([[ 0,  1,  2],\n",
       "        [10, 11, 12]]),\n",
       " (2, 1),\n",
       " (3,))"
      ]
     },
     "execution_count": 96,
     "metadata": {},
     "output_type": "execute_result"
    }
   ],
   "source": [
    "z = np.arange(0, 20, 10).reshape(-1, 1)\n",
    "c = np.arange(0, 3)\n",
    "z, c, c + z, z.shape, c.shape"
   ]
  },
  {
   "cell_type": "code",
   "execution_count": 15,
   "metadata": {},
   "outputs": [
    {
     "data": {
      "text/plain": [
       "(array([[-0.02771429, -0.13693105,  1.18475869],\n",
       "        [-0.57891779,  1.25064705, -2.05531521]]),\n",
       " array([[0.57901313, 0.044328  , 0.89448386],\n",
       "        [0.31773882, 0.22274232, 0.43866309]]))"
      ]
     },
     "execution_count": 15,
     "metadata": {},
     "output_type": "execute_result"
    }
   ],
   "source": [
    "a = np.random.randn(2, 3)  # 标准正态分布\n",
    "b = np.random.rand(2, 3)  # 0 ~ 1 的均匀分布\n",
    "a, b"
   ]
  },
  {
   "cell_type": "code",
   "execution_count": 22,
   "metadata": {},
   "outputs": [
    {
     "name": "stdout",
     "output_type": "stream",
     "text": [
      "[1, 1, 9, 4, 1, 5, 3, 2, 5, 0]\n"
     ]
    }
   ],
   "source": [
    "list_1 = []\n",
    "for i in range(10):\n",
    "    c = np.random.randint(0, 10)\n",
    "    list_1.append(c)\n",
    "print(list_1)"
   ]
  },
  {
   "cell_type": "code",
   "execution_count": 24,
   "metadata": {},
   "outputs": [],
   "source": [
    "a = np.arange(16).reshape(4, 4)\n",
    "np.savetxt('np_save.txt', a)"
   ]
  },
  {
   "cell_type": "code",
   "execution_count": 26,
   "metadata": {},
   "outputs": [
    {
     "data": {
      "text/plain": [
       "array([[ 0.,  1.,  2.,  3.],\n",
       "       [ 4.,  5.,  6.,  7.],\n",
       "       [ 8.,  9., 10., 11.],\n",
       "       [12., 13., 14., 15.]])"
      ]
     },
     "execution_count": 26,
     "metadata": {},
     "output_type": "execute_result"
    }
   ],
   "source": [
    "b = np.loadtxt('np_save.txt')\n",
    "b"
   ]
  },
  {
   "cell_type": "code",
   "execution_count": 52,
   "metadata": {},
   "outputs": [
    {
     "data": {
      "text/plain": [
       "('r', 'np_save.txt')"
      ]
     },
     "execution_count": 52,
     "metadata": {},
     "output_type": "execute_result"
    }
   ],
   "source": [
    "# 2.2 文件操作\n",
    "f = open('np_save.txt', 'r')  # 只读\n",
    "# 如果要追加文件则用 'a'\n",
    "d = open('os_O.txt', 'r')\n",
    "f.mode, f.name"
   ]
  },
  {
   "cell_type": "code",
   "execution_count": 53,
   "metadata": {},
   "outputs": [
    {
     "data": {
      "text/plain": [
       "'0.000000000000000000e+00 1.000000000000000000e+00 2.000000000000000000e+00 3.000000000000000000e+00\\n4.000000000000000000e+00 5.000000000000000000e+00 6.000000000000000000e+00 7.000000000000000000e+00\\n8.000000000000000000e+00 9.000000000000000000e+00 1.000000000000000000e+01 1.100000000000000000e+01\\n1.200000000000000000e+01 1.300000000000000000e+01 1.400000000000000000e+01 1.500000000000000000e+01\\n'"
      ]
     },
     "execution_count": 53,
     "metadata": {},
     "output_type": "execute_result"
    }
   ],
   "source": [
    "s1 = f.read()\n",
    "s1"
   ]
  },
  {
   "cell_type": "code",
   "execution_count": 54,
   "metadata": {},
   "outputs": [
    {
     "data": {
      "text/plain": [
       "'C++ is very useful too'"
      ]
     },
     "execution_count": 54,
     "metadata": {},
     "output_type": "execute_result"
    }
   ],
   "source": [
    "d1 = d.read()\n",
    "d1"
   ]
  },
  {
   "cell_type": "code",
   "execution_count": 55,
   "metadata": {},
   "outputs": [
    {
     "name": "stdout",
     "output_type": "stream",
     "text": [
      "7\n"
     ]
    }
   ],
   "source": [
    "n = 0\n",
    "for i in d1:\n",
    "    if i in 'aeiouAEIOU':\n",
    "        n += 1\n",
    "print(n)"
   ]
  },
  {
   "cell_type": "code",
   "execution_count": 74,
   "metadata": {},
   "outputs": [
    {
     "name": "stdout",
     "output_type": "stream",
     "text": [
      "Python is very useful too\n",
      "\n",
      "['Python', 'is', 'very', 'useful', 'too'] \n",
      "\n",
      "JiangYu\n",
      "\n",
      "['JiangYu'] \n",
      "\n",
      "qwertyui\n",
      "\n",
      "['qwertyui'] \n",
      "\n",
      "asddggjgk\n",
      "['asddggjgk'] \n",
      "\n",
      "[[1 2 3]\n",
      " [1 2 3]] \n",
      " [[5 6]\n",
      " [5 6]] \n",
      " [[ 8  9 10]\n",
      " [ 8  9 10]]\n"
     ]
    }
   ],
   "source": [
    "import numpy as np\n",
    "a = []; b = []; c = []\n",
    "with open('os_O1.txt') as file:\n",
    "    for (i, line) in enumerate(file):  # 一行一行读取\n",
    "        print(line)\n",
    "        elements = line.strip().split()\n",
    "        print(elements, '\\n')\n",
    "        if i < 2:\n",
    "            a.append([1, 2, 3])\n",
    "            b.append([5, 6])\n",
    "        else:\n",
    "            c.append([8, 9, 10])\n",
    "a = np.array(a); b = np.array(b); c = np.array(c)\n",
    "print(a, '\\n', b, '\\n', c)"
   ]
  },
  {
   "cell_type": "code",
   "execution_count": 2,
   "metadata": {},
   "outputs": [
    {
     "data": {
      "text/plain": [
       "['.condarc',\n",
       " '.gitconfig',\n",
       " '.ipynb_checkpoints',\n",
       " '.labelImgSettings.pkl',\n",
       " '.labelmerc',\n",
       " '.python_history',\n",
       " '10.注意力机制.ipynb',\n",
       " '11.优化算法.ipynb',\n",
       " '12.计算机视觉.ipynb',\n",
       " '13.计算性能.ipynb',\n",
       " '2.预备知识.ipynb',\n",
       " '21_Pandas练习.csv',\n",
       " '2D_1V1.png',\n",
       " '2D_2V1.png',\n",
       " '3.线性神经网络.ipynb',\n",
       " '4.多层感知机.ipynb',\n",
       " '5.深度学习计算.ipynb',\n",
       " '6.卷积神经网络.ipynb',\n",
       " '7.现代卷积神经网络.ipynb',\n",
       " '8.循环神经网络.ipynb',\n",
       " '9.现代循环神经网络.ipynb',\n",
       " 'catdog.jpg',\n",
       " 'Data_Analysis.ipynb',\n",
       " 'Deep_Learning Primer.ipynb',\n",
       " 'densenet.ipynb',\n",
       " 'digit-classification-with-a-linear-model-pytorch.ipynb',\n",
       " 'digit-recognizer-augmentation-0-9985.ipynb',\n",
       " 'digit-recognizer-using-pytorch.ipynb',\n",
       " 'GIF生成工具.ipynb',\n",
       " 'googlenet.ipynb',\n",
       " 'LeNet 训练 -- CIFAR-10 数据集进行分类.ipynb',\n",
       " 'Matplotlib 三维图和动态图.ipynb',\n",
       " 'mnist-classify-pytorch-lightning-example.ipynb',\n",
       " 'mnist-pytorch-linear-sample.ipynb',\n",
       " 'mnist-with-cnn-pytorch.ipynb',\n",
       " 'M_Learning.ipynb',\n",
       " 'nin.ipynb',\n",
       " 'np_save',\n",
       " 'np_save.txt',\n",
       " 'OpenCV-Notebooks.ipynb',\n",
       " 'Opencv.ipynb',\n",
       " 'os_O.txt',\n",
       " 'os_O1.txt',\n",
       " 'Python 内置函数.ipynb',\n",
       " 'Python 数学实验与建模.ipynb',\n",
       " 'PyTorch 搭建逻辑回归模型进行分类.ipynb',\n",
       " 'PyTorch 深度学习实战-第七章(mnist手写数字识别).ipynb',\n",
       " 'PyTorch 深度学习实战-第五章(Logistic 回归).ipynb',\n",
       " 'PyTorch 深度学习实战-第六章(神经网络基础).ipynb',\n",
       " 'PyTorch 深度学习实战-第四章(PyTorch 深度学习基础).ipynb',\n",
       " 'resnet.ipynb',\n",
       " 'titanic.xlsx',\n",
       " 'vgg.ipynb',\n",
       " '二分类.ipynb',\n",
       " '官方-Pandas 教程.ipynb',\n",
       " '官方-SymPy 教程 - 上.ipynb',\n",
       " '官方-SymPy 教程 - 下.ipynb',\n",
       " '机器学习与 Sklearn.ipynb',\n",
       " '草稿.ipynb']"
      ]
     },
     "execution_count": 2,
     "metadata": {},
     "output_type": "execute_result"
    }
   ],
   "source": [
    "import os  # 文件管理\n",
    "b = os.listdir('.')  # 返回当前目录下的文件\n",
    "b"
   ]
  },
  {
   "cell_type": "code",
   "execution_count": 3,
   "metadata": {},
   "outputs": [
    {
     "data": {
      "text/plain": [
       "'D:\\\\ipynb'"
      ]
     },
     "execution_count": 3,
     "metadata": {},
     "output_type": "execute_result"
    }
   ],
   "source": [
    "os.getcwd()  # 显示当前目录"
   ]
  },
  {
   "cell_type": "code",
   "execution_count": null,
   "metadata": {},
   "outputs": [],
   "source": []
  }
 ],
 "metadata": {
  "kernelspec": {
   "display_name": "Python 3",
   "language": "python",
   "name": "python3"
  },
  "language_info": {
   "codemirror_mode": {
    "name": "ipython",
    "version": 3
   },
   "file_extension": ".py",
   "mimetype": "text/x-python",
   "name": "python",
   "nbconvert_exporter": "python",
   "pygments_lexer": "ipython3",
   "version": "3.8.5"
  }
 },
 "nbformat": 4,
 "nbformat_minor": 4
}
