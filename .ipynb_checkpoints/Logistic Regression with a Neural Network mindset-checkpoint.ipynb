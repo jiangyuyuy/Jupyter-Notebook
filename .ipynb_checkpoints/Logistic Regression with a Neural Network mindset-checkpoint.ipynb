{
 "cells": [
  {
   "cell_type": "code",
   "execution_count": 1,
   "metadata": {},
   "outputs": [],
   "source": [
    "import numpy as np  # 导入科学计算numpy包\n",
    "import matplotlib.pyplot as plt  # 导入绘图工具库matplotlib\n",
    "import h5py  # 导入存放数据集的容器包\n",
    "import scipy  # 基于numpy之上的科学计算库\n",
    "from PIL import Image  # 导入图像处理工具包\n",
    "from scipy import ndimage  # 从scipy包中导入ndimage方法\n",
    "from lr_utils import load_dataset  # 从另一个脚本导入数据集\n",
    "%matplotlib inline "
   ]
  },
  {
   "cell_type": "code",
   "execution_count": 2,
   "metadata": {},
   "outputs": [],
   "source": [
    "# Loading the data (cat/non-cat)\n",
    "# 分别得到：训练集特征 x，训练集真实标签 y，测试集特征 x，测试集真实标签 y\n",
    "train_set_x_orig, train_set_y, test_set_x_orig, test_set_y, classes = load_dataset()  "
   ]
  },
  {
   "cell_type": "code",
   "execution_count": 3,
   "metadata": {},
   "outputs": [
    {
     "name": "stdout",
     "output_type": "stream",
     "text": [
      "y = [0], it's a 'non-cat' picture.\n"
     ]
    },
    {
     "data": {
      "image/png": "[encoded data removed]",
      "text/plain": [
       "<Figure size 432x288 with 1 Axes>"
      ]
     },
     "metadata": {
      "needs_background": "light"
     },
     "output_type": "display_data"
    }
   ],
   "source": [
    "# Example of a picture\n",
    "index = 21\n",
    "plt.imshow(train_set_x_orig[index])  # 展示出索引值为 21 处的训练样本图片\n",
    "# 然后打印出这是猫还是非猫，猫对应的标签为 1，非猫对应的标签为 0.\n",
    "print (\"y = \" + str(train_set_y[:,index]) + \", it's a '\" + classes[\n",
    "    np.squeeze(train_set_y[:,index])].decode(\"utf-8\") +  \"' picture.\")"
   ]
  },
  {
   "cell_type": "code",
   "execution_count": 4,
   "metadata": {
    "scrolled": true
   },
   "outputs": [
    {
     "name": "stdout",
     "output_type": "stream",
     "text": [
      "Number of training examples: m_train = 209\n",
      "Number of testing examples: m_test = 50\n",
      "Height/Width of each image: num_px = 64\n",
      "Each image is of size: (64, 64, 3)\n",
      "train_set_x shape: (209, 64, 64, 3)\n",
      "train_set_y shape: (1, 209)\n",
      "test_set_x shape: (50, 64, 64, 3)\n",
      "test_set_y shape: (1, 50)\n"
     ]
    }
   ],
   "source": [
    "m_train = train_set_y.shape[1]\n",
    "m_test = test_set_y.shape[1]\n",
    "num_px = train_set_x_orig.shape[1]\n",
    "print (\"Number of training examples: m_train = \" + str(m_train))  \n",
    "# 打印训练集的样本数，为 209\n",
    "print (\"Number of testing examples: m_test = \" + str(m_test))  \n",
    "# 打印测试集的样本数，为 50\n",
    "print (\"Height/Width of each image: num_px = \" + str(num_px))  \n",
    "# 打印训练集样本的宽度，为 64\n",
    "print (\"Each image is of size: (\" + str(num_px) + \", \" + str(num_px) + \", 3)\")  \n",
    "# 打印单张训练样本的维度，为 (64, 64, 3)\n",
    "print (\"train_set_x shape: \" + str(train_set_x_orig.shape))  \n",
    "# 打印所有训练样本的维度，为 (209, 64, 64, 3)\n",
    "print (\"train_set_y shape: \" + str(train_set_y.shape))  \n",
    "# 打印所有训练集的真实标签维度，为 (1, 209)\n",
    "print (\"test_set_x shape: \" + str(test_set_x_orig.shape))  \n",
    "# 打印所有测试样本的维度，为 (50, 64, 64, 3)\n",
    "print (\"test_set_y shape: \" + str(test_set_y.shape))  \n",
    "# 打印测所有试集的真实标签维度，为 (1, 50)"
   ]
  },
  {
   "cell_type": "code",
   "execution_count": 5,
   "metadata": {},
   "outputs": [
    {
     "name": "stdout",
     "output_type": "stream",
     "text": [
      "train_set_x_flatten shape: (12288, 209)\n",
      "train_set_y shape: (1, 209)\n",
      "test_set_x_flatten shape: (12288, 50)\n",
      "test_set_y shape: (1, 50)\n",
      "sanity check after reshaping: [17 31 56 22 33]\n"
     ]
    }
   ],
   "source": [
    "# 将训练集的特征维度进行展平输入到神经网络中，\n",
    "# train_set_x_orig.shape[0] = 209，-1 表示维度自动计算功能\n",
    "# .T表示矩阵转置，12288为 64 * 64 * 3 得来的，最后得：(12288, 209)\n",
    "train_set_x_flatten = train_set_x_orig.reshape(train_set_x_orig.shape[0], -1).T\n",
    "# 同理，将测试集的特征维度进行展平输入到神经网络中，\n",
    "# test_set_x_orig.shape[0] = 50，-1 表示维度自动计算功能\n",
    "# .T表示矩阵转置，12288为 64 * 64 * 3 得来的，最后得：(12288, 50)\n",
    "test_set_x_flatten = test_set_x_orig.reshape(test_set_x_orig.shape[0], -1).T\n",
    "print (\"train_set_x_flatten shape: \" + str(train_set_x_flatten.shape))  \n",
    "# 打印所有展平训练样本特征后的维度\n",
    "print (\"train_set_y shape: \" + str(train_set_y.shape))  \n",
    "# 打印训练真实标签维度\n",
    "print (\"test_set_x_flatten shape: \" + str(test_set_x_flatten.shape))  \n",
    "# 打印所有展平测试样本特征后的维度\n",
    "print (\"test_set_y shape: \" + str(test_set_y.shape))  \n",
    "# 打印测试真实标签维度\n",
    "print (\"sanity check after reshaping: \" + str(train_set_x_flatten[0:5,0]))  \n",
    "# 取出第一个样本的前 5 个特征"
   ]
  },
  {
   "cell_type": "code",
   "execution_count": 6,
   "metadata": {},
   "outputs": [],
   "source": [
    "train_set_x = train_set_x_flatten / 255.  # 归一化\n",
    "test_set_x = test_set_x_flatten / 255.  # 归一化"
   ]
  },
  {
   "cell_type": "code",
   "execution_count": 7,
   "metadata": {},
   "outputs": [],
   "source": [
    "def sigmoid(z):  # 自定义 sigmoid 函数\n",
    "    s = 1 / (1 + np.exp(-z))\n",
    "    return s"
   ]
  },
  {
   "cell_type": "code",
   "execution_count": 8,
   "metadata": {
    "scrolled": true
   },
   "outputs": [
    {
     "name": "stdout",
     "output_type": "stream",
     "text": [
      "sigmoid(0) = 0.5\n",
      "sigmoid(9.2) = 0.9998989708060922\n"
     ]
    }
   ],
   "source": [
    "print (\"sigmoid(0) = \" + str(sigmoid(0)))  \n",
    "# 计算 sigmoid(0) 的值为 0\n",
    "print (\"sigmoid(9.2) = \" + str(sigmoid(9.2)))  \n",
    "# 计算 sigmoid(9.2) 的值为 0.99989"
   ]
  },
  {
   "cell_type": "code",
   "execution_count": 9,
   "metadata": {},
   "outputs": [],
   "source": [
    "def initialize_with_zeros(dim):  #  初始化神经网络的 w 权重参数和偏置 b 的参数\n",
    "    w = np.zeros(shape=(dim, 1))  # w 的维度为 (2, 1)\n",
    "    b = 0\n",
    "    assert(w.shape == (dim, 1))  # 断言语句，如果 w 的维度不为 (2, 1) 程序就会报错\n",
    "    assert(isinstance(b, float) or isinstance(b, int))\n",
    "    return w, b  # 函数返回值，返回 w 和 b"
   ]
  },
  {
   "cell_type": "code",
   "execution_count": 10,
   "metadata": {},
   "outputs": [
    {
     "name": "stdout",
     "output_type": "stream",
     "text": [
      "w = [[0.]\n",
      " [0.]]\n",
      "b = 0\n"
     ]
    }
   ],
   "source": [
    "dim = 2  # 自定义 w 的第一个维度为 2\n",
    "w, b = initialize_with_zeros(dim)  # 初始化 w 和 b\n",
    "print (\"w = \" + str(w))  # 打印 w\n",
    "print (\"b = \" + str(b))  # 打印 b"
   ]
  },
  {
   "cell_type": "code",
   "execution_count": 11,
   "metadata": {},
   "outputs": [],
   "source": [
    "def propagate(w, b, X, Y):  # 自定义前向传播函数\n",
    "    m = X.shape[1]  # 获取 X 的第一个维度，即样本数 m 为 209\n",
    "    A = sigmoid(np.dot(w.T, X) + b)  # 计算激活函数 sigmoid 值\n",
    "    cost = (- 1 / m) * np.sum(Y * np.log(A) + (1 - Y) * (np.log(1 - A)))  \n",
    "    # 计算 m 个样本的平均交叉熵损失\n",
    "    dw = (1 / m) * np.dot(X, (A - Y).T)  # 计算 w 的梯度 dw\n",
    "    db = (1 / m) * np.sum(A - Y)  # 计算 b 的梯度 db\n",
    "    assert(dw.shape == w.shape)  # 断言语句，若 dw 的维度不等于 w 的维度则会报错\n",
    "    assert(db.dtype == float)\n",
    "    cost = np.squeeze(cost)\n",
    "    assert(cost.shape == ())\n",
    "    grads = {\"dw\": dw,\n",
    "             \"db\": db}  # 创建一个字典\n",
    "    return grads, cost  # 返回 梯度值 和 损失值"
   ]
  },
  {
   "cell_type": "code",
   "execution_count": 12,
   "metadata": {},
   "outputs": [
    {
     "name": "stdout",
     "output_type": "stream",
     "text": [
      "dw = [[0.99993216]\n",
      " [1.99980262]]\n",
      "db = 0.49993523062470574\n",
      "cost = 6.000064773192205\n"
     ]
    }
   ],
   "source": [
    "# 举了一个例子\n",
    "w, b, X, Y = np.array([[1], [2]]), 2, np.array([[1,2], [3,4]]), np.array([[1, 0]])\n",
    "grads, cost = propagate(w, b, X, Y)\n",
    "print (\"dw = \" + str(grads[\"dw\"]))\n",
    "print (\"db = \" + str(grads[\"db\"]))\n",
    "print (\"cost = \" + str(cost))"
   ]
  },
  {
   "cell_type": "code",
   "execution_count": 13,
   "metadata": {},
   "outputs": [],
   "source": [
    "def optimize(w, b, X, Y, num_iterations, learning_rate, print_cost = False):  \n",
    "    # 自定义优化器\n",
    "    costs = []  # 创建一个空列用于存放损失值\n",
    "    for i in range(num_iterations):  # 利用 for 循环进行 num_iterations 次迭代次数\n",
    "        grads, cost = propagate(w, b, X, Y)  # 每次循环返回梯度和损失值\n",
    "        dw = grads[\"dw\"]  # 更新字典中的 dw 参数\n",
    "        db = grads[\"db\"]  # 更新字典中的 db 参数\n",
    "        w = w - learning_rate * dw  # 使用梯度下降更新 w 参数\n",
    "        b = b - learning_rate * db  # 使用梯度下降更新 b 参数\n",
    "        if i % 100 == 0:  # 每迭代 100 次就将损失值添加到预先定义的 cost 列表中\n",
    "            costs.append(cost)\n",
    "        if print_cost and i % 100 == 0:  # 打印损失值\n",
    "            print (\"Cost after iteration %i: %f\" % (i, cost))\n",
    "    params = {\"w\": w,\n",
    "              \"b\": b}\n",
    "    grads = {\"dw\": dw,\n",
    "             \"db\": db}\n",
    "    return params, grads, costs  # 返回权重参数，梯度，损失值"
   ]
  },
  {
   "cell_type": "code",
   "execution_count": 14,
   "metadata": {},
   "outputs": [
    {
     "name": "stdout",
     "output_type": "stream",
     "text": [
      "w = [[0.1124579 ]\n",
      " [0.23106775]]\n",
      "b = 1.5593049248448891\n",
      "dw = [[0.90158428]\n",
      " [1.76250842]]\n",
      "db = 0.4304620716786828\n"
     ]
    }
   ],
   "source": [
    "# 进行了 100 次迭代参数更新，学习率设置为 0.009\n",
    "params, grads, costs = optimize(\n",
    "    w, b, X, Y, num_iterations= 100, learning_rate = 0.009, print_cost = False)\n",
    "print (\"w = \" + str(params[\"w\"]))  # 打印  w 值\n",
    "print (\"b = \" + str(params[\"b\"]))  # 打印 b 值\n",
    "print (\"dw = \" + str(grads[\"dw\"]))  # 打印 dw 值\n",
    "print (\"db = \" + str(grads[\"db\"]))  # 打印 db 值"
   ]
  },
  {
   "cell_type": "code",
   "execution_count": 15,
   "metadata": {},
   "outputs": [],
   "source": [
    "def predict(w, b, X):  # 自定义预测脚本\n",
    "    m = X.shape[1]  # 获取测试样本数\n",
    "    Y_prediction = np.zeros((1, m))  # 预测值的维度为 (1, m)\n",
    "    w = w.reshape(X.shape[0], 1)  # 改变 w 的维度\n",
    "    A = sigmoid(np.dot(w.T, X) + b)  # 计算激活函数值\n",
    "    for i in range(A.shape[1]):  # 迭代次数为测试 样本数 m\n",
    "        Y_prediction[0, i] = 1 if A[0, i] > 0.5 else 0  \n",
    "        # 三目运算符，若激活函数值大于 0.5，则把这个类别归为 1, 否则归为 0\n",
    "    assert(Y_prediction.shape == (1, m))  # 断言语句\n",
    "    return Y_prediction  # 返回预测值"
   ]
  },
  {
   "cell_type": "code",
   "execution_count": 16,
   "metadata": {},
   "outputs": [
    {
     "name": "stdout",
     "output_type": "stream",
     "text": [
      "predictions = [[1. 1.]]\n"
     ]
    }
   ],
   "source": [
    "print(\"predictions = \" + str(predict(w, b, X)))  # 打印预测值"
   ]
  },
  {
   "cell_type": "code",
   "execution_count": 17,
   "metadata": {},
   "outputs": [],
   "source": [
    "# 把上面的函数都放在一起，搭建一个完整的逻辑回归模型\n",
    "def model(\n",
    "    X_train, Y_train, X_test, \n",
    "    Y_test, num_iterations=2000, \n",
    "    learning_rate=0.5, print_cost=False):\n",
    "    \n",
    "    w, b = initialize_with_zeros(X_train.shape[0])  # 参数初始化\n",
    "    parameters, grads, costs = optimize(\n",
    "        w, b, X_train, Y_train, num_iterations, learning_rate, print_cost)  # 模型训练\n",
    "    w = parameters[\"w\"]  # 获得 w 参数\n",
    "    b = parameters[\"b\"]  # 获得 b 参数\n",
    "    Y_prediction_test = predict(w, b, X_test)  # 用测试集进行预测\n",
    "    Y_prediction_train = predict(w, b, X_train)  # 用训练集进行预测\n",
    "    print(\"train accuracy: {} %\".format(\n",
    "        100 - np.mean(np.abs(Y_prediction_train - Y_train)) * 100))  # 打印训练集预测精度\n",
    "    print(\"test accuracy: {} %\".format(\n",
    "        100 - np.mean(np.abs(Y_prediction_test - Y_test)) * 100))  # 打印测试集预测精度\n",
    "    d = {\"costs\": costs,\n",
    "         \"Y_prediction_test\": Y_prediction_test, \n",
    "         \"Y_prediction_train\" : Y_prediction_train, \n",
    "         \"w\" : w, \n",
    "         \"b\" : b,\n",
    "         \"learning_rate\" : learning_rate,\n",
    "         \"num_iterations\": num_iterations}\n",
    "    return d  # 返回有：损失值，预测值，权重 w，偏置 b，学习率，迭代次数 组成的字典"
   ]
  },
  {
   "cell_type": "markdown",
   "metadata": {},
   "source": [
    "Run the following cell to train your model."
   ]
  },
  {
   "cell_type": "code",
   "execution_count": 18,
   "metadata": {},
   "outputs": [
    {
     "name": "stdout",
     "output_type": "stream",
     "text": [
      "Cost after iteration 0: 0.693147\n",
      "Cost after iteration 100: 0.584508\n",
      "Cost after iteration 200: 0.466949\n",
      "Cost after iteration 300: 0.376007\n",
      "Cost after iteration 400: 0.331463\n",
      "Cost after iteration 500: 0.303273\n",
      "Cost after iteration 600: 0.279880\n",
      "Cost after iteration 700: 0.260042\n",
      "Cost after iteration 800: 0.242941\n",
      "Cost after iteration 900: 0.228004\n",
      "Cost after iteration 1000: 0.214820\n",
      "Cost after iteration 1100: 0.203078\n",
      "Cost after iteration 1200: 0.192544\n",
      "Cost after iteration 1300: 0.183033\n",
      "Cost after iteration 1400: 0.174399\n",
      "Cost after iteration 1500: 0.166521\n",
      "Cost after iteration 1600: 0.159305\n",
      "Cost after iteration 1700: 0.152667\n",
      "Cost after iteration 1800: 0.146542\n",
      "Cost after iteration 1900: 0.140872\n",
      "train accuracy: 99.04306220095694 %\n",
      "test accuracy: 70.0 %\n"
     ]
    }
   ],
   "source": [
    "# 进行 2000 次迭代更新，学习率为：0.005，训练精度为：99.04%，测试精度为：70.0%\n",
    "d = model(train_set_x, train_set_y, test_set_x, test_set_y, \n",
    "          num_iterations = 2000, learning_rate = 0.005, print_cost = True)"
   ]
  },
  {
   "cell_type": "code",
   "execution_count": 19,
   "metadata": {},
   "outputs": [
    {
     "name": "stdout",
     "output_type": "stream",
     "text": [
      "y = 1, you predicted that it is a \"cat\" picture.\n"
     ]
    },
    {
     "data": {
      "image/png": "[encoded data removed]",
      "text/plain": [
       "<Figure size 432x288 with 1 Axes>"
      ]
     },
     "metadata": {
      "needs_background": "light"
     },
     "output_type": "display_data"
    }
   ],
   "source": [
    "# Example of a picture that was wrongly classified.\n",
    "index = 4  # 取第 4 张图片进行测试(索引从 0 开始)\n",
    "plt.imshow(test_set_x[:,index].reshape((num_px, num_px, 3)))  # 展示图片\n",
    "print (\"y = \" + str(test_set_y[0, index]) + \", you predicted that it is a \\\"\" + classes[\n",
    "    int(d[\"Y_prediction_test\"][0, index])].decode(\"utf-8\") +  \"\\\" picture.\")\n",
    "# np.squeeze(train_set_y[:,index]) = array(0, dtype=int64)"
   ]
  },
  {
   "cell_type": "markdown",
   "metadata": {},
   "source": [
    "Let's also plot the cost function and the gradients."
   ]
  },
  {
   "cell_type": "code",
   "execution_count": 20,
   "metadata": {},
   "outputs": [
    {
     "data": {
      "image/png": "[encoded data removed]",
      "text/plain": [
       "<Figure size 432x288 with 1 Axes>"
      ]
     },
     "metadata": {},
     "output_type": "display_data"
    }
   ],
   "source": [
    "# 绘制损失函数曲线图\n",
    "costs = np.squeeze(d['costs'])\n",
    "plt.style.use('ggplot')  # 绘图风格\n",
    "plt.plot(costs)\n",
    "plt.ylabel('cost', color=\"g\")  # 设置纵坐标\n",
    "plt.xlabel('iterations (per hundreds)', color=\"g\")  # 设置横坐标\n",
    "plt.title(\"Learning rate =\" + str(d[\"learning_rate\"]))  # 设置标题\n",
    "plt.show()  # 展示图片"
   ]
  },
  {
   "cell_type": "code",
   "execution_count": 21,
   "metadata": {},
   "outputs": [
    {
     "name": "stdout",
     "output_type": "stream",
     "text": [
      "learning rate is: 0.01\n",
      "train accuracy: 99.52153110047847 %\n",
      "test accuracy: 68.0 %\n",
      "\n",
      "-------------------------------------------------------\n",
      "\n",
      "learning rate is: 0.001\n",
      "train accuracy: 88.99521531100478 %\n",
      "test accuracy: 64.0 %\n",
      "\n",
      "-------------------------------------------------------\n",
      "\n",
      "learning rate is: 0.0001\n",
      "train accuracy: 68.42105263157895 %\n",
      "test accuracy: 36.0 %\n",
      "\n",
      "-------------------------------------------------------\n",
      "\n"
     ]
    },
    {
     "data": {
      "image/png": "[encoded data removed]",
      "text/plain": [
       "<Figure size 432x288 with 1 Axes>"
      ]
     },
     "metadata": {},
     "output_type": "display_data"
    }
   ],
   "source": [
    "learning_rates = [0.01, 0.001, 0.0001]  \n",
    "# 使用不同学习率进行训练测试,从实验结果可以得出，不同的学习率经过相同的迭代次数得到的训练和测试精度不一样，\n",
    "# 学习率较大的精度较高，因为学习率大的每次参数更新幅度要更大，所以更容易得到最优参数，但是学习率设置较大时，学习过程稳定性较差。\n",
    "models = {}\n",
    "for i in learning_rates:\n",
    "    print (\"learning rate is: \" + str(i))\n",
    "    models[str(i)] = model(train_set_x, train_set_y, test_set_x, test_set_y, \n",
    "                           num_iterations = 1500, learning_rate = i, print_cost = False)\n",
    "    print ('\\n' + \"-------------------------------------------------------\" + '\\n')\n",
    "for i in learning_rates:\n",
    "    plt.plot(np.squeeze(models[str(i)][\"costs\"]), label= str(models[str(i)][\"learning_rate\"]))\n",
    "plt.ylabel('cost')\n",
    "plt.xlabel('iterations')\n",
    "legend = plt.legend(loc='upper center', shadow=True)\n",
    "frame = legend.get_frame()\n",
    "frame.set_facecolor('0.90')\n",
    "plt.show()"
   ]
  }
 ],
 "metadata": {
  "coursera": {
   "course_slug": "neural-networks-deep-learning",
   "graded_item_id": "XaIWT",
   "launcher_item_id": "zAgPl"
  },
  "kernelspec": {
   "display_name": "Python 3",
   "language": "python",
   "name": "python3"
  },
  "language_info": {
   "codemirror_mode": {
    "name": "ipython",
    "version": 3
   },
   "file_extension": ".py",
   "mimetype": "text/x-python",
   "name": "python",
   "nbconvert_exporter": "python",
   "pygments_lexer": "ipython3",
   "version": "3.8.5"
  },
  "toc": {
   "base_numbering": 1,
   "nav_menu": {},
   "number_sections": true,
   "sideBar": true,
   "skip_h1_title": false,
   "title_cell": "Table of Contents",
   "title_sidebar": "Contents",
   "toc_cell": false,
   "toc_position": {},
   "toc_section_display": true,
   "toc_window_display": false
  }
 },
 "nbformat": 4,
 "nbformat_minor": 2
}
