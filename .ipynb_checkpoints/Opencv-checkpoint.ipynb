{
 "cells": [
  {
   "cell_type": "markdown",
   "metadata": {},
   "source": [
    "# 第一章 OpenCV入门"
   ]
  },
  {
   "cell_type": "code",
   "execution_count": 1,
   "metadata": {},
   "outputs": [],
   "source": [
    "import cv2\n",
    "lena1 = cv2.imread(\"C:\\\\Users\\\\hasee\\\\Desktop\\\\Pictures\\\\Cats\\\\cat7.jpg\")\n",
    "lena2 = cv2.imread(\"C:\\\\Users\\\\hasee\\\\Desktop\\\\Pictures\\\\Cats\\\\cat6.jpg\")\n",
    "cv2.imshow('d1', lena1)\n",
    "cv2.imshow('d2', lena2)\n",
    "cv2.waitKey()\n",
    "cv2.destroyAllWindows() # 按下任何键销毁所有窗口"
   ]
  },
  {
   "cell_type": "code",
   "execution_count": 5,
   "metadata": {},
   "outputs": [],
   "source": [
    "import cv2\n",
    "lena = cv2.imread(\"C:\\\\Users\\\\hasee\\\\Desktop\\\\Pictures\\\\Cats\\\\cat7.jpg\")\n",
    "r = cv2.imwrite('C:\\\\Users\\\\hasee\\\\Desktop\\\\Pictures\\\\Cats\\\\cat17.jpg', lena)   # 在该文件夹里面生成名称为cat17的和lena一样的文件"
   ]
  },
  {
   "cell_type": "markdown",
   "metadata": {},
   "source": [
    "# 第二章 图像处理基础"
   ]
  },
  {
   "cell_type": "markdown",
   "metadata": {},
   "source": [
    "#### 2.2 像素处理"
   ]
  },
  {
   "cell_type": "code",
   "execution_count": 3,
   "metadata": {},
   "outputs": [
    {
     "name": "stdout",
     "output_type": "stream",
     "text": [
      "img = \n",
      " [[0 0 0 0 0 0 0 0]\n",
      " [0 0 0 0 0 0 0 0]\n",
      " [0 0 0 0 0 0 0 0]\n",
      " [0 0 0 0 0 0 0 0]\n",
      " [0 0 0 0 0 0 0 0]\n",
      " [0 0 0 0 0 0 0 0]\n",
      " [0 0 0 0 0 0 0 0]\n",
      " [0 0 0 0 0 0 0 0]]\n",
      "读取像素点img[0, 3] = 0\n",
      "修改后的像素点img[0, 3] =  255\n"
     ]
    }
   ],
   "source": [
    "import cv2\n",
    "import numpy as np\n",
    "img = np.zeros((8, 8), dtype = np.uint8)\n",
    "print('img = \\n', img)\n",
    "cv2.imshow('one', img)\n",
    "print('读取像素点img[0, 3] =', img[0, 3])  # 访问的是img的第0行第3列的像素点\n",
    "img[0, 3] = 255\n",
    "print('修改后的像素点img[0, 3] = ', img[0, 3])\n",
    "cv2.imshow('two', img)\n",
    "cv2.waitKey()\n",
    "cv2.destroyAllWindows()"
   ]
  },
  {
   "cell_type": "code",
   "execution_count": 4,
   "metadata": {},
   "outputs": [],
   "source": [
    "import cv2\n",
    "img = cv2.imread('C:\\\\Users\\\\hasee\\\\Desktop\\\\Pictures\\\\Cats\\\\cat2.jpg')\n",
    "cv2.imshow('before', img)\n",
    "for i in range(80, 100):\n",
    "    for j in range(80, 100):\n",
    "        img[i, j] = 255   # 修改区域内的像素值为255，纯白色\n",
    "cv2.imshow('after', img)\n",
    "cv2.waitKey()\n",
    "cv2.destroyAllWindows()"
   ]
  },
  {
   "cell_type": "code",
   "execution_count": 5,
   "metadata": {},
   "outputs": [],
   "source": [
    "import cv2\n",
    "import numpy as np\n",
    "red = np.zeros((500, 500, 3), dtype = np.uint8)\n",
    "for i in range(500):\n",
    "    for j in range(500):\n",
    "        red[i, j, 2] = 255\n",
    "cv2.imshow('red', red)\n",
    "cv2.waitKey()\n",
    "cv2.destroyAllWindows()"
   ]
  },
  {
   "cell_type": "code",
   "execution_count": 6,
   "metadata": {},
   "outputs": [
    {
     "data": {
      "text/plain": [
       "array([  0,   0, 255], dtype=uint8)"
      ]
     },
     "execution_count": 6,
     "metadata": {},
     "output_type": "execute_result"
    }
   ],
   "source": [
    "import cv2\n",
    "img = cv2.imread('C:\\\\Users\\\\hasee\\\\Desktop\\\\Pictures\\\\Red.png')\n",
    "img[0, 0]  # 访问图像的第0行第0列RGB值，但是读取是按BGR顺序读取的"
   ]
  },
  {
   "cell_type": "code",
   "execution_count": 11,
   "metadata": {},
   "outputs": [],
   "source": [
    "import cv2\n",
    "import numpy as np"
   ]
  },
  {
   "cell_type": "code",
   "execution_count": 7,
   "metadata": {},
   "outputs": [
    {
     "name": "stdout",
     "output_type": "stream",
     "text": [
      "blue = \n",
      " [[[255   0   0]\n",
      "  [255   0   0]\n",
      "  [255   0   0]\n",
      "  ...\n",
      "  [255   0   0]\n",
      "  [255   0   0]\n",
      "  [255   0   0]]\n",
      "\n",
      " [[255   0   0]\n",
      "  [255   0   0]\n",
      "  [255   0   0]\n",
      "  ...\n",
      "  [255   0   0]\n",
      "  [255   0   0]\n",
      "  [255   0   0]]\n",
      "\n",
      " [[255   0   0]\n",
      "  [255   0   0]\n",
      "  [255   0   0]\n",
      "  ...\n",
      "  [255   0   0]\n",
      "  [255   0   0]\n",
      "  [255   0   0]]\n",
      "\n",
      " ...\n",
      "\n",
      " [[255   0   0]\n",
      "  [255   0   0]\n",
      "  [255   0   0]\n",
      "  ...\n",
      "  [255   0   0]\n",
      "  [255   0   0]\n",
      "  [255   0   0]]\n",
      "\n",
      " [[255   0   0]\n",
      "  [255   0   0]\n",
      "  [255   0   0]\n",
      "  ...\n",
      "  [255   0   0]\n",
      "  [255   0   0]\n",
      "  [255   0   0]]\n",
      "\n",
      " [[255   0   0]\n",
      "  [255   0   0]\n",
      "  [255   0   0]\n",
      "  ...\n",
      "  [255   0   0]\n",
      "  [255   0   0]\n",
      "  [255   0   0]]]\n",
      "green = \n",
      " [[[  0 255   0]\n",
      "  [  0 255   0]\n",
      "  [  0 255   0]\n",
      "  ...\n",
      "  [  0 255   0]\n",
      "  [  0 255   0]\n",
      "  [  0 255   0]]\n",
      "\n",
      " [[  0 255   0]\n",
      "  [  0 255   0]\n",
      "  [  0 255   0]\n",
      "  ...\n",
      "  [  0 255   0]\n",
      "  [  0 255   0]\n",
      "  [  0 255   0]]\n",
      "\n",
      " [[  0 255   0]\n",
      "  [  0 255   0]\n",
      "  [  0 255   0]\n",
      "  ...\n",
      "  [  0 255   0]\n",
      "  [  0 255   0]\n",
      "  [  0 255   0]]\n",
      "\n",
      " ...\n",
      "\n",
      " [[  0 255   0]\n",
      "  [  0 255   0]\n",
      "  [  0 255   0]\n",
      "  ...\n",
      "  [  0 255   0]\n",
      "  [  0 255   0]\n",
      "  [  0 255   0]]\n",
      "\n",
      " [[  0 255   0]\n",
      "  [  0 255   0]\n",
      "  [  0 255   0]\n",
      "  ...\n",
      "  [  0 255   0]\n",
      "  [  0 255   0]\n",
      "  [  0 255   0]]\n",
      "\n",
      " [[  0 255   0]\n",
      "  [  0 255   0]\n",
      "  [  0 255   0]\n",
      "  ...\n",
      "  [  0 255   0]\n",
      "  [  0 255   0]\n",
      "  [  0 255   0]]]\n",
      "red = \n",
      " [[[  0   0 255]\n",
      "  [  0   0 255]\n",
      "  [  0   0 255]\n",
      "  ...\n",
      "  [  0   0 255]\n",
      "  [  0   0 255]\n",
      "  [  0   0 255]]\n",
      "\n",
      " [[  0   0 255]\n",
      "  [  0   0 255]\n",
      "  [  0   0 255]\n",
      "  ...\n",
      "  [  0   0 255]\n",
      "  [  0   0 255]\n",
      "  [  0   0 255]]\n",
      "\n",
      " [[  0   0 255]\n",
      "  [  0   0 255]\n",
      "  [  0   0 255]\n",
      "  ...\n",
      "  [  0   0 255]\n",
      "  [  0   0 255]\n",
      "  [  0   0 255]]\n",
      "\n",
      " ...\n",
      "\n",
      " [[  0   0 255]\n",
      "  [  0   0 255]\n",
      "  [  0   0 255]\n",
      "  ...\n",
      "  [  0   0 255]\n",
      "  [  0   0 255]\n",
      "  [  0   0 255]]\n",
      "\n",
      " [[  0   0 255]\n",
      "  [  0   0 255]\n",
      "  [  0   0 255]\n",
      "  ...\n",
      "  [  0   0 255]\n",
      "  [  0   0 255]\n",
      "  [  0   0 255]]\n",
      "\n",
      " [[  0   0 255]\n",
      "  [  0   0 255]\n",
      "  [  0   0 255]\n",
      "  ...\n",
      "  [  0   0 255]\n",
      "  [  0   0 255]\n",
      "  [  0   0 255]]]\n"
     ]
    }
   ],
   "source": [
    "# 蓝色通道\n",
    "blue = np.zeros((300, 300, 3), dtype = np.uint8)\n",
    "blue[:, :, 0] = 255\n",
    "print('blue = \\n', blue)\n",
    "cv2.imshow('blue', blue)\n",
    "# 绿色通道\n",
    "green = np.zeros((300, 300, 3), dtype = np.uint8)\n",
    "green[:, :, 1] = 255\n",
    "print('green = \\n', green)\n",
    "cv2.imshow('green', green)\n",
    "# 红色通道\n",
    "red = np.zeros((300, 300, 3), dtype = np.uint8)\n",
    "red[:, :, 2] = 255\n",
    "print('red = \\n', red)\n",
    "cv2.imshow('red', red)\n",
    "# 释放窗口\n",
    "cv2.waitKey()\n",
    "cv2.destroyAllWindows()"
   ]
  },
  {
   "cell_type": "code",
   "execution_count": 8,
   "metadata": {},
   "outputs": [
    {
     "name": "stdout",
     "output_type": "stream",
     "text": [
      "img = \n",
      " [[[255   0   0]\n",
      "  [255   0   0]\n",
      "  [255   0   0]\n",
      "  ...\n",
      "  [  0   0 255]\n",
      "  [  0   0 255]\n",
      "  [  0   0 255]]\n",
      "\n",
      " [[255   0   0]\n",
      "  [255   0   0]\n",
      "  [255   0   0]\n",
      "  ...\n",
      "  [  0   0 255]\n",
      "  [  0   0 255]\n",
      "  [  0   0 255]]\n",
      "\n",
      " [[255   0   0]\n",
      "  [255   0   0]\n",
      "  [255   0   0]\n",
      "  ...\n",
      "  [  0   0 255]\n",
      "  [  0   0 255]\n",
      "  [  0   0 255]]\n",
      "\n",
      " ...\n",
      "\n",
      " [[255   0   0]\n",
      "  [255   0   0]\n",
      "  [255   0   0]\n",
      "  ...\n",
      "  [  0   0 255]\n",
      "  [  0   0 255]\n",
      "  [  0   0 255]]\n",
      "\n",
      " [[255   0   0]\n",
      "  [255   0   0]\n",
      "  [255   0   0]\n",
      "  ...\n",
      "  [  0   0 255]\n",
      "  [  0   0 255]\n",
      "  [  0   0 255]]\n",
      "\n",
      " [[255   0   0]\n",
      "  [255   0   0]\n",
      "  [255   0   0]\n",
      "  ...\n",
      "  [  0   0 255]\n",
      "  [  0   0 255]\n",
      "  [  0   0 255]]]\n"
     ]
    }
   ],
   "source": [
    "import cv2\n",
    "import numpy as np\n",
    "img = np.zeros((300, 300, 3), dtype = np.uint8)\n",
    "img[:, 0:100, 0] = 255  # 所有行，0-100列像素点的B通道改为255，其R通道和G通道仍然为0\n",
    "img[:, 100:200, 1] = 255\n",
    "img[:, 200:300, 2] = 255\n",
    "print('img = \\n', img)\n",
    "cv2.imshow('img', img)\n",
    "cv2.waitKey()\n",
    "cv2.destroyAllWindows()"
   ]
  },
  {
   "cell_type": "code",
   "execution_count": 14,
   "metadata": {},
   "outputs": [
    {
     "name": "stdout",
     "output_type": "stream",
     "text": [
      "读取像素点img[1, 1] = [0 0 0]\n",
      "读取像素点img[3, 3, 2] = 0\n",
      "修改后的像素点img[1, 1] = [255 255 255]\n",
      "修改后的像素点img[3, 3, 2] = 150\n"
     ]
    }
   ],
   "source": [
    "import cv2\n",
    "import numpy as np\n",
    "img = np.zeros((10, 10, 3), dtype = np.uint8)\n",
    "print('读取像素点img[1, 1] =', img[1, 1])\n",
    "print('读取像素点img[3, 3, 2] =', img[3, 3, 2])\n",
    "img[1, 1] = 255  # RGB三个通道数值全改为255\n",
    "img[0, 0] = [66, 77, 88] # 修改第0行第0列像素点[B, G, R] = [66, 77, 88]\n",
    "img[3, 3, 2] = 150\n",
    "print('修改后的像素点img[1, 1] =', img[1, 1])\n",
    "print('修改后的像素点img[3, 3, 2] =', img[3, 3, 2])\n"
   ]
  },
  {
   "cell_type": "code",
   "execution_count": 16,
   "metadata": {},
   "outputs": [
    {
     "name": "stdout",
     "output_type": "stream",
     "text": [
      "访问img[0, 0] =  [251 251 251]\n",
      "访问img[0, 0, 0] =  251\n",
      "访问img[0, 0, 1] =  251\n",
      "访问img[0, 0, 2] =  251\n",
      "访问img[50, 0] =  [251 251 251]\n",
      "访问img[100, 0] =  [251 251 251]\n",
      "访问img[0, 0] =  [200 200 200]\n",
      "访问img[0, 0, 0] =  200\n",
      "访问img[0, 0, 1] =  200\n",
      "访问img[0, 0, 2] =  200\n",
      "访问img[50, 0] =  [128 128 128]\n",
      "访问img[100, 0] =  [0 0 0]\n"
     ]
    }
   ],
   "source": [
    "import cv2\n",
    "img = cv2.imread('C:\\\\Users\\\\hasee\\\\Desktop\\\\Pictures\\\\WHUT.jpg')\n",
    "print('访问img[0, 0] = ', img[0, 0])\n",
    "print('访问img[0, 0, 0] = ', img[0, 0, 0])\n",
    "print('访问img[0, 0, 1] = ', img[0, 0, 1])\n",
    "print('访问img[0, 0, 2] = ', img[0, 0, 2])\n",
    "print('访问img[50, 0] = ', img[50, 0])\n",
    "print('访问img[100, 0] = ', img[100, 0])\n",
    "# 区域1\n",
    "for i in range(0, 50):\n",
    "    for j in range(0, 100):\n",
    "        for k in range(0, 3):\n",
    "            img[i, j, k] = 200 # 白色\n",
    "# 区域2\n",
    "for i in range(50, 100):\n",
    "    for j in range(0, 100):\n",
    "        img[i, j] = [128, 128, 128] # 灰色\n",
    "# 区域3\n",
    "for i in range(100, 150):\n",
    "    for j in range(0, 100):\n",
    "        img[i, j] = 0 # 黑色\n",
    "print('访问img[0, 0] = ', img[0, 0])\n",
    "print('访问img[0, 0, 0] = ', img[0, 0, 0])\n",
    "print('访问img[0, 0, 1] = ', img[0, 0, 1])\n",
    "print('访问img[0, 0, 2] = ', img[0, 0, 2])\n",
    "print('访问img[50, 0] = ', img[50, 0])\n",
    "print('访问img[100, 0] = ', img[100, 0])\n",
    "cv2.imshow('img', img)\n",
    "cv2.waitKey()\n",
    "cv2.destroyAllWindows()"
   ]
  },
  {
   "cell_type": "markdown",
   "metadata": {},
   "source": [
    "#### 2.3 使用numpy.array访问像素"
   ]
  },
  {
   "cell_type": "code",
   "execution_count": 1,
   "metadata": {},
   "outputs": [
    {
     "name": "stdout",
     "output_type": "stream",
     "text": [
      "img = \n",
      " [[98 46 85 58 34]\n",
      " [53 19 42 63 98]\n",
      " [84 54 63 63 13]\n",
      " [21 52 30 97 94]\n",
      " [86 75 74 33 72]]\n",
      "读取像素点img.item(3, 2) = 30\n",
      "修改后img = \n",
      " [[ 98  46  85  58  34]\n",
      " [ 53  19  42  63  98]\n",
      " [ 84  54  63  63  13]\n",
      " [ 21  52 255  97  94]\n",
      " [ 86  75  74  33  72]]\n",
      "修改后像素点img.item(3, 2) = 255\n"
     ]
    }
   ],
   "source": [
    "import numpy as np\n",
    "img = np.random.randint(10, 99, size = [5, 5], dtype = np.uint8)\n",
    "print('img = \\n', img)\n",
    "print('读取像素点img.item(3, 2) =', img.item(3, 2))  # item(行， 列)\n",
    "img.itemset((3, 2), 255)  # itemset((索引值), 新值)\n",
    "print('修改后img = \\n', img)\n",
    "print('修改后像素点img.item(3, 2) =', img.item(3, 2))"
   ]
  },
  {
   "cell_type": "code",
   "execution_count": 3,
   "metadata": {},
   "outputs": [],
   "source": [
    "import cv2\n",
    "import numpy as np\n",
    "img = np.random.randint(0, 255, size = (256, 256), dtype = np.uint8)\n",
    "cv2.imshow('img', img)\n",
    "cv2.waitKey()\n",
    "cv2.destroyAllWindows()"
   ]
  },
  {
   "cell_type": "code",
   "execution_count": 5,
   "metadata": {},
   "outputs": [
    {
     "name": "stdout",
     "output_type": "stream",
     "text": [
      "读取修改前像素点img.item(3, 2) = 251\n",
      "读取修改后像素点img.item(3, 2) = 255\n"
     ]
    }
   ],
   "source": [
    "import cv2\n",
    "img = cv2.imread('C:\\\\Users\\\\hasee\\\\Desktop\\\\Pictures\\\\WHUT.jpg', 0)\n",
    "print('读取修改前像素点img.item(3, 2) =', img.item(3, 2))\n",
    "img.itemset((3, 2), 255)\n",
    "print('读取修改后像素点img.item(3, 2) =', img.item(3, 2))\n",
    "cv2.imshow('before', img)\n",
    "for i in range(10, 50):\n",
    "    for j in range(10, 50):\n",
    "        img.itemset((i, j), 0)\n",
    "cv2.imshow('after', img)\n",
    "cv2.waitKey()\n",
    "cv2.destroyAllWindows()"
   ]
  },
  {
   "cell_type": "code",
   "execution_count": 6,
   "metadata": {},
   "outputs": [
    {
     "name": "stdout",
     "output_type": "stream",
     "text": [
      "img = \n",
      " [[[65 94 25]\n",
      "  [17 59 28]\n",
      "  [69 75 17]\n",
      "  [75 68 12]]\n",
      "\n",
      " [[15 46 25]\n",
      "  [54 51 83]\n",
      "  [44 79 68]\n",
      "  [73 25 78]]]\n",
      "读取像素点img[1, 2, 0] = 44\n",
      "读取像素点img[0, 2, 1] = 75\n",
      "读取像素点img[1, 0, 2] = 25\n",
      "修改后img = [[[65 94 25]\n",
      "  [17 59 28]\n",
      "  [69  0 17]\n",
      "  [75 68 12]]\n",
      "\n",
      " [[15 46  0]\n",
      "  [54 51 83]\n",
      "  [ 0 79 68]\n",
      "  [73 25 78]]]\n",
      "读取像素点img[1, 2, 0] = 0\n",
      "读取像素点img[0, 2, 1] = 0\n",
      "读取像素点img[1, 0, 2] = 0\n"
     ]
    }
   ],
   "source": [
    "import numpy as np\n",
    "img = np.random.randint(10, 99, size = [2, 4, 3], dtype = np.uint8)\n",
    "print('img = \\n', img)\n",
    "print('读取像素点img[1, 2, 0] =', img[1, 2, 0])  # B G R\n",
    "print('读取像素点img[0, 2, 1] =', img[0, 2, 1])\n",
    "print('读取像素点img[1, 0, 2] =', img[1, 0, 2])\n",
    "img.itemset((1, 2, 0), 0)\n",
    "img.itemset((0, 2, 1), 0)\n",
    "img.itemset((1, 0, 2), 0)\n",
    "print('修改后img =', img)\n",
    "print('读取像素点img[1, 2, 0] =', img[1, 2, 0])  # B G R\n",
    "print('读取像素点img[0, 2, 1] =', img[0, 2, 1])\n",
    "print('读取像素点img[1, 0, 2] =', img[1, 0, 2])"
   ]
  },
  {
   "cell_type": "code",
   "execution_count": 7,
   "metadata": {},
   "outputs": [],
   "source": [
    "import numpy as np\n",
    "import cv2\n",
    "img = np.random.randint(0, 255, size = [512, 512, 3], dtype = np.uint8)\n",
    "cv2.imshow('img', img)\n",
    "cv2.waitKey()\n",
    "cv2.destroyAllWindows()"
   ]
  },
  {
   "cell_type": "code",
   "execution_count": 9,
   "metadata": {},
   "outputs": [
    {
     "name": "stdout",
     "output_type": "stream",
     "text": [
      "访问img.item(0, 0, 0) = 251\n",
      "访问img.item(0, 0, 1) = 251\n",
      "访问img.item(0, 0, 2) = 251\n",
      "修改后img.item(0, 0, 0) = 0\n",
      "修改后img.item(0, 0, 1) = 0\n",
      "修改后img.item(0, 0, 2) = 251\n"
     ]
    }
   ],
   "source": [
    "import numpy as np\n",
    "import cv2\n",
    "img = cv2.imread('C:\\\\Users\\\\hasee\\\\Desktop\\\\Pictures\\\\WHUT.jpg')\n",
    "cv2.imshow('before', img)\n",
    "print('访问img.item(0, 0, 0) =', img.item(0, 0, 0))\n",
    "print('访问img.item(0, 0, 1) =', img.item(0, 0, 1))\n",
    "print('访问img.item(0, 0, 2) =', img.item(0, 0, 2))\n",
    "for i in range(0, 50):\n",
    "    for j in range(0, 100):\n",
    "        for k in range(0, 2):\n",
    "            img.itemset((i, j, k), 0) # 白色\n",
    "print('修改后img.item(0, 0, 0) =', img.item(0, 0, 0))\n",
    "print('修改后img.item(0, 0, 1) =', img.item(0, 0, 1))\n",
    "print('修改后img.item(0, 0, 2) =', img.item(0, 0, 2))\n",
    "cv2.imshow('after', img)\n",
    "cv2.waitKey()\n",
    "cv2.destroyAllWindows()"
   ]
  },
  {
   "cell_type": "markdown",
   "metadata": {},
   "source": [
    "#### 2.4 感兴趣区域（RIO）"
   ]
  },
  {
   "cell_type": "code",
   "execution_count": 10,
   "metadata": {},
   "outputs": [],
   "source": [
    "import cv2\n",
    "a = cv2.imread('C:\\\\Users\\\\hasee\\\\Desktop\\\\Pictures\\\\Cats\\\\cat2.jpg', cv2.IMREAD_UNCHANGED)\n",
    "b = a[220:400, 250:350]\n",
    "cv2.imshow('b', b)\n",
    "cv2.imshow('a', a)\n",
    "cv2.waitKey()\n",
    "cv2.destroyAllWindows()"
   ]
  },
  {
   "cell_type": "code",
   "execution_count": null,
   "metadata": {},
   "outputs": [],
   "source": [
    "import cv2\n",
    "import numpy as np\n",
    "img = cv2.imread('C:\\\\Users\\\\hasee\\\\Desktop\\\\Pictures\\\\Cats\\\\cat2.jpg', cv2.IMREAD_UNCHANGED)\n",
    "cv2.imshow('img', img)\n",
    "a = np.random.randint(0, 255, (180, 100, 3))\n",
    "img[220:400, 250:350] = a\n",
    "cv2.imshow('Repalce', img)\n",
    "cv2.waitKey()\n",
    "cv2.destroyAllWindows()"
   ]
  },
  {
   "cell_type": "markdown",
   "metadata": {},
   "source": [
    "#### 2.5 通道操作"
   ]
  },
  {
   "cell_type": "code",
   "execution_count": 16,
   "metadata": {},
   "outputs": [],
   "source": [
    "import cv2\n",
    "import numpy as np\n",
    "img = cv2.imread('C:\\\\Users\\\\hasee\\\\Desktop\\\\Pictures\\\\Cats\\\\cat10.jpg')\n",
    "cv2.imshow('Bizhi', img)\n",
    "b = img[: ,: , 0]  # 原始图像的B通道\n",
    "g = img[: ,: , 1]  # 原始图像的G通道\n",
    "r = img[: ,: , 2]  # 原始图像的R通道\n",
    "cv2.imshow('b', b)\n",
    "cv2.imshow('g', g)\n",
    "cv2.imshow('r', r)\n",
    "img[:, :, 0] = 0  #  将图像的B通道改为0\n",
    "cv2.imshow('img1', img)\n",
    "img[:, :, 1] = 0  # 将图像的G通道改为0\n",
    "cv2.imshow('img2', img)\n",
    "cv2.waitKey()\n",
    "cv2.destroyAllWindows()"
   ]
  },
  {
   "cell_type": "code",
   "execution_count": 17,
   "metadata": {},
   "outputs": [],
   "source": [
    "import cv2\n",
    "img = cv2.imread('C:\\\\Users\\\\hasee\\\\Desktop\\\\Pictures\\\\Cats\\\\cat10.jpg')\n",
    "b, g, r = cv2.split(img)\n",
    "cv2.imshow('b', b)\n",
    "cv2.imshow('g', g)\n",
    "cv2.imshow('r', r)\n",
    "cv2.waitKey()\n",
    "cv2.destroyAllWindows()"
   ]
  },
  {
   "cell_type": "code",
   "execution_count": 18,
   "metadata": {},
   "outputs": [],
   "source": [
    "import cv2\n",
    "img = cv2.imread('C:\\\\Users\\\\hasee\\\\Desktop\\\\Pictures\\\\Cats\\\\cat10.jpg')\n",
    "b, g, r = cv2.split(img)  # 先对图像进行拆分\n",
    "bgr = cv2.merge([b, g ,r])  # 通道合并顺序为 B - G - R\n",
    "rgb = cv2.merge([r, g ,b])  # 通道合并顺序为 R - G - B\n",
    "grb = cv2.merge([g, r ,b])  # 通道合并顺序为 G - R - B\n",
    "cv2.imshow('img', img)\n",
    "cv2.imshow('bgr', bgr)\n",
    "cv2.imshow('rgb', rgb)\n",
    "cv2.imshow('grb', grb)\n",
    "cv2.waitKey()\n",
    "cv2.destroyAllWindows()"
   ]
  },
  {
   "cell_type": "markdown",
   "metadata": {},
   "source": [
    "#### 2.6 获取图像属性"
   ]
  },
  {
   "cell_type": "code",
   "execution_count": 19,
   "metadata": {},
   "outputs": [
    {
     "name": "stdout",
     "output_type": "stream",
     "text": [
      "图像img1属性为：\n",
      "img1.shape = (448, 580)\n",
      "img1.size = 259840\n",
      "img1.dtype = uint8\n",
      "图像img2属性为：\n",
      "img2.shape = (448, 580, 3)\n",
      "img2.size = 779520\n",
      "img2.dtype = uint8\n"
     ]
    }
   ],
   "source": [
    "import cv2\n",
    "img1 = cv2.imread('C:\\\\Users\\\\hasee\\\\Desktop\\\\Pictures\\\\Cats\\\\cat10.jpg', 0)\n",
    "img2 = cv2.imread('C:\\\\Users\\\\hasee\\\\Desktop\\\\Pictures\\\\Cats\\\\cat10.jpg', -1)\n",
    "print('图像img1属性为：')\n",
    "print('img1.shape =', img1.shape)\n",
    "print('img1.size =', img1.size)\n",
    "print('img1.dtype =', img1.dtype)\n",
    "print('图像img2属性为：')\n",
    "print('img2.shape =', img2.shape)\n",
    "print('img2.size =', img2.size)\n",
    "print('img2.dtype =', img2.dtype)"
   ]
  },
  {
   "cell_type": "markdown",
   "metadata": {},
   "source": [
    "# 第三章 图像运算"
   ]
  },
  {
   "cell_type": "markdown",
   "metadata": {},
   "source": [
    "#### 3.1 图像加法运算"
   ]
  },
  {
   "cell_type": "code",
   "execution_count": 20,
   "metadata": {},
   "outputs": [
    {
     "name": "stdout",
     "output_type": "stream",
     "text": [
      "img1 =\n",
      " [[161  62 160]\n",
      " [203 119  79]\n",
      " [226 158 134]]\n",
      "img2 =\n",
      " [[124 130 252]\n",
      " [193 134 159]\n",
      " [ 90 107  13]]\n",
      "img1+img2 = \n",
      " [[ 29 192 156]\n",
      " [140 253 238]\n",
      " [ 60   9 147]]\n"
     ]
    }
   ],
   "source": [
    "import numpy as np\n",
    "img1 = np.random.randint(0, 255, size = [3, 3], dtype = np.uint8)  # 灰度图像中，像素用8个比特位（一个字节）来表示\n",
    "img2 = np.random.randint(0, 255, size = [3, 3], dtype = np.uint8)\n",
    "print('img1 =\\n', img1)\n",
    "print('img2 =\\n', img2)\n",
    "print('img1+img2 = \\n', img1 + img2)  # a + b = mod(a + b, 256) mod(), 表示将a + b 的运算结果对256取模"
   ]
  },
  {
   "cell_type": "code",
   "execution_count": 14,
   "metadata": {},
   "outputs": [
    {
     "name": "stdout",
     "output_type": "stream",
     "text": [
      "img1 =\n",
      " [[ 62 155  90]\n",
      " [ 27  71 111]\n",
      " [ 90 109 253]]\n",
      "img2 =\n",
      " [[ 62 112 192]\n",
      " [  1  40 168]\n",
      " [233 155 137]]\n",
      "cv2.add(img1, img2 =\n",
      ") [[124 255 255]\n",
      " [ 28 111 255]\n",
      " [255 255 255]]\n"
     ]
    }
   ],
   "source": [
    "import cv2\n",
    "import numpy as np\n",
    "img1 = np.random.randint(0, 255, size = [3, 3], dtype = np.uint8)  # 灰度图像中，像素用8个比特位（一个字节）来表示\n",
    "img2 = np.random.randint(0, 255, size = [3, 3], dtype = np.uint8)\n",
    "print('img1 =\\n', img1)\n",
    "print('img2 =\\n', img2)\n",
    "img3 = cv2.add(img1, img2)\n",
    "print('cv2.add(img1, img2 =\\n)', cv2.add(img1, img2)) "
   ]
  },
  {
   "cell_type": "code",
   "execution_count": 21,
   "metadata": {},
   "outputs": [],
   "source": [
    "import cv2\n",
    "img = cv2.imread('C:\\\\Users\\\\hasee\\\\Desktop\\\\Pictures\\\\Cats\\\\cat10.jpg', 0)\n",
    "img1 = img\n",
    "img2 = cv2.add(img1, img)\n",
    "img3 = img1 + img\n",
    "cv2.imshow('img1', img1)\n",
    "cv2.imshow('img2', img2)\n",
    "cv2.imshow('img3', img3)\n",
    "cv2.waitKey()\n",
    "cv2.destroyAllWindows()"
   ]
  },
  {
   "cell_type": "markdown",
   "metadata": {},
   "source": [
    "#### 3.2 图像加权和"
   ]
  },
  {
   "cell_type": "code",
   "execution_count": 22,
   "metadata": {},
   "outputs": [
    {
     "name": "stdout",
     "output_type": "stream",
     "text": [
      "[[113 113 113 113]\n",
      " [113 113 113 113]\n",
      " [113 113 113 113]]\n"
     ]
    }
   ],
   "source": [
    "# dst = saturate(src1 * alpha + src2 * beta + gamma)  a和b要求必须大小和类型相同\n",
    "# 结果图像 = 图像1 * 系数1 + 图像2 * 系数2 + 亮度调节量\n",
    "import cv2\n",
    "import numpy as np\n",
    "img1 = np.ones((3, 4), dtype = np.uint8) * 100\n",
    "img2 = np.ones((3, 4), dtype = np.uint8) * 10\n",
    "gamma = 3\n",
    "img3 = cv2.addWeighted(img1, 0.6, img2, 5, gamma)\n",
    "print(img3)"
   ]
  },
  {
   "cell_type": "code",
   "execution_count": 23,
   "metadata": {},
   "outputs": [],
   "source": [
    "import cv2\n",
    "img = cv2.imread('C:\\\\Users\\\\hasee\\\\Desktop\\\\Pictures\\\\Cats\\\\cat10.jpg')\n",
    "b = img\n",
    "result = cv2.addWeighted(img, 0.1, b, 0.6, 50)\n",
    "cv2.imshow('result', result)\n",
    "cv2.waitKey()\n",
    "cv2.destroyAllWindows()"
   ]
  },
  {
   "cell_type": "code",
   "execution_count": 1,
   "metadata": {},
   "outputs": [],
   "source": [
    "# 运用cv2.addWeighted()函数将一幅图像的ROI区域混合在另一幅图像中\n",
    "import cv2\n",
    "img1 = cv2.imread('C:\\\\Users\\\\hasee\\\\Desktop\\\\Pictures\\\\Cats\\\\cat7.jpg')\n",
    "img2 = cv2.imread('C:\\\\Users\\\\hasee\\\\Desktop\\\\Pictures\\\\Cats\\\\cat0.jpg')\n",
    "cv2.imshow('img1', img1)\n",
    "cv2.imshow('img2', img2)\n",
    "face1 = img1[220:300, 230:320]\n",
    "face2 = img2[220:300, 230:320]\n",
    "img3 = cv2.addWeighted(face1, 0.5, face2, 0.6, 0)\n",
    "img2[220:300, 230:320] = img3\n",
    "cv2.imshow('img2-', img2)\n",
    "cv2.waitKey()\n",
    "cv2.destroyAllWindows()"
   ]
  },
  {
   "cell_type": "markdown",
   "metadata": {},
   "source": [
    "#### 3.3 按位逻辑运算"
   ]
  },
  {
   "cell_type": "code",
   "execution_count": 5,
   "metadata": {},
   "outputs": [
    {
     "name": "stdout",
     "output_type": "stream",
     "text": [
      "a =\n",
      " [[165  54  11 138  56]\n",
      " [184 113 125  34  11]\n",
      " [254  36  14  10  78]\n",
      " [203  51  46  68 102]\n",
      " [ 23  84 164  82  55]]\n",
      "b =\n",
      " [[255 255 255   0   0]\n",
      " [255 255 255   0   0]\n",
      " [255 255 255   0   0]\n",
      " [  0   0   0   0   0]\n",
      " [  0   0   0   0 255]]\n",
      "c =\n",
      " [[165  54  11   0   0]\n",
      " [184 113 125   0   0]\n",
      " [254  36  14   0   0]\n",
      " [  0   0   0   0   0]\n",
      " [  0   0   0   0  55]]\n"
     ]
    }
   ],
   "source": [
    "import cv2\n",
    "import numpy as np\n",
    "a = np.random.randint(0, 255, (5, 5), dtype = np.uint8)\n",
    "b = np.zeros((5, 5), dtype = np.uint8)\n",
    "b[0:3, 0:3] = 255\n",
    "b[4, 4] = 255\n",
    "c = cv2.bitwise_and(a, b)\n",
    "print('a =\\n', a)\n",
    "print('b =\\n', b)\n",
    "print('c =\\n', c)"
   ]
  },
  {
   "cell_type": "code",
   "execution_count": 2,
   "metadata": {},
   "outputs": [],
   "source": [
    "import cv2\n",
    "import numpy as np\n",
    "img = cv2.imread('C:\\\\Users\\\\hasee\\\\Desktop\\\\Pictures\\\\Cats\\\\cat10.jpg')\n",
    "b = np.zeros(img.shape, dtype = np.uint8)\n",
    "b[113:398, 82:347] = 255\n",
    "c = cv2.bitwise_and(img, b)\n",
    "cv2.imshow('img', img)\n",
    "cv2.imshow('b', b)\n",
    "cv2.imshow('face', c)\n",
    "cv2.waitKey()\n",
    "cv2.destroyAllWindows()"
   ]
  },
  {
   "cell_type": "code",
   "execution_count": 20,
   "metadata": {},
   "outputs": [],
   "source": [
    "import cv2\n",
    "import numpy as np\n",
    "img = cv2.imread('C:\\\\Users\\\\hasee\\\\Desktop\\\\Pictures\\\\Cats\\\\cat10.jpg')\n",
    "b = np.zeros(img.shape, dtype = np.uint8)\n",
    "b[113:398, 82:347] = 255\n",
    "c = cv2.bitwise_or(img, b)\n",
    "cv2.imshow('img', img)\n",
    "cv2.imshow('b', b)\n",
    "cv2.imshow('face', c)\n",
    "cv2.waitKey()\n",
    "cv2.destroyAllWindows()"
   ]
  },
  {
   "cell_type": "code",
   "execution_count": 7,
   "metadata": {},
   "outputs": [],
   "source": [
    "import cv2\n",
    "import numpy as np\n",
    "img = cv2.imread('C:\\\\Users\\\\hasee\\\\Desktop\\\\Pictures\\\\Cats\\\\cat10.jpg')\n",
    "b = np.random.randint(0, 255, img.shape, dtype = np.uint8)\n",
    "b[113:398, 82:347] = 255\n",
    "c = cv2.bitwise_or(img, b)\n",
    "cv2.imshow('img', img)\n",
    "cv2.imshow('b', b)\n",
    "cv2.imshow('face', c)\n",
    "cv2.waitKey()\n",
    "cv2.destroyAllWindows()"
   ]
  },
  {
   "cell_type": "code",
   "execution_count": 6,
   "metadata": {},
   "outputs": [],
   "source": [
    "import cv2\n",
    "import numpy as np\n",
    "img = cv2.imread('C:\\\\Users\\\\hasee\\\\Desktop\\\\Pictures\\\\Cats\\\\cat10.jpg')\n",
    "b = np.zeros(img.shape, dtype = np.uint8)\n",
    "b[113:398, 82:347] = 255\n",
    "cv2.imshow('b', b)\n",
    "c = cv2.bitwise_not(img, b)\n",
    "cv2.imshow('img', img)\n",
    "cv2.imshow('c', c)\n",
    "cv2.waitKey()\n",
    "cv2.destroyAllWindows()"
   ]
  },
  {
   "cell_type": "code",
   "execution_count": 8,
   "metadata": {},
   "outputs": [],
   "source": [
    "import cv2\n",
    "import numpy as np\n",
    "img = cv2.imread('C:\\\\Users\\\\hasee\\\\Desktop\\\\Pictures\\\\Cats\\\\cat10.jpg')\n",
    "b = np.random.randint(0, 255, img.shape, dtype = np.uint8)\n",
    "b[113:398, 82:347] = 255\n",
    "c = cv2.bitwise_xor(img, b)\n",
    "cv2.imshow('img', img)\n",
    "cv2.imshow('b', b)\n",
    "cv2.imshow('face', c)\n",
    "cv2.waitKey()\n",
    "cv2.destroyAllWindows()"
   ]
  },
  {
   "cell_type": "code",
   "execution_count": 9,
   "metadata": {},
   "outputs": [
    {
     "name": "stdout",
     "output_type": "stream",
     "text": [
      "img1 =\n",
      " [[3 3 3 3]\n",
      " [3 3 3 3]\n",
      " [3 3 3 3]\n",
      " [3 3 3 3]]\n",
      "img2 =\n",
      " [[5 5 5 5]\n",
      " [5 5 5 5]\n",
      " [5 5 5 5]\n",
      " [5 5 5 5]]\n",
      "img3 =\n",
      " [[0 0 0 0]\n",
      " [0 0 0 0]\n",
      " [0 0 8 8]\n",
      " [0 0 8 8]]\n",
      "mask =\n",
      " [[0 0 0 0]\n",
      " [0 0 0 0]\n",
      " [0 0 2 2]\n",
      " [0 0 2 2]]\n"
     ]
    }
   ],
   "source": [
    "import cv2\n",
    "import numpy as np\n",
    "img1 = np.ones((4, 4), dtype = np.uint8) * 3\n",
    "img2 = np.ones((4, 4), dtype = np.uint8) * 5\n",
    "mask = np.zeros((4, 4), dtype = np.uint8)\n",
    "mask[2:4, 2:4] = 2\n",
    "img3 = cv2.add(img1, img2, mask = mask)\n",
    "print('img1 =\\n', img1)\n",
    "print('img2 =\\n', img2)\n",
    "print('img3 =\\n', img3)\n",
    "print('mask =\\n', mask)"
   ]
  },
  {
   "cell_type": "code",
   "execution_count": 10,
   "metadata": {},
   "outputs": [
    {
     "name": "stdout",
     "output_type": "stream",
     "text": [
      "img.shape= (448, 580, 3)\n",
      "mask.shape = (448, 580)\n"
     ]
    }
   ],
   "source": [
    "import cv2\n",
    "import numpy as np\n",
    "img = cv2.imread('C:\\\\Users\\\\hasee\\\\Desktop\\\\Pictures\\\\Cats\\\\cat10.jpg', 1)\n",
    "w, h, c = img.shape\n",
    "mask = np.zeros((w, h), dtype = np.uint8)\n",
    "mask[113:398, 82:347] = 255\n",
    "c = cv2.bitwise_and(img, img, mask = mask)\n",
    "print('img.shape=', img.shape)\n",
    "print('mask.shape =', mask.shape)\n",
    "cv2.imshow('img', img)\n",
    "cv2.imshow('mask', mask)\n",
    "cv2.imshow('c', c)\n",
    "cv2.waitKey()\n",
    "cv2.destroyAllWindows()"
   ]
  },
  {
   "cell_type": "markdown",
   "metadata": {},
   "source": [
    "#### 3.5 图像与数值的运算"
   ]
  },
  {
   "cell_type": "code",
   "execution_count": 31,
   "metadata": {},
   "outputs": [
    {
     "name": "stdout",
     "output_type": "stream",
     "text": [
      "img1 =\n",
      " [[3 3 3 3]\n",
      " [3 3 3 3]\n",
      " [3 3 3 3]\n",
      " [3 3 3 3]]\n",
      "img2 =\n",
      " [[5 5 5 5]\n",
      " [5 5 5 5]\n",
      " [5 5 5 5]\n",
      " [5 5 5 5]]\n",
      "img3 =\n",
      " [[9 9 9 9]\n",
      " [9 9 9 9]\n",
      " [9 9 9 9]\n",
      " [9 9 9 9]]\n",
      "img4 =\n",
      " [[11 11 11 11]\n",
      " [11 11 11 11]\n",
      " [11 11 11 11]\n",
      " [11 11 11 11]]\n"
     ]
    }
   ],
   "source": [
    "import cv2\n",
    "import numpy as np\n",
    "img1 = np.ones((4, 4), dtype = np.uint8) * 3\n",
    "img2 = np.ones((4, 4), dtype = np.uint8) * 5\n",
    "img3 = cv2.add(img1, 6)\n",
    "img4 = cv2.add(6, img2)\n",
    "print('img1 =\\n', img1)\n",
    "print('img2 =\\n', img2)\n",
    "print('img3 =\\n', img3)\n",
    "print('img4 =\\n', img4)"
   ]
  },
  {
   "cell_type": "markdown",
   "metadata": {},
   "source": [
    "#### 3.6 位平面分解"
   ]
  },
  {
   "cell_type": "code",
   "execution_count": 11,
   "metadata": {},
   "outputs": [],
   "source": [
    "import cv2\n",
    "import numpy as np\n",
    "img = cv2.imread('C:\\\\Users\\\\hasee\\\\Desktop\\\\Pictures\\\\Cats\\\\cat10.jpg', 0)\n",
    "cv2.imshow('img', img)\n",
    "r, c = img.shape\n",
    "x = np.zeros((r, c, 8), dtype = np.uint8)\n",
    "for i in range(8):\n",
    "    x[:, :, i] = 2 ** i\n",
    "r = np.zeros((r, c, 8), dtype = np.uint8)\n",
    "for i in range(8):\n",
    "    r[:, :, i] = cv2.bitwise_and(img, x[:, :, i])  # 以 2 进制形式进行计算\n",
    "    mask = r[:, :, i] > 0\n",
    "    r[mask] = 255\n",
    "    cv2.imshow(str(i), r[:, :, i])\n",
    "cv2.waitKey()\n",
    "cv2.destroyAllWindows()"
   ]
  },
  {
   "cell_type": "markdown",
   "metadata": {},
   "source": [
    "#### 3.7 图像加密与解密"
   ]
  },
  {
   "cell_type": "code",
   "execution_count": 12,
   "metadata": {},
   "outputs": [],
   "source": [
    "import cv2\n",
    "import numpy as np\n",
    "img = cv2.imread('C:\\\\Users\\\\hasee\\\\Desktop\\\\Pictures\\\\Cats\\\\cat10.jpg', 0)\n",
    "img1 = cv2.imread('C:\\\\Users\\\\hasee\\\\Desktop\\\\Pictures\\\\Cats\\\\cat1.jpg', 0)\n",
    "r, c = img.shape\n",
    "key = img1[0:r, 0:c]\n",
    "# key = np.random.randint(0, 255, size = [r, c], dtype = np.uint8)\n",
    "encryption = cv2.bitwise_xor(img, key)\n",
    "decryption = cv2.bitwise_xor(encryption, key)\n",
    "cv2.imshow('img', img)\n",
    "cv2.imshow('key', key)\n",
    "cv2.imshow('encryption', encryption)\n",
    "cv2.imshow('decryption', decryption)\n",
    "cv2.waitKey()\n",
    "cv2.destroyAllWindows()"
   ]
  },
  {
   "cell_type": "markdown",
   "metadata": {},
   "source": [
    "#### 3.8 数字水印"
   ]
  },
  {
   "cell_type": "code",
   "execution_count": 18,
   "metadata": {},
   "outputs": [
    {
     "name": "stdout",
     "output_type": "stream",
     "text": [
      "[[0 0 0 ... 1 1 1]\n",
      " [0 0 0 ... 1 1 1]\n",
      " [0 0 0 ... 1 1 1]\n",
      " ...\n",
      " [1 1 1 ... 1 1 1]\n",
      " [1 1 1 ... 1 1 1]\n",
      " [1 1 1 ... 1 1 1]]\n"
     ]
    }
   ],
   "source": [
    "import cv2\n",
    "import numpy as np\n",
    "# 读取原始载体图像\n",
    "img = cv2.imread('C:\\\\Users\\\\hasee\\\\Desktop\\\\Pictures\\\\Cats\\\\cat10.jpg', 0)\n",
    "# 制作水印图像watermark\n",
    "r, c = img.shape\n",
    "watermark = np.ones((r, c), dtype = np.uint8) * 255\n",
    "for i in range(300):\n",
    "    for j in range(300):\n",
    "        watermark[i, j] = 0\n",
    "# 将水印图像内的值255处理为1，以方便嵌入\n",
    "# 后续章节会用threshold处理\n",
    "w = watermark[:] > 0\n",
    "watermark[w] = 1\n",
    "# 读取原始载体图像的shape值\n",
    "r, c = img.shape\n",
    "# ======嵌入过程=====\n",
    "# 生成元素值都是254的数组\n",
    "t254 = np.ones((r, c), dtype = np.uint8) * 254\n",
    "# 获取img图像的高7位\n",
    "imgH7 = cv2.bitwise_and(img, t254)\n",
    "# 将watermark嵌入到imgH7中\n",
    "e = cv2.bitwise_or(imgH7, watermark)\n",
    "# ======提取过程======\n",
    "# 生成元素值都是1的数组\n",
    "t1 = np.ones((r, c), dtype = np.uint8)\n",
    "# 从载体图像提取水印\n",
    "wm = cv2.bitwise_and(e, t1)\n",
    "print(wm)\n",
    "# 将水印图像内的值处理为255，以方便展示\n",
    "# 后续章节会用threshold处理\n",
    "w = wm[:] > 0\n",
    "wm[w] = 255\n",
    "# ======显示======\n",
    "cv2.imshow('img', img)\n",
    "cv2.imshow('watermark', watermark * 255)  # 当前watermark最大值为1\n",
    "cv2.imshow('e', e)\n",
    "cv2.imshow('wm', wm)\n",
    "cv2.waitKey()\n",
    "cv2.destroyAllWindows()"
   ]
  },
  {
   "cell_type": "markdown",
   "metadata": {},
   "source": [
    "#### 3.9 脸部打码与解码操作 "
   ]
  },
  {
   "cell_type": "markdown",
   "metadata": {},
   "source": [
    "# 第四章 色彩空间类型转换"
   ]
  },
  {
   "cell_type": "markdown",
   "metadata": {},
   "source": [
    "#### 4.1 色彩空间基础"
   ]
  },
  {
   "cell_type": "markdown",
   "metadata": {},
   "source": [
    "#### 4.2 类型转换函数"
   ]
  },
  {
   "cell_type": "markdown",
   "metadata": {},
   "source": [
    "- cv2.cvtCOLOR()函数 实现色彩转换"
   ]
  },
  {
   "cell_type": "markdown",
   "metadata": {},
   "source": [
    "- cv2.COLOR_BGR2RGB   将BGR转换为RGB\n",
    "- cv2.COLOR_BGR2GRAY  将BGR转换为灰度图像"
   ]
  },
  {
   "cell_type": "markdown",
   "metadata": {},
   "source": [
    "#### 4.3 类型转换实例"
   ]
  },
  {
   "cell_type": "code",
   "execution_count": 1,
   "metadata": {},
   "outputs": [
    {
     "name": "stdout",
     "output_type": "stream",
     "text": [
      "img =\n",
      " [[[166  32  47]\n",
      "  [144   7  89]\n",
      "  [ 24 251 144]\n",
      "  [165  28 241]]\n",
      "\n",
      " [[ 97 249  30]\n",
      "  [125 202 158]\n",
      "  [220  48  93]\n",
      "  [246 139  48]]]\n",
      "res =\n",
      " [[ 52  47 193 107]\n",
      " [166 180  81 124]]\n"
     ]
    }
   ],
   "source": [
    "import cv2\n",
    "import numpy as np\n",
    "img = np.random.randint(0, 255, size = [2, 4, 3], dtype = np.uint8)\n",
    "res = cv2.cvtColor(img, cv2.COLOR_BGR2GRAY)\n",
    "print('img =\\n', img)\n",
    "print('res =\\n', res)"
   ]
  },
  {
   "cell_type": "code",
   "execution_count": 3,
   "metadata": {},
   "outputs": [],
   "source": [
    "import cv2\n",
    "img = cv2.imread(\"C:\\\\Users\\\\hasee\\\\Desktop\\\\Pictures\\\\Cats\\\\cat6.jpg\")\n",
    "img1 = cv2.cvtColor(img, cv2.COLOR_BGR2GRAY)\n",
    "img2 = cv2.cvtColor(img, cv2.COLOR_BGR2RGB)\n",
    "cv2.imshow('img1', img1)\n",
    "cv2.imshow('img2', img2)\n",
    "cv2.waitKey()\n",
    "cv2.destroyAllWindows()"
   ]
  },
  {
   "cell_type": "code",
   "execution_count": 31,
   "metadata": {},
   "outputs": [],
   "source": [
    "import cv2\n",
    "img = cv2.imread(\"C:\\\\Users\\\\jiangyu\\\\Desktop\\\\Pictures\\\\Cats\\\\cat5.jpg\")\n",
    "img1 = cv2.cvtColor(img, cv2.COLOR_BGR2RGB)\n",
    "img2 = cv2.cvtColor(img, cv2.COLOR_BGR2GRAY)\n",
    "cv2.imshow('img', img)\n",
    "cv2.imshow('img1', img1)\n",
    "cv2.imshow('img2', img2)\n",
    "cv2.waitKey()\n",
    "cv2.destroyAllWindows()"
   ]
  },
  {
   "cell_type": "markdown",
   "metadata": {},
   "source": [
    "#### 4.4 HSV色彩空间讨论（色调H，饱和度S，亮度V）"
   ]
  },
  {
   "cell_type": "markdown",
   "metadata": {},
   "source": [
    "#### 4.5 alpha通道"
   ]
  },
  {
   "cell_type": "markdown",
   "metadata": {},
   "source": [
    "# 第五章 几何变换"
   ]
  },
  {
   "cell_type": "markdown",
   "metadata": {},
   "source": [
    "#### 5.1 缩放"
   ]
  },
  {
   "cell_type": "code",
   "execution_count": 3,
   "metadata": {},
   "outputs": [
    {
     "name": "stdout",
     "output_type": "stream",
     "text": [
      "(300, 400, 3)\n",
      "(150, 240, 3)\n"
     ]
    }
   ],
   "source": [
    "import cv2\n",
    "img = cv2.imread(\"C:\\\\Users\\\\hasee\\\\Desktop\\\\Pictures\\\\Cats\\\\cat5.jpg\")\n",
    "rows, cols = img.shape[:2]  # 在shape属性中，第一个值是行数，第二个值是列数\n",
    "size = (int(cols * 0.6), int(rows * 0.5))    # 在dsize属性中，第一个值是列数，第二个值是行数\n",
    "res = cv2.resize(img, size)\n",
    "print(img.shape)\n",
    "print(res.shape)\n",
    "cv2.imshow('img', img)\n",
    "cv2.imshow('res', res)\n",
    "cv2.waitKey()\n",
    "cv2.destroyAllWindows()"
   ]
  },
  {
   "cell_type": "markdown",
   "metadata": {},
   "source": [
    "#### 5.2 翻转"
   ]
  },
  {
   "cell_type": "code",
   "execution_count": 4,
   "metadata": {},
   "outputs": [],
   "source": [
    "\"\"\"\n",
    "det = cv2.flip(src, flipCode)\n",
    "src：原始图像\n",
    "flipCode：参数值为0绕着x轴旋转，参数值为正数绕着y轴旋转，参数值为负数绕着xy轴同时旋转\n",
    "\"\"\"\n",
    "import cv2\n",
    "img = cv2.imread(\"C:\\\\Users\\\\hasee\\\\Desktop\\\\Pictures\\\\Cats\\\\cat5.jpg\")\n",
    "x = cv2.flip(img, 0)\n",
    "y = cv2.flip(img, 1)\n",
    "xy = cv2.flip(img, -1)\n",
    "cv2.imshow('img', img)\n",
    "cv2.imshow('x', x)\n",
    "cv2.imshow('y', y)\n",
    "cv2.imshow('xy', xy)\n",
    "cv2.waitKey()\n",
    "cv2.destroyAllWindows()"
   ]
  },
  {
   "cell_type": "markdown",
   "metadata": {},
   "source": [
    "#### 5.3 仿射"
   ]
  },
  {
   "cell_type": "code",
   "execution_count": 19,
   "metadata": {},
   "outputs": [],
   "source": [
    "# 5.3.1 平移（向右侧移动100个像素，向下移动200个像素）\n",
    "import cv2\n",
    "import numpy as np\n",
    "img = cv2.imread(\"C:\\\\Users\\\\hasee\\\\Desktop\\\\Pictures\\\\Cats\\\\cat5.jpg\")\n",
    "height, width = img.shape[:2]\n",
    "x = 100\n",
    "y = 200\n",
    "M = np.float32([[1, 0, x], \n",
    "                [0, 1, y]])\n",
    "move = cv2.warpAffine(img, M, (width, height))\n",
    "cv2.imshow('img', img)\n",
    "cv2.imshow('move', move)\n",
    "cv2.waitKey()\n",
    "cv2.destroyAllWindows()"
   ]
  },
  {
   "cell_type": "code",
   "execution_count": 20,
   "metadata": {},
   "outputs": [],
   "source": [
    "# 5.3.2 旋转\n",
    "# retval = cv2.getRotationMatrix2D(center, angle, scale)\n",
    "# center：旋转的中心点\n",
    "# angle：旋转角度（正数为逆时针旋转，负数为顺时针旋转）\n",
    "# scale；变换尺度（缩放大小）\n",
    "import cv2\n",
    "import numpy as np\n",
    "img = cv2.imread(\"C:\\\\Users\\\\hasee\\\\Desktop\\\\Pictures\\\\Cats\\\\cat5.jpg\")\n",
    "height, width = img.shape[:2]\n",
    "M1 = cv2.getRotationMatrix2D((width / 2, height / 2), 45, 0.6)\n",
    "M = cv2.warpAffine(img, M1, (width, height))\n",
    "cv2.imshow('img', img)\n",
    "cv2.imshow('Rotation', M)\n",
    "cv2.waitKey()\n",
    "cv2.destroyAllWindows()"
   ]
  },
  {
   "cell_type": "code",
   "execution_count": 21,
   "metadata": {},
   "outputs": [],
   "source": [
    "import cv2\n",
    "import numpy as np\n",
    "img = cv2.imread(\"C:\\\\Users\\\\hasee\\\\Desktop\\\\Pictures\\\\Cats\\\\cat5.jpg\")\n",
    "rows, cols, ch = img.shape\n",
    "p1 = np.float32([[0, 0], [cols - 1, 0], [0, rows - 1]])\n",
    "p2 = np.float32([[0, rows * 0.25], [cols * 0.9, rows * 0.25], [cols * 0.15, rows * 0.8]])\n",
    "M = cv2.getAffineTransform(p1, p2)\n",
    "det = cv2.warpAffine(img, M, (cols, rows))\n",
    "cv2.imshow('img', img)\n",
    "cv2.imshow('det', det)\n",
    "cv2.waitKey()\n",
    "cv2.destroyAllWindows()"
   ]
  },
  {
   "cell_type": "markdown",
   "metadata": {},
   "source": [
    "#### 5.4 透视"
   ]
  },
  {
   "cell_type": "code",
   "execution_count": 23,
   "metadata": {},
   "outputs": [],
   "source": [
    "import cv2\n",
    "import numpy as np\n",
    "img = cv2.imread(\"C:\\\\Users\\\\hasee\\\\Desktop\\\\Pictures\\\\Cats\\\\cat5.jpg\")\n",
    "rows, cols, ch = img.shape\n",
    "p1 = np.float32([[0, 0], [cols, 0], [0, rows], [cols, rows]])  # 左上， 右上， 左下， 右下\n",
    "p2 = np.float32([[0, 0], [cols * 0.9, rows * 0.25], [cols * 0.15, rows * 0.8], [cols, rows]])\n",
    "M = cv2.getPerspectiveTransform(p1, p2)\n",
    "det = cv2.warpPerspective(img, M, (cols, rows))\n",
    "cv2.imshow('img', img)\n",
    "cv2.imshow('det', det)\n",
    "cv2.waitKey()\n",
    "cv2.destroyAllWindows()"
   ]
  },
  {
   "cell_type": "markdown",
   "metadata": {},
   "source": [
    "#### 5.5 重映射"
   ]
  },
  {
   "cell_type": "markdown",
   "metadata": {},
   "source": [
    "# 第六章 阈值处理"
   ]
  },
  {
   "cell_type": "markdown",
   "metadata": {},
   "source": [
    "#### 6.1 threshold函数"
   ]
  },
  {
   "cell_type": "markdown",
   "metadata": {},
   "source": [
    "#### 6.1.1 二值化阈值处理"
   ]
  },
  {
   "cell_type": "code",
   "execution_count": 2,
   "metadata": {},
   "outputs": [
    {
     "name": "stdout",
     "output_type": "stream",
     "text": [
      "img =\n",
      " [[210 236  13  20 176]\n",
      " [181  56  50 249 185]\n",
      " [121 213  45 236  65]\n",
      " [ 94 109  54 207 151]]\n",
      "t = 127.0\n",
      "rst =\n",
      " [[255 255   0   0 255]\n",
      " [255   0   0 255 255]\n",
      " [  0 255   0 255   0]\n",
      " [  0   0   0 255 255]]\n"
     ]
    }
   ],
   "source": [
    "import cv2\n",
    "import numpy as np\n",
    "img = np.random.randint(0, 255, size = (4, 5), dtype = np.uint8)\n",
    "t, rst = cv2.threshold(img, 127, 255, cv2.THRESH_BINARY)  # t 代表要返回的阈值，rst 代表阈值结果图像\n",
    "print('img =\\n', img)\n",
    "print('t =', t)\n",
    "print('rst =\\n', rst)"
   ]
  },
  {
   "cell_type": "markdown",
   "metadata": {},
   "source": [
    "#### 6.1.2 反二值化阈值处理"
   ]
  },
  {
   "cell_type": "code",
   "execution_count": 34,
   "metadata": {},
   "outputs": [
    {
     "name": "stdout",
     "output_type": "stream",
     "text": [
      "img =\n",
      " [[239 193 235 241 144]\n",
      " [235 182   7  66  10]\n",
      " [ 41 154  16  92 203]\n",
      " [156 142  24 109  99]]\n",
      "t =\n",
      " 127.0\n",
      "rst =\n",
      " [[  0   0   0   0   0]\n",
      " [  0   0 255 255 255]\n",
      " [255   0 255 255   0]\n",
      " [  0   0 255 255 255]]\n"
     ]
    }
   ],
   "source": [
    "import cv2\n",
    "import numpy as np\n",
    "img = np.random.randint(0, 255, size = (4, 5), dtype = np.uint8)\n",
    "t, rst = cv2.threshold(img, 127, 255, cv2.THRESH_BINARY_INV)  # t代表要返回的阈值，rst代表阈值结果图像\n",
    "print('img =\\n', img)\n",
    "print('t =\\n', t)\n",
    "print('rst =\\n', rst)"
   ]
  },
  {
   "cell_type": "code",
   "execution_count": 4,
   "metadata": {},
   "outputs": [],
   "source": [
    "import cv2\n",
    "img = cv2.imread(\"C:\\\\Users\\\\hasee\\\\Desktop\\\\Pictures\\\\Cats\\\\cat5.jpg\")\n",
    "t, rst1 = cv2.threshold(img, 127, 255, cv2.THRESH_BINARY_INV)  # t代表要返回的阈值，rst代表阈值结果图像\n",
    "t, rst2 = cv2.threshold(img, 127, 255, cv2.THRESH_BINARY)\n",
    "cv2.imshow('img', img)\n",
    "cv2.imshow('rst1', rst1)\n",
    "cv2.imshow('rst2', rst2)\n",
    "cv2.waitKey()\n",
    "cv2.destroyAllWindows()"
   ]
  },
  {
   "cell_type": "code",
   "execution_count": 5,
   "metadata": {},
   "outputs": [],
   "source": [
    "import cv2\n",
    "img = cv2.imread(\"C:\\\\Users\\\\hasee\\\\Desktop\\\\Pictures\\\\Cats\\\\cat5.jpg\", 0)\n",
    "t, rst1 = cv2.threshold(img, 127, 255, cv2.THRESH_BINARY_INV)  # t代表要返回的阈值，rst代表阈值结果图像\n",
    "t, rst2 = cv2.threshold(img, 127, 255, cv2.THRESH_BINARY)\n",
    "cv2.imshow('img', img)\n",
    "cv2.imshow('rst1', rst1)\n",
    "cv2.imshow('rst2', rst2)\n",
    "cv2.waitKey()\n",
    "cv2.destroyAllWindows()"
   ]
  },
  {
   "cell_type": "markdown",
   "metadata": {},
   "source": [
    "#### 6.1.3 截断阈值化处理"
   ]
  },
  {
   "cell_type": "code",
   "execution_count": 6,
   "metadata": {},
   "outputs": [
    {
     "name": "stdout",
     "output_type": "stream",
     "text": [
      "img =\n",
      " [[ 89 237  19  40 218]\n",
      " [191 208  22 135  26]\n",
      " [166 254  28 144 179]\n",
      " [ 51 245  93  37  85]]\n",
      "t = 150.0\n",
      "rst =\n",
      " [[ 89 150  19  40 150]\n",
      " [150 150  22 135  26]\n",
      " [150 150  28 144 150]\n",
      " [ 51 150  93  37  85]]\n"
     ]
    }
   ],
   "source": [
    "import cv2\n",
    "import numpy as np\n",
    "img = np.random.randint(0, 255, size = (4, 5), dtype = np.uint8)\n",
    "t, rst = cv2.threshold(img, 150, 255, cv2.THRESH_TRUNC)  # t代表要返回的阈值，rst代表阈值结果图像\n",
    "# 像素值大于150的设置为150，小于150的保持不变\n",
    "print('img =\\n', img)\n",
    "print('t =', t)\n",
    "print('rst =\\n', rst)"
   ]
  },
  {
   "cell_type": "code",
   "execution_count": 9,
   "metadata": {},
   "outputs": [
    {
     "name": "stdout",
     "output_type": "stream",
     "text": [
      "t = 200.0\n"
     ]
    }
   ],
   "source": [
    "import cv2\n",
    "import numpy as np\n",
    "img = cv2.imread(\"C:\\\\Users\\\\hasee\\\\Desktop\\\\Pictures\\\\Cats\\\\cat5.jpg\", 0)\n",
    "t, rst2 = cv2.threshold(img, 200, 255, cv2.THRESH_TRUNC)\n",
    "cv2.imshow('img', img)\n",
    "cv2.imshow('rst2', rst2)\n",
    "print('t =', t)\n",
    "cv2.waitKey()\n",
    "cv2.destroyAllWindows()"
   ]
  },
  {
   "cell_type": "markdown",
   "metadata": {},
   "source": [
    "#### 6.1.4 低阈值零处理"
   ]
  },
  {
   "cell_type": "code",
   "execution_count": 10,
   "metadata": {},
   "outputs": [
    {
     "name": "stdout",
     "output_type": "stream",
     "text": [
      "img =\n",
      " [[163  65  95  91 186]\n",
      " [ 64 177 153  33  19]\n",
      " [ 53 228 113 227  66]\n",
      " [219  65  16 139 250]]\n",
      "t =\n",
      " 150.0\n",
      "rst =\n",
      " [[163   0   0   0 186]\n",
      " [  0 177 153   0   0]\n",
      " [  0 228   0 227   0]\n",
      " [219   0   0   0 250]]\n"
     ]
    }
   ],
   "source": [
    "import cv2\n",
    "import numpy as np\n",
    "img = np.random.randint(0, 255, size = (4, 5), dtype = np.uint8)\n",
    "t, rst = cv2.threshold(img, 150, 255, cv2.THRESH_TOZERO)  # t代表要返回的阈值，rst代表阈值结果图像\n",
    "# 像素值大于150的保持不变，小于150的设置为0\n",
    "print('img =\\n', img)\n",
    "print('t =\\n', t)\n",
    "print('rst =\\n', rst)"
   ]
  },
  {
   "cell_type": "code",
   "execution_count": 11,
   "metadata": {},
   "outputs": [],
   "source": [
    "import cv2\n",
    "import numpy as np\n",
    "img = cv2.imread(\"C:\\\\Users\\\\hasee\\\\Desktop\\\\Pictures\\\\Cats\\\\cat5.jpg\", 0)\n",
    "t, rst2 = cv2.threshold(img, 150, 255, cv2.THRESH_TOZERO)\n",
    "cv2.imshow('img', img)\n",
    "cv2.imshow('rst2', rst2)\n",
    "cv2.waitKey()\n",
    "cv2.destroyAllWindows()"
   ]
  },
  {
   "cell_type": "markdown",
   "metadata": {},
   "source": [
    "#### 6.1.5 超阈值零处理"
   ]
  },
  {
   "cell_type": "code",
   "execution_count": 57,
   "metadata": {},
   "outputs": [
    {
     "name": "stdout",
     "output_type": "stream",
     "text": [
      "img =\n",
      " [[109  10  66 119 226]\n",
      " [168 253  40 239 209]\n",
      " [159   4 200 188  67]\n",
      " [ 26 143 235 133  41]]\n",
      "t =\n",
      " 150.0\n",
      "rst =\n",
      " [[109  10  66 119   0]\n",
      " [  0   0  40   0   0]\n",
      " [  0   4   0   0  67]\n",
      " [ 26 143   0 133  41]]\n"
     ]
    }
   ],
   "source": [
    "import cv2\n",
    "import numpy as np\n",
    "img = np.random.randint(0, 255, size = (4, 5), dtype = np.uint8)\n",
    "t, rst = cv2.threshold(img, 150, 255, cv2.THRESH_TOZERO_INV)  # t代表要返回的阈值，rst代表阈值结果图像\n",
    "# 像素值大于150的设置为0，小于150的保持不变\n",
    "print('img =\\n', img)\n",
    "print('t =\\n', t)\n",
    "print('rst =\\n', rst)"
   ]
  },
  {
   "cell_type": "code",
   "execution_count": 12,
   "metadata": {},
   "outputs": [],
   "source": [
    "import cv2\n",
    "import numpy as np\n",
    "img = cv2.imread(\"C:\\\\Users\\\\hasee\\\\Desktop\\\\Pictures\\\\Cats\\\\cat5.jpg\", 0)\n",
    "t, rst2 = cv2.threshold(img, 150, 255, cv2.THRESH_TOZERO_INV)\n",
    "cv2.imshow('img', img)\n",
    "cv2.imshow('rst2', rst2)\n",
    "cv2.waitKey()\n",
    "cv2.destroyAllWindows()"
   ]
  },
  {
   "cell_type": "markdown",
   "metadata": {},
   "source": [
    "#### 6.2 自适应阈值处理"
   ]
  },
  {
   "cell_type": "code",
   "execution_count": 13,
   "metadata": {},
   "outputs": [],
   "source": [
    "import cv2\n",
    "img = cv2.imread(\"C:\\\\Users\\\\hasee\\\\Desktop\\\\Pictures\\\\Cats\\\\cat5.jpg\", 0)\n",
    "t1, rst = cv2.threshold(img, 150, 255, cv2.THRESH_BINARY)\n",
    "athdMEAN = cv2.adaptiveThreshold(img, 255, cv2.ADAPTIVE_THRESH_MEAN_C, cv2.THRESH_BINARY, 5, 3)\n",
    "athdGAUS = cv2.adaptiveThreshold(img, 255, cv2.ADAPTIVE_THRESH_GAUSSIAN_C, cv2.THRESH_BINARY, 5, 3)\n",
    "cv2.imshow('img', img)\n",
    "cv2.imshow('rst', rst)\n",
    "cv2.imshow('athdMEAN', athdMEAN)\n",
    "cv2.imshow('athdGAUS', athdGAUS)\n",
    "cv2.waitKey()\n",
    "cv2.destroyAllWindows()"
   ]
  },
  {
   "cell_type": "markdown",
   "metadata": {},
   "source": [
    "#### 6.3 Otsu处理"
   ]
  },
  {
   "cell_type": "code",
   "execution_count": 17,
   "metadata": {},
   "outputs": [
    {
     "name": "stdout",
     "output_type": "stream",
     "text": [
      "t1 = 127.0\n",
      "t2 = 108.0\n"
     ]
    }
   ],
   "source": [
    "# Otsu会自动遍历所有阈值，从而自动找到最佳阈值\n",
    "import cv2\n",
    "import numpy as np\n",
    "img = cv2.imread(\"C:\\\\Users\\\\hasee\\\\Desktop\\\\Pictures\\\\3S.jpg\", 0)\n",
    "t1, NonOtsu = cv2.threshold(img, 127, 255, cv2.THRESH_BINARY)\n",
    "t2, Otsu = cv2.threshold(img, 0, 255, cv2.THRESH_BINARY + cv2.THRESH_OTSU)\n",
    "# 使用 Otsu 方法时候，要把阈值设置为 0\n",
    "print('t1 =', t1)\n",
    "print('t2 =', t2)\n",
    "cv2.imshow('img', img)\n",
    "cv2.imshow('NonOtsu', NonOtsu)\n",
    "cv2.imshow('Otsu', Otsu)\n",
    "cv2.waitKey()\n",
    "cv2.destroyAllWindows()"
   ]
  },
  {
   "cell_type": "markdown",
   "metadata": {},
   "source": [
    "# 第七章 图像平滑处理"
   ]
  },
  {
   "cell_type": "markdown",
   "metadata": {},
   "source": [
    "####  7.1 均值滤波"
   ]
  },
  {
   "cell_type": "code",
   "execution_count": 20,
   "metadata": {},
   "outputs": [],
   "source": [
    "import cv2\n",
    "img = cv2.imread(\"C:\\\\Users\\\\hasee\\\\Desktop\\\\Pictures\\\\Zaodian.jpg\")\n",
    "r = cv2.blur(img, (3, 3))  # 3 X 3 卷积核 \n",
    "o = cv2.blur(img, (10, 10))  # 10 X 10 卷积核 \n",
    "cv2.imshow('img',img)\n",
    "cv2.imshow('3',r)\n",
    "cv2.imshow('10',o)\n",
    "cv2.waitKey()\n",
    "cv2.destroyAllWindows()"
   ]
  },
  {
   "cell_type": "markdown",
   "metadata": {},
   "source": [
    "#### 7.2 方框滤波"
   ]
  },
  {
   "cell_type": "code",
   "execution_count": 22,
   "metadata": {},
   "outputs": [],
   "source": [
    "import cv2\n",
    "img = cv2.imread(\"C:\\\\Users\\\\hasee\\\\Desktop\\\\Pictures\\\\Zaodian.jpg\")\n",
    "r = cv2.boxFilter(img, -1,  (5, 5),  normalize = 1)  # 5 X 5 卷积核 \n",
    "o = cv2.boxFilter(img, -1,  (10, 10), normalize = 0)  # 10 X 10 卷积核 \n",
    "# -1：表示处理结果的深度，一般使用-1表示与原图像使用相同的图像深度\n",
    "# normalize = 1 表示进行归一化处理，要用领域像素值的和除以面积，相当于均值滤波\n",
    "# normalize = 0 表示不进行归一化处理，不需要用领域像素值的和除以面积，直接使用领域像素值的和\n",
    "cv2.imshow('img',img)\n",
    "cv2.imshow('5',r)\n",
    "cv2.imshow('10',o)\n",
    "cv2.waitKey()\n",
    "cv2.destroyAllWindows()"
   ]
  },
  {
   "cell_type": "markdown",
   "metadata": {},
   "source": [
    "#### 7.3 高斯滤波"
   ]
  },
  {
   "cell_type": "code",
   "execution_count": 1,
   "metadata": {},
   "outputs": [],
   "source": [
    "import cv2\n",
    "img = cv2.imread(\"C:\\\\Users\\\\hasee\\\\Desktop\\\\Pictures\\\\Zaodian.jpg\")\n",
    "r = cv2.GaussianBlur(img, (5, 5), 0, 0)  # 5 X 5 卷积核 \n",
    "# 高斯滤波中心点的权重大，远离中心点的权重减少（第一个0是控制权重比例的参数）\n",
    "cv2.imshow('img',img)\n",
    "cv2.imshow('5',r)\n",
    "cv2.waitKey()\n",
    "cv2.destroyAllWindows()"
   ]
  },
  {
   "cell_type": "markdown",
   "metadata": {},
   "source": [
    "#### 7.4 中值滤波"
   ]
  },
  {
   "cell_type": "code",
   "execution_count": 2,
   "metadata": {},
   "outputs": [],
   "source": [
    "import cv2\n",
    "img = cv2.imread(\"C:\\\\Users\\\\hasee\\\\Desktop\\\\Pictures\\\\Zaodian.jpg\")\n",
    "r = cv2.medianBlur(img, 3) \n",
    "# 用领域内所有像素的中间值表示\n",
    "cv2.imshow('img',img)\n",
    "cv2.imshow('r',r)\n",
    "cv2.waitKey()\n",
    "cv2.destroyAllWindows()"
   ]
  },
  {
   "cell_type": "code",
   "execution_count": 25,
   "metadata": {},
   "outputs": [],
   "source": [
    "import cv2\n",
    "img = cv2.imread(\"C:\\\\Users\\\\jiangyu\\\\Desktop\\\\Pictures\\\\Zaodian2.jpg\")\n",
    "r = cv2.medianBlur(img, 3) \n",
    "# 用领域内所有像素的中间值表示\n",
    "cv2.imshow('img',img)\n",
    "cv2.imshow('r',r)\n",
    "cv2.waitKey()\n",
    "cv2.destroyAllWindows()"
   ]
  },
  {
   "cell_type": "markdown",
   "metadata": {},
   "source": [
    "#### 7.5 双边滤波"
   ]
  },
  {
   "cell_type": "code",
   "execution_count": 6,
   "metadata": {},
   "outputs": [],
   "source": [
    "import cv2\n",
    "img = cv2.imread(\"C:\\\\Users\\\\hasee\\\\Desktop\\\\Pictures\\\\Zaodian.jpg\")\n",
    "r = cv2.bilateralFilter(img, 25, 100, 100) \n",
    "cv2.imshow('img',img)\n",
    "cv2.imshow('r',r)\n",
    "cv2.waitKey()\n",
    "cv2.destroyAllWindows()"
   ]
  },
  {
   "cell_type": "markdown",
   "metadata": {},
   "source": [
    "#### 7.6 2D 卷积"
   ]
  },
  {
   "cell_type": "code",
   "execution_count": 21,
   "metadata": {},
   "outputs": [],
   "source": [
    "import cv2\n",
    "import numpy as np\n",
    "img = cv2.imread(\"C:\\\\Users\\\\hasee\\\\Desktop\\\\Pictures\\\\Zaodian.jpg\")\n",
    "kernel = np.ones((5, 5), np.float32) / 30\n",
    "r = cv2.filter2D(img, -1, kernel)\n",
    "cv2.imshow('img',img)\n",
    "cv2.imshow('r',r)\n",
    "cv2.waitKey()\n",
    "cv2.destroyAllWindows()"
   ]
  },
  {
   "cell_type": "markdown",
   "metadata": {},
   "source": [
    "# 第八章 形态学操作"
   ]
  },
  {
   "cell_type": "markdown",
   "metadata": {},
   "source": [
    "#### 8.1 腐蚀"
   ]
  },
  {
   "cell_type": "code",
   "execution_count": 1,
   "metadata": {},
   "outputs": [
    {
     "name": "stdout",
     "output_type": "stream",
     "text": [
      "img =\n",
      " [[0 0 0 0 0]\n",
      " [0 1 1 1 0]\n",
      " [0 1 1 1 0]\n",
      " [0 1 1 1 0]\n",
      " [0 0 0 0 0]]\n",
      "kernel =\n",
      " [[1]\n",
      " [1]\n",
      " [1]]\n",
      "erosion =\n",
      " [[0 0 0 0 0]\n",
      " [0 0 0 0 0]\n",
      " [0 1 1 1 0]\n",
      " [0 0 0 0 0]\n",
      " [0 0 0 0 0]]\n"
     ]
    }
   ],
   "source": [
    "import cv2\n",
    "import numpy as np\n",
    "img = np.zeros((5, 5), dtype = np.uint8)\n",
    "img[1:4, 1:4] = 1\n",
    "kernel = np.ones((3, 1), dtype = np.uint8)\n",
    "erosion = cv2.erode(img, kernel)\n",
    "print('img =\\n', img)\n",
    "print('kernel =\\n', kernel)\n",
    "print('erosion =\\n', erosion)"
   ]
  },
  {
   "cell_type": "code",
   "execution_count": 7,
   "metadata": {},
   "outputs": [],
   "source": [
    "import cv2\n",
    "import numpy as np\n",
    "img = cv2.imread(\"C:\\\\Users\\\\hasee\\\\Desktop\\\\Pictures\\\\Dige.jpg\")\n",
    "kernel = np.ones((3, 3), dtype = np.uint8)\n",
    "erode_1 = cv2.erode(img, kernel, iterations = 1)\n",
    "erode_2 = cv2.erode(img, kernel, iterations = 2)\n",
    "erode_3 = cv2.erode(img, kernel, iterations = 3)\n",
    "res3 = np.hstack((erode_1, erode_2, erode_3))\n",
    "cv2.imshow('res3',res3)  # 第一个res3是打开图片时框框左上角的标题，第二个res3是要打开的文本名称\n",
    "cv2.imshow('img',img)\n",
    "cv2.waitKey()\n",
    "cv2.destroyAllWindows()"
   ]
  },
  {
   "cell_type": "code",
   "execution_count": 5,
   "metadata": {},
   "outputs": [
    {
     "name": "stdout",
     "output_type": "stream",
     "text": [
      "img =\n",
      " [[0 0 0 0 0 0]\n",
      " [0 1 1 1 1 0]\n",
      " [0 1 1 1 1 0]\n",
      " [0 1 1 1 1 0]\n",
      " [0 1 1 1 1 0]\n",
      " [0 0 0 0 0 0]]\n",
      "kernel =\n",
      " [[1]\n",
      " [1]\n",
      " [1]]\n",
      "erosion =\n",
      " [[0 0 0 0 0 0]\n",
      " [0 0 0 0 0 0]\n",
      " [0 1 1 1 1 0]\n",
      " [0 1 1 1 1 0]\n",
      " [0 0 0 0 0 0]\n",
      " [0 0 0 0 0 0]]\n"
     ]
    }
   ],
   "source": [
    "import cv2\n",
    "import numpy as np\n",
    "img = np.zeros((6, 6), dtype = np.uint8)\n",
    "img[1:5, 1:5] = 1\n",
    "kernel = np.ones((3, 1), dtype = np.uint8)\n",
    "erosion = cv2.erode(img, kernel)\n",
    "print('img =\\n', img)\n",
    "print('kernel =\\n', kernel)\n",
    "print('erosion =\\n', erosion)"
   ]
  },
  {
   "cell_type": "markdown",
   "metadata": {},
   "source": [
    "#### 8.2 膨胀"
   ]
  },
  {
   "cell_type": "code",
   "execution_count": 12,
   "metadata": {},
   "outputs": [
    {
     "name": "stdout",
     "output_type": "stream",
     "text": [
      "img =\n",
      " [[0 0 0 0 0]\n",
      " [0 1 1 1 0]\n",
      " [0 1 1 1 0]\n",
      " [0 1 1 1 0]\n",
      " [0 0 0 0 0]]\n",
      "kernel =\n",
      " [[1]\n",
      " [1]\n",
      " [1]]\n",
      "dilate =\n",
      " [[0 1 1 1 0]\n",
      " [0 1 1 1 0]\n",
      " [0 1 1 1 0]\n",
      " [0 1 1 1 0]\n",
      " [0 1 1 1 0]]\n"
     ]
    }
   ],
   "source": [
    "import cv2\n",
    "import numpy as np\n",
    "img = np.zeros((5, 5), dtype = np.uint8)\n",
    "img[1:4, 1:4] = 1\n",
    "kernel = np.ones((3, 1), dtype = np.uint8)\n",
    "dilate = cv2.dilate(img, kernel)\n",
    "print('img =\\n', img)\n",
    "print('kernel =\\n', kernel)\n",
    "print('dilate =\\n', dilate)"
   ]
  },
  {
   "cell_type": "code",
   "execution_count": 13,
   "metadata": {},
   "outputs": [
    {
     "name": "stdout",
     "output_type": "stream",
     "text": [
      "img =\n",
      " [[0 0 0 0 0 0]\n",
      " [0 1 1 1 1 0]\n",
      " [0 1 1 1 1 0]\n",
      " [0 1 1 1 1 0]\n",
      " [0 1 1 1 1 0]\n",
      " [0 0 0 0 0 0]]\n",
      "kernel =\n",
      " [[1]\n",
      " [1]\n",
      " [1]]\n",
      "dilate =\n",
      " [[0 1 1 1 1 0]\n",
      " [0 1 1 1 1 0]\n",
      " [0 1 1 1 1 0]\n",
      " [0 1 1 1 1 0]\n",
      " [0 1 1 1 1 0]\n",
      " [0 1 1 1 1 0]]\n"
     ]
    }
   ],
   "source": [
    "import cv2\n",
    "import numpy as np\n",
    "img = np.zeros((6, 6), dtype = np.uint8)\n",
    "img[1:5, 1:5] = 1\n",
    "kernel = np.ones((3, 1), dtype = np.uint8)\n",
    "dilate = cv2.dilate(img, kernel)\n",
    "print('img =\\n', img)\n",
    "print('kernel =\\n', kernel)\n",
    "print('dilate =\\n', dilate)"
   ]
  },
  {
   "cell_type": "code",
   "execution_count": 8,
   "metadata": {},
   "outputs": [],
   "source": [
    "import cv2\n",
    "import numpy as np\n",
    "img = cv2.imread(\"C:\\\\Users\\\\hasee\\\\Desktop\\\\Pictures\\\\Dige.jpg\")\n",
    "kernel = np.ones((3, 3), dtype = np.uint8)\n",
    "dilate_1 = cv2.dilate(img, kernel,iterations = 1)\n",
    "dilate_2 = cv2.dilate(img, kernel,iterations = 2)\n",
    "dilate_3 = cv2.dilate(img, kernel,iterations = 3)\n",
    "res3 = np.hstack((dilate_1, dilate_2, dilate_3))\n",
    "cv2.imshow('res3',res3)  # 第一个res3是打开图片时框框左上角的标题，第二个res3是要打开的文本名称\n",
    "cv2.imshow('img',img)\n",
    "cv2.waitKey()\n",
    "cv2.destroyAllWindows()"
   ]
  },
  {
   "cell_type": "markdown",
   "metadata": {},
   "source": [
    "#### 8.4 开运算 - (先腐蚀后膨胀：dilate(erode(src))"
   ]
  },
  {
   "cell_type": "code",
   "execution_count": 9,
   "metadata": {},
   "outputs": [],
   "source": [
    "import cv2\n",
    "import numpy as np\n",
    "img = cv2.imread(\"C:\\\\Users\\\\hasee\\\\Desktop\\\\Pictures\\\\Dige.jpg\")\n",
    "kernel = np.ones((3, 3), dtype = np.uint8)\n",
    "Open = cv2.morphologyEx(img, cv2.MORPH_OPEN, kernel)\n",
    "cv2.imshow('img', img)\n",
    "cv2.imshow('Open',Open)\n",
    "cv2.waitKey()\n",
    "cv2.destroyAllWindows()"
   ]
  },
  {
   "cell_type": "markdown",
   "metadata": {},
   "source": [
    "#### 8.5 闭运算 - (先膨胀后腐蚀：erode(dilate(src)))"
   ]
  },
  {
   "cell_type": "code",
   "execution_count": 10,
   "metadata": {},
   "outputs": [],
   "source": [
    "import cv2\n",
    "import numpy as np\n",
    "img = cv2.imread(\"C:\\\\Users\\\\hasee\\\\Desktop\\\\Pictures\\\\Dige.jpg\")\n",
    "kernel = np.ones((3, 3), dtype = np.uint8)\n",
    "Close = cv2.morphologyEx(img, cv2.MORPH_CLOSE, kernel, iterations = 3)\n",
    "cv2.imshow('img', img)\n",
    "cv2.imshow('Close',Close)\n",
    "cv2.waitKey()\n",
    "cv2.destroyAllWindows()"
   ]
  },
  {
   "cell_type": "markdown",
   "metadata": {},
   "source": [
    "#### 8.6 形态学梯度运算 - (膨胀减去腐蚀：dilate(src) - erode(src))"
   ]
  },
  {
   "cell_type": "code",
   "execution_count": 11,
   "metadata": {},
   "outputs": [],
   "source": [
    "import cv2\n",
    "import numpy as np\n",
    "img = cv2.imread(\"C:\\\\Users\\\\hasee\\\\Desktop\\\\Pictures\\\\Dige.jpg\")\n",
    "kernel = np.ones((4, 4), dtype = np.uint8)\n",
    "r = cv2.morphologyEx(img, cv2.MORPH_GRADIENT, kernel, iterations = 1)\n",
    "cv2.imshow('img', img)\n",
    "cv2.imshow('r',r)\n",
    "cv2.waitKey()\n",
    "cv2.destroyAllWindows()"
   ]
  },
  {
   "cell_type": "markdown",
   "metadata": {},
   "source": [
    "#### 8.7 礼帽运算(顶帽运算) - (原始图像减去开运算：(src) - Open(src))"
   ]
  },
  {
   "cell_type": "code",
   "execution_count": 12,
   "metadata": {},
   "outputs": [],
   "source": [
    "import cv2\n",
    "import numpy as np\n",
    "img = cv2.imread(\"C:\\\\Users\\\\hasee\\\\Desktop\\\\Pictures\\\\Dige.jpg\")\n",
    "kernel = np.ones((4, 4), dtype = np.uint8)\n",
    "TOP = cv2.morphologyEx(img, cv2.MORPH_TOPHAT, kernel, iterations = 1)\n",
    "cv2.imshow('img', img)\n",
    "cv2.imshow('TOP', TOP)\n",
    "cv2.waitKey()\n",
    "cv2.destroyAllWindows()"
   ]
  },
  {
   "cell_type": "markdown",
   "metadata": {},
   "source": [
    "#### 8.8 黑帽运算 - (闭运算减去原始图像：dilate(src) - (src))"
   ]
  },
  {
   "cell_type": "code",
   "execution_count": 13,
   "metadata": {},
   "outputs": [],
   "source": [
    "import cv2\n",
    "import numpy as np\n",
    "img = cv2.imread(\"C:\\\\Users\\\\hasee\\\\Desktop\\\\Pictures\\\\Dige.jpg\")\n",
    "kernel = np.ones((4, 4), dtype = np.uint8)\n",
    "Black = cv2.morphologyEx(img, cv2.MORPH_BLACKHAT, kernel, iterations = 1)\n",
    "cv2.imshow('img', img)\n",
    "cv2.imshow('BLACK', Black)\n",
    "cv2.waitKey()\n",
    "cv2.destroyAllWindows()"
   ]
  },
  {
   "cell_type": "markdown",
   "metadata": {},
   "source": [
    "# 第九章 图像梯度"
   ]
  },
  {
   "cell_type": "markdown",
   "metadata": {},
   "source": [
    "#### 9.1 Sobel理论基础"
   ]
  },
  {
   "cell_type": "code",
   "execution_count": 7,
   "metadata": {},
   "outputs": [],
   "source": [
    "# Sobel 算子是一种离散的微分算子，该算子结合了高斯平滑和微分求导运算"
   ]
  },
  {
   "cell_type": "markdown",
   "metadata": {},
   "source": [
    "#### 9.2 Sobel算子及函数应用"
   ]
  },
  {
   "cell_type": "code",
   "execution_count": 3,
   "metadata": {},
   "outputs": [],
   "source": [
    "import cv2\n",
    "import matplotlib.pyplot as plt\n",
    "import numpy as np\n",
    "%matplotlib inline\n",
    "def cv_show(img, name):\n",
    "    cv2.imshow(name, img)\n",
    "    cv2.waitKey()\n",
    "    cv2.destroyAllWindows()"
   ]
  },
  {
   "cell_type": "code",
   "execution_count": 5,
   "metadata": {},
   "outputs": [],
   "source": [
    "img = cv2.imread(\"C:\\\\Users\\\\hasee\\\\Desktop\\\\Pictures\\\\pie.jpg\", cv2.IMREAD_GRAYSCALE)\n",
    "sobelx = cv2.Sobel(img, cv2.CV_64F, 1, 0, ksize = 3)\n",
    "cv_show(sobelx, 'sobelx')"
   ]
  },
  {
   "cell_type": "code",
   "execution_count": 8,
   "metadata": {},
   "outputs": [],
   "source": [
    "sobelx = cv2.Sobel(img, cv2.CV_64F, 1, 0, ksize = 3)\n",
    "sobelx = cv2.convertScaleAbs(sobelx)\n",
    "cv_show(sobelx, 'sobelx')"
   ]
  },
  {
   "cell_type": "code",
   "execution_count": 9,
   "metadata": {},
   "outputs": [],
   "source": [
    "sobely = cv2.Sobel(img, cv2.CV_64F, 0, 1, ksize = 3)\n",
    "sobely = cv2.convertScaleAbs(sobely)\n",
    "cv_show(sobely, 'sobely')"
   ]
  },
  {
   "cell_type": "code",
   "execution_count": 12,
   "metadata": {},
   "outputs": [],
   "source": [
    "# 分别计算 x 和 y ，然后再求和\n",
    "sobelxy = cv2.addWeighted(sobelx, 0.4, sobely, 0.4,0)\n",
    "cv_show (sobelxy, 'sobelxy')"
   ]
  },
  {
   "cell_type": "code",
   "execution_count": 15,
   "metadata": {},
   "outputs": [],
   "source": [
    "# 不建议直接计算\n",
    "img = cv2.imread(\"C:\\\\Users\\\\hasee\\\\Desktop\\\\Pictures\\\\medianFlur.png\", 0)\n",
    "cv_show(img, 'img')"
   ]
  },
  {
   "cell_type": "code",
   "execution_count": 19,
   "metadata": {},
   "outputs": [],
   "source": [
    "sobelx = cv2.Sobel(img, cv2.CV_64F, 1, 0, ksize = 3)\n",
    "sobelx = cv2.convertScaleAbs(sobelx)\n",
    "cv_show(sobelx, 'sobelx')\n",
    "sobely = cv2.Sobel(img, cv2.CV_64F, 0, 1, ksize = 3)\n",
    "sobely = cv2.convertScaleAbs(sobely)\n",
    "cv_show(sobely, 'sobely')\n",
    "sobelxy = cv2.addWeighted(sobelx, 0.5, sobely, 0.5,0)\n",
    "cv_show (sobelxy, 'sobelxy')"
   ]
  },
  {
   "cell_type": "code",
   "execution_count": 20,
   "metadata": {},
   "outputs": [],
   "source": [
    "# 直接计算xy，效果不好\n",
    "sobelxy = cv2.Sobel(img, cv2.CV_64F, 1, 1, ksize = 3)\n",
    "sobelxy = cv2.convertScaleAbs(sobelxy)\n",
    "cv_show(sobelxy, 'sobelxy')"
   ]
  },
  {
   "cell_type": "markdown",
   "metadata": {},
   "source": [
    "#### 9.3 Scharr算子及函数使用"
   ]
  },
  {
   "cell_type": "code",
   "execution_count": 21,
   "metadata": {},
   "outputs": [],
   "source": [
    "# scharr 算子就是对 sobel 算子的改进"
   ]
  },
  {
   "cell_type": "markdown",
   "metadata": {},
   "source": [
    "#### 9.4 Laplacian算子及函数使用"
   ]
  },
  {
   "cell_type": "code",
   "execution_count": 22,
   "metadata": {},
   "outputs": [],
   "source": [
    "# 一种二阶导数算子"
   ]
  },
  {
   "cell_type": "markdown",
   "metadata": {},
   "source": [
    "#### 9.5 不同算子对比"
   ]
  },
  {
   "cell_type": "code",
   "execution_count": 23,
   "metadata": {},
   "outputs": [],
   "source": [
    "# 不同算子的差异\n",
    "img = cv2.imread(\"C:\\\\Users\\\\hasee\\\\Desktop\\\\Pictures\\\\Cats\\\\cat4.jpg\")\n",
    "sobelx = cv2.Sobel(img, cv2.CV_64F, 1, 0, ksize = 3)\n",
    "sobely = cv2.Sobel(img, cv2.CV_64F, 0, 1, ksize = 3)\n",
    "sobelx = cv2.convertScaleAbs(sobelx)\n",
    "sobely = cv2.convertScaleAbs(sobely)\n",
    "sobelxy = cv2.addWeighted(sobelx, 0.5, sobely, 0.5, 0)\n",
    "\n",
    "scharrx = cv2.Scharr(img, cv2.CV_64F, 1, 0)\n",
    "scharry = cv2.Scharr(img, cv2.CV_64F, 0, 1)\n",
    "scharrx = cv2.convertScaleAbs(scharrx)\n",
    "scharry = cv2.convertScaleAbs(scharry)\n",
    "scharrxy = cv2.addWeighted(scharrx, 0.5, scharry, 0.5, 0)\n",
    "\n",
    "laplacian = cv2.Laplacian(img, cv2.CV_64F)\n",
    "laplacian = cv2.convertScaleAbs(laplacian)\n",
    "\n",
    "res = np.hstack((img, sobelxy, scharrxy, laplacian))\n",
    "cv2.imshow(\"res\", res)\n",
    "cv2.waitKey(0)\n",
    "cv2.destroyAllWindows()"
   ]
  },
  {
   "cell_type": "markdown",
   "metadata": {},
   "source": [
    "# 第十章 Canny边缘检测"
   ]
  },
  {
   "cell_type": "markdown",
   "metadata": {},
   "source": [
    "#### 10.1 Canny边缘检测基础"
   ]
  },
  {
   "cell_type": "markdown",
   "metadata": {},
   "source": [
    "#### 10.2 Canny函数及其应用"
   ]
  },
  {
   "cell_type": "code",
   "execution_count": 24,
   "metadata": {},
   "outputs": [],
   "source": [
    "import cv2\n",
    "img = cv2.imread(\"C:\\\\Users\\\\hasee\\\\Desktop\\\\Pictures\\\\Cats\\\\cat0.jpg\", -1)\n",
    "r1 = cv2.Canny(img, 128, 200)  # 128是下阈值， 200是上阈值\n",
    "r2 = cv2.Canny(img, 32, 128)\n",
    "cv2.imshow('img', img)\n",
    "cv2.imshow('r1', r1)\n",
    "cv2.imshow('r2', r2)\n",
    "cv2.waitKey()\n",
    "cv2.destroyAllWindows()"
   ]
  },
  {
   "cell_type": "markdown",
   "metadata": {},
   "source": [
    "# 第十一章 图像金字塔"
   ]
  },
  {
   "cell_type": "markdown",
   "metadata": {},
   "source": [
    "#### 11.1 理论基础"
   ]
  },
  {
   "cell_type": "markdown",
   "metadata": {},
   "source": [
    "#### 11.2 pyrDown函数及其应用"
   ]
  },
  {
   "cell_type": "code",
   "execution_count": 20,
   "metadata": {},
   "outputs": [
    {
     "name": "stdout",
     "output_type": "stream",
     "text": [
      "img.shape =\n",
      " (900, 1440, 3)\n",
      "r1.shape =\n",
      " (450, 720, 3)\n",
      "r2.shape =\n",
      " (225, 360, 3)\n"
     ]
    }
   ],
   "source": [
    "import cv2\n",
    "import numpy as np\n",
    "img = cv2.imread(\"C:\\\\Users\\\\hasee\\\\Desktop\\\\Pictures\\\\Cats\\\\cat1.jpg\", -1)\n",
    "r1 = cv2.pyrDown(img)\n",
    "r2 = cv2.pyrDown(r1)\n",
    "print('img.shape =\\n', img.shape)\n",
    "print('r1.shape =\\n', r1.shape)\n",
    "print('r2.shape =\\n', r2.shape)\n",
    "cv2.imshow('img', img)\n",
    "cv2.imshow('r1', r1)\n",
    "cv2.imshow('r2', r2)\n",
    "cv2.waitKey()\n",
    "cv2.destroyAllWindows()"
   ]
  },
  {
   "cell_type": "markdown",
   "metadata": {},
   "source": [
    "#### 11.3 pyrUp函数及其应用"
   ]
  },
  {
   "cell_type": "code",
   "execution_count": 28,
   "metadata": {},
   "outputs": [
    {
     "name": "stdout",
     "output_type": "stream",
     "text": [
      "img.shape =\n",
      " (900, 1440, 3)\n",
      "r1.shape =\n",
      " (1800, 2880, 3)\n",
      "r2.shape =\n",
      " (3600, 5760, 3)\n"
     ]
    }
   ],
   "source": [
    "import cv2\n",
    "import numpy as np\n",
    "img = cv2.imread(\"C:\\\\Users\\\\hasee\\\\Desktop\\\\Pictures\\\\Cats\\\\cat1.jpg\", -1)\n",
    "r1 = cv2.pyrUp(img)\n",
    "r2 = cv2.pyrUp(r1)\n",
    "print('img.shape =\\n', img.shape)\n",
    "print('r1.shape =\\n', r1.shape)\n",
    "print('r2.shape =\\n', r2.shape)\n",
    "cv2.imshow('img', img)\n",
    "cv2.imshow('r1', r1)\n",
    "cv2.imshow('r2', r2)\n",
    "cv2.waitKey()\n",
    "cv2.destroyAllWindows()"
   ]
  },
  {
   "cell_type": "code",
   "execution_count": 2,
   "metadata": {},
   "outputs": [
    {
     "name": "stdout",
     "output_type": "stream",
     "text": [
      "img.shape =\n",
      " (900, 1440, 3)\n",
      "r1.shape =\n",
      " (1800, 2880, 3)\n",
      "r2.shape =\n",
      " (900, 1440, 3)\n"
     ]
    }
   ],
   "source": [
    "import cv2\n",
    "import numpy as np\n",
    "img = cv2.imread(\"C:\\\\Users\\\\hasee\\\\Desktop\\\\Pictures\\\\Cats\\\\cat1.jpg\", -1)\n",
    "r1 = cv2.pyrUp(img)\n",
    "r2 = cv2.pyrDown(r1)\n",
    "print('img.shape =\\n', img.shape)\n",
    "print('r1.shape =\\n', r1.shape)\n",
    "print('r2.shape =\\n', r2.shape)\n",
    "cv2.imshow('img', img)\n",
    "cv2.imshow('pyrup', r1)\n",
    "cv2.imshow('pyrdown', r2)\n",
    "cv2.waitKey()\n",
    "cv2.destroyAllWindows()"
   ]
  },
  {
   "cell_type": "markdown",
   "metadata": {},
   "source": [
    "# 第十二章 图像轮廓"
   ]
  },
  {
   "cell_type": "markdown",
   "metadata": {},
   "source": [
    "#### 12.1 查找并绘制轮廓"
   ]
  },
  {
   "cell_type": "code",
   "execution_count": 19,
   "metadata": {},
   "outputs": [],
   "source": [
    "import cv2\n",
    "img = cv2.imread(\"C:\\\\Users\\\\hasee\\\\Desktop\\\\Pictures\\\\LunKuo.png\")\n",
    "cv2.imshow('img', img)\n",
    "gray = cv2.cvtColor(img, cv2.COLOR_BGR2GRAY)  # 色彩转换\n",
    "ret, binary = cv2.threshold(gray, 127, 255, cv2.THRESH_BINARY)  # 阈值处理\n",
    "contours, hierarchy = cv2.findContours(binary, cv2.RETR_EXTERNAL, cv2.CHAIN_APPROX_SIMPLE)  # 找到轮廓\n",
    "# contours:返回一组轮廓信息,  hierarchy：返回轮廓层次\n",
    "img1 = cv2.drawContours(img, contours, -1, (0, 0, 255), 4)  # -1 表示绘制出了全部轮廓\n",
    "cv2.imshow('result', img1) \n",
    "cv2.waitKey()\n",
    "cv2.destroyAllWindows()"
   ]
  },
  {
   "cell_type": "code",
   "execution_count": 17,
   "metadata": {},
   "outputs": [],
   "source": [
    "import cv2\n",
    "import numpy as np\n",
    "img = cv2.imread(\"C:\\\\Users\\\\jiangyu\\\\Desktop\\\\Pictures\\\\LunKuo.png\")\n",
    "cv2.imshow('img', img)\n",
    "gray = cv2.cvtColor(img, cv2.COLOR_BGR2GRAY)  # 色彩转换\n",
    "ret, binary = cv2.threshold(gray, 127, 255, cv2.THRESH_BINARY)  # 阈值处理\n",
    "contours, hierarchy = cv2.findContours(binary, cv2.RETR_EXTERNAL, cv2.CHAIN_APPROX_SIMPLE)  # 找到轮廓\n",
    "# contours:返回一组轮廓信息,  hierarchy：返回轮廓层次\n",
    "n = len(contours)\n",
    "contoursImg = []\n",
    "for i in range(n):\n",
    "    temp = np.zeros(img.shape, dtype = np.uint8)  #  创建一个黑色背景图\n",
    "    contoursImg.append(temp)\n",
    "    contoursImg[i] = cv2.drawContours(contoursImg[i], contours, i, (0, 0, 255), 4)\n",
    "    cv2.imshow('contours[' + str(i) + ']', contoursImg[i])\n",
    "cv2.waitKey()\n",
    "cv2.destroyAllWindows()"
   ]
  },
  {
   "cell_type": "markdown",
   "metadata": {},
   "source": [
    "#### 12.2 矩特征"
   ]
  },
  {
   "cell_type": "code",
   "execution_count": 18,
   "metadata": {},
   "outputs": [
    {
     "name": "stdout",
     "output_type": "stream",
     "text": [
      "观察各个轮廓的矩(moment):\n",
      "轮廓0的矩:\n",
      " {'m00': 78507.0, 'm10': 49655677.5, 'm01': 38036641.5, 'm20': 34352805201.0, 'm11': 24058175748.75, 'm02': 18518309667.0, 'm30': 25454319605178.75, 'm21': 16643934119884.5, 'm12': 11712830864377.5, 'm03': 9058901631243.75, 'mu20': 2945589182.25, 'mu11': 0.0, 'mu02': 89556860.25, 'mu30': 0.0, 'mu21': 0.0, 'mu12': 0.0, 'mu03': 0.0, 'nu20': 0.4779202279202279, 'nu11': 0.0, 'nu02': 0.014530551415797318, 'nu30': 0.0, 'nu21': 0.0, 'nu12': 0.0, 'nu03': 0.0}\n",
      "轮廓1的矩:\n",
      " {'m00': 34500.0, 'm10': 4812750.0, 'm01': 17802000.0, 'm20': 709400500.0, 'm11': 2483379000.0, 'm02': 9444582000.0, 'm30': 109569472875.0, 'm21': 366050658000.0, 'm12': 1317519189000.0, 'm03': 5140434312000.0, 'mu20': 38021875.0, 'mu11': 0.0, 'mu02': 258750000.0, 'mu30': 0.0, 'mu21': 0.0, 'mu12': 0.0, 'mu03': 0.0, 'nu20': 0.03194444444444444, 'nu11': 0.0, 'nu02': 0.21739130434782608, 'nu30': 0.0, 'nu21': 0.0, 'nu12': 0.0, 'nu03': 0.0}\n",
      "轮廓2的矩:\n",
      " {'m00': 22386.0, 'm10': 4521972.0, 'm01': 4398849.0, 'm20': 975231166.0, 'm11': 888567498.0, 'm02': 892596978.0, 'm30': 221960995620.0, 'm21': 191632924119.0, 'm12': 180304589556.0, 'm03': 186487003930.5, 'mu20': 61792822.0, 'mu11': 0.0, 'mu02': 28223149.5, 'mu30': 0.0, 'mu21': 0.0, 'mu12': 0.0, 'mu03': 0.0, 'nu20': 0.12330623306233061, 'nu11': 0.0, 'nu02': 0.05631868131868131, 'nu30': 0.0, 'nu21': 0.0, 'nu12': 0.0, 'nu03': 0.0}\n",
      "轮廓3的矩:\n",
      " {'m00': 50685.0, 'm10': 31095247.5, 'm01': 7982887.5, 'm20': 19528575705.0, 'm11': 4897501481.25, 'm02': 1358780375.0, 'm30': 12534945148338.75, 'm21': 3075750673537.5, 'm12': 833611760062.5, 'm03': 245972721093.75, 'mu20': 451641363.75, 'mu11': 0.0, 'mu02': 101475593.75, 'mu30': 0.0, 'mu21': 0.0, 'mu12': 0.0, 'mu03': 0.0, 'nu20': 0.17580645161290323, 'nu11': 0.0, 'nu02': 0.039500509683995925, 'nu30': 0.0, 'nu21': 0.0, 'nu12': 0.0, 'nu03': 0.0}\n",
      "观察各个轮廓的面积:\n",
      "轮廓0的面积是：78507.0\n",
      "轮廓1的面积是：34500.0\n",
      "轮廓2的面积是：22386.0\n",
      "轮廓3的面积是：50685.0\n"
     ]
    }
   ],
   "source": [
    "# 矩特征函数可以用来判别两个轮廓是否相似，在模式识别和图像识别应用广泛\n",
    "import cv2\n",
    "import numpy as np\n",
    "img = cv2.imread(\"C:\\\\Users\\\\jiangyu\\\\Desktop\\\\Pictures\\\\LunKuo.png\")\n",
    "cv2.imshow('img', img)\n",
    "gray = cv2.cvtColor(img, cv2.COLOR_BGR2GRAY)  # 色彩转换\n",
    "ret, binary = cv2.threshold(gray, 127, 255, cv2.THRESH_BINARY)  # 阈值处理\n",
    "contours, hierarchy = cv2.findContours(binary, cv2.RETR_EXTERNAL, cv2.CHAIN_APPROX_SIMPLE)  # 找到轮廓\n",
    "# contours:返回一组轮廓信息,  hierarchy：返回轮廓层次\n",
    "n = len(contours)\n",
    "contoursImg = []\n",
    "for i in range(n):\n",
    "    temp = np.zeros(img.shape, dtype = np.uint8)  #  创建一个黑色背景图\n",
    "    contoursImg.append(temp)\n",
    "    contoursImg[i] = cv2.drawContours(contoursImg[i], contours, i, (0, 255, 0), 4)\n",
    "    cv2.imshow('contours[' + str(i) + ']', contoursImg[i])\n",
    "print('观察各个轮廓的矩(moment):')\n",
    "for i in range(n):\n",
    "    print('轮廓' + str(i) + '的矩:\\n', cv2.moments(contours[i]))\n",
    "print('观察各个轮廓的面积:')\n",
    "for i in range(n):\n",
    "    print(f\"轮廓{i}的面积是：{cv2.moments(contours[i])['m00']}\")\n",
    "cv2.waitKey()\n",
    "cv2.destroyAllWindows()"
   ]
  },
  {
   "cell_type": "code",
   "execution_count": 7,
   "metadata": {},
   "outputs": [
    {
     "name": "stdout",
     "output_type": "stream",
     "text": [
      "contours[0]面积是:78507.0\n",
      "contours[1]面积是:34500.0\n",
      "contours[2]面积是:22386.0\n",
      "contours[3]面积是:50685.0\n"
     ]
    }
   ],
   "source": [
    "# 计算轮廓面积  cv2.contourArea()\n",
    "import cv2\n",
    "import numpy as np\n",
    "img = cv2.imread(\"C:\\\\Users\\\\jiangyu\\\\Desktop\\\\Pictures\\\\LunKuo.png\")\n",
    "cv2.imshow('img', img)\n",
    "gray = cv2.cvtColor(img, cv2.COLOR_BGR2GRAY)  # 色彩转换\n",
    "ret, binary = cv2.threshold(gray, 127, 255, cv2.THRESH_BINARY)  # 阈值处理\n",
    "contours, hierarchy = cv2.findContours(binary, cv2.RETR_EXTERNAL, cv2.CHAIN_APPROX_SIMPLE)  # 找到轮廓\n",
    "# contours:返回一组轮廓信息,  hierarchy：返回轮廓层次\n",
    "n = len(contours)\n",
    "contoursImg = []\n",
    "for i in range(n):\n",
    "    print(f\"contours[{i}]面积是:{cv2.contourArea(contours[i])}\")\n",
    "    temp = np.zeros(img.shape, dtype = np.uint8)  #  创建一个黑色背景图\n",
    "    contoursImg.append(temp)\n",
    "    contoursImg[i] = cv2.drawContours(contoursImg[i], contours, i, (0, 0, 255), 4)\n",
    "    cv2.imshow(f\"contours[{i}]\", contoursImg[i])\n",
    "cv2.waitKey()\n",
    "cv2.destroyAllWindows()"
   ]
  },
  {
   "cell_type": "code",
   "execution_count": 10,
   "metadata": {},
   "outputs": [
    {
     "name": "stdout",
     "output_type": "stream",
     "text": [
      "contours[0]面积是:78507.0\n",
      "contours[3]面积是:50685.0\n"
     ]
    }
   ],
   "source": [
    "import cv2\n",
    "import numpy as np\n",
    "img = cv2.imread(\"C:\\\\Users\\\\jiangyu\\\\Desktop\\\\Pictures\\\\LunKuo.png\")\n",
    "cv2.imshow('img', img)\n",
    "gray = cv2.cvtColor(img, cv2.COLOR_BGR2GRAY)  # 色彩转换\n",
    "ret, binary = cv2.threshold(gray, 127, 255, cv2.THRESH_BINARY)  # 阈值处理\n",
    "contours, hierarchy = cv2.findContours(binary, cv2.RETR_EXTERNAL, cv2.CHAIN_APPROX_SIMPLE)  # 找到轮廓\n",
    "# contours:返回一组轮廓信息,  hierarchy：返回轮廓层次\n",
    "n = len(contours)\n",
    "contoursImg = []\n",
    "for i in range(n):\n",
    "    temp = np.zeros(img.shape, dtype = np.uint8)  #  创建一个黑色背景图\n",
    "    contoursImg.append(temp)\n",
    "    contoursImg[i] = cv2.drawContours(contoursImg[i], contours, i, (0, 0, 255), 4)\n",
    "    \n",
    "    if cv2.contourArea(contours[i]) > 50000:  # 将轮廓面积大于 50000 的筛选出来\n",
    "        cv2.imshow(f\"contours[{i}]\", contoursImg[i])\n",
    "        print(f\"contours[{i}]面积是:{cv2.contourArea(contours[i])}\")\n",
    "cv2.waitKey()\n",
    "cv2.destroyAllWindows()"
   ]
  },
  {
   "cell_type": "code",
   "execution_count": 5,
   "metadata": {},
   "outputs": [
    {
     "name": "stdout",
     "output_type": "stream",
     "text": [
      "第0个轮廓长度是:1576.0\n",
      "第1个轮廓长度是:830.0\n",
      "第2个轮廓长度是:610.0\n",
      "第3个轮廓长度是:964.0\n",
      "轮廓的总长度是: 3980.0\n",
      "轮廓长的平均值: 995.0\n",
      "\n",
      "轮廓长大于平均值的如下:\n",
      "轮廓[0]长度是:1576.0\n"
     ]
    }
   ],
   "source": [
    "# 计算轮廓长度  cv2.arcLength()\n",
    "import cv2\n",
    "import numpy as np\n",
    "img = cv2.imread(\"C:\\\\Users\\\\jiangyu\\\\Desktop\\\\Pictures\\\\LunKuo.png\")\n",
    "cv2.imshow('img', img)\n",
    "gray = cv2.cvtColor(img, cv2.COLOR_BGR2GRAY)  # 色彩转换\n",
    "ret, binary = cv2.threshold(gray, 127, 255, cv2.THRESH_BINARY)  # 阈值处理\n",
    "contours, hierarchy = cv2.findContours(binary, cv2.RETR_EXTERNAL, cv2.CHAIN_APPROX_SIMPLE)  # 找到轮廓\n",
    "# contours:返回一组轮廓信息,  hierarchy：返回轮廓层次\n",
    "n = len(contours)\n",
    "cntLen = []\n",
    "for i in range(n):\n",
    "    cntLen.append(cv2.arcLength(contours[i], True))\n",
    "    print(f\"第{i}个轮廓长度是:{cntLen[i]}\")\n",
    "cntLenSum = np.sum(cntLen)\n",
    "cntLenAvr = cntLenSum / n\n",
    "print('轮廓的总长度是:', cntLenSum)\n",
    "print('轮廓长的平均值:', cntLenAvr)\n",
    "print()\n",
    "contoursImg = []\n",
    "print('轮廓长大于平均值的如下:')\n",
    "for i in range(n):\n",
    "    temp = np.zeros(img.shape, dtype = np.uint8)  #  创建一个黑色背景图\n",
    "    contoursImg.append(temp)\n",
    "    contoursImg[i] = cv2.drawContours(contoursImg[i], contours, i, (0, 0, 255), 4)\n",
    "    \n",
    "    if cv2.arcLength(contours[i], True) > cntLenAvr:  # 将轮廓长度大于 平均值 的筛选出来\n",
    "        cv2.imshow(f\"contours[{i}]\", contoursImg[i])\n",
    "        print(f\"轮廓[{i}]长度是:{cntLen[i]}\")\n",
    "cv2.waitKey()\n",
    "cv2.destroyAllWindows()"
   ]
  },
  {
   "cell_type": "markdown",
   "metadata": {},
   "source": [
    "#### 12.3 Hu矩"
   ]
  },
  {
   "cell_type": "code",
   "execution_count": 11,
   "metadata": {},
   "outputs": [
    {
     "name": "stdout",
     "output_type": "stream",
     "text": [
      "img.shape = (807, 1010, 3)\n",
      "cv2.moments(gray) =\n",
      " {'m00': 47957788.0, 'm10': 23193723199.0, 'm01': 17599666728.0, 'm20': 14305749638669.0, 'm11': 8328833155991.0, 'm02': 7799327651364.0, 'm30': 9868115700622144.0, 'm21': 5222967697063957.0, 'm12': 3619855315159751.0, 'm03': 3778695757090368.0, 'mu20': 3088618526787.2188, 'mu11': -182856300659.54492, 'mu02': 1340558766179.5908, 'mu30': -38027669224166.0, 'mu21': 149877397540559.34, 'mu12': -17906851489750.844, 'mu03': -67443735302415.5, 'nu20': 0.001342907146869182, 'nu11': -7.950448748398635e-05, 'nu02': 0.0005828644529220386, 'nu30': -2.3875465555853993e-06, 'nu21': 9.409970991087318e-06, 'nu12': -1.124271943771004e-06, 'nu03': -4.2344182854826815e-06}\n",
      "\n",
      "HuM =\n",
      " [ 1.92577160e-03  6.02948751e-07  1.05490356e-09  3.91192150e-11\n",
      "  1.95124942e-21 -5.20509172e-15  7.70350895e-21]\n"
     ]
    }
   ],
   "source": [
    "# 当图像经过旋转缩放等操作后，仍然保持矩的不变性，可以用 Hu 来识别图像的特征\n",
    "import cv2\n",
    "img = cv2.imread(\"C:\\\\Users\\\\jiangyu\\\\Desktop\\\\Pictures\\\\LunKuo.png\")\n",
    "gray = cv2.cvtColor(img, cv2.COLOR_BGR2GRAY)\n",
    "huM = cv2.HuMoments(cv2.moments(gray)).flatten()\n",
    "print('img.shape =', img.shape)\n",
    "print('cv2.moments(gray) =\\n', cv2.moments(gray))\n",
    "print('\\nHuM =\\n', huM)"
   ]
  },
  {
   "cell_type": "code",
   "execution_count": 12,
   "metadata": {
    "scrolled": true
   },
   "outputs": [
    {
     "name": "stdout",
     "output_type": "stream",
     "text": [
      "相似图像的matchShape = 0.0\n",
      "相似图像的matchShape = 1.7976931348623157e+308\n",
      "相似图像的matchShape = 0.0\n",
      "cat1.shape = (900, 1440, 3)\n",
      "cat2.shape = (895, 600, 3)\n",
      "cat3.shape = (381, 500, 3)\n"
     ]
    }
   ],
   "source": [
    "# 形状匹配\n",
    "import cv2\n",
    "cat1 = cv2.imread(\"C:\\\\Users\\\\jiangyu\\\\Desktop\\\\Pictures\\\\Cats\\\\cat1.jpg\")\n",
    "cat2 = cv2.imread(\"C:\\\\Users\\\\jiangyu\\\\Desktop\\\\Pictures\\\\Cats\\\\cat2.jpg\")\n",
    "cat3 = cv2.imread(\"C:\\\\Users\\\\jiangyu\\\\Desktop\\\\Pictures\\\\Cats\\\\cat3.jpg\")\n",
    "gray1 = cv2.cvtColor(cat1, cv2.COLOR_BGR2GRAY)\n",
    "gray2 = cv2.cvtColor(cat2, cv2.COLOR_BGR2GRAY)\n",
    "gray3 = cv2.cvtColor(cat3, cv2.COLOR_BGR2GRAY)\n",
    "ret, binary1 = cv2.threshold(gray1, 127, 255, cv2.THRESH_BINARY)\n",
    "ret, binary2 = cv2.threshold(gray2, 127, 255, cv2.THRESH_BINARY)\n",
    "ret, binary3 = cv2.threshold(gray3, 127, 255, cv2.THRESH_BINARY)\n",
    "contours1, hierarchy = cv2.findContours(binary1, cv2.RETR_LIST, cv2.CHAIN_APPROX_SIMPLE)  \n",
    "# cv2.RETR_LIST: 对检测到的轮廓不建立等级关系\n",
    "contours2, hierarchy = cv2.findContours(binary2, cv2.RETR_LIST, cv2.CHAIN_APPROX_SIMPLE)\n",
    "contours3, hierarchy = cv2.findContours(binary3, cv2.RETR_LIST, cv2.CHAIN_APPROX_SIMPLE)\n",
    "cnt1 = contours1[0]\n",
    "cnt2 = contours2[0]\n",
    "cnt3 = contours3[0]\n",
    "ret0 = cv2.matchShapes(cnt1, cnt1, 1, 0.0)  \n",
    "# cv2.matchShapes(): 对二者的矩进行比较\n",
    "ret1 = cv2.matchShapes(cnt1, cnt2, 1, 0.0)\n",
    "ret2 = cv2.matchShapes(cnt1, cnt3, 1, 0.0)\n",
    "print('相似图像的matchShape =', ret0)\n",
    "print('相似图像的matchShape =', ret1)\n",
    "print('相似图像的matchShape =', ret2)\n",
    "print('cat1.shape =', cat1.shape)\n",
    "print('cat2.shape =', cat2.shape)\n",
    "print('cat3.shape =', cat3.shape)\n",
    "cv2.imshow('cat1', gray1)\n",
    "cv2.imshow('cat2', gray2)\n",
    "cv2.imshow('cat3', gray3)\n",
    "cv2.waitKey()\n",
    "cv2.destroyAllWindows()"
   ]
  },
  {
   "cell_type": "markdown",
   "metadata": {},
   "source": [
    "#### 12.4 轮廓拟合"
   ]
  },
  {
   "cell_type": "code",
   "execution_count": 3,
   "metadata": {},
   "outputs": [
    {
     "name": "stdout",
     "output_type": "stream",
     "text": [
      "顶点及长宽的点形式：\n",
      "x = 297\n",
      "y = 426\n",
      "w = 672\n",
      "h = 118\n"
     ]
    }
   ],
   "source": [
    "# res = cv2.boundingRec(img)\n",
    "# res 返回四个值，分别是左上角顶点坐标值，矩形边界的宽度和高度\n",
    "import cv2\n",
    "img = cv2.imread(\"C:\\\\Users\\\\jiangyu\\\\Desktop\\\\Pictures\\\\LunKuo.png\")\n",
    "# 提取轮廓\n",
    "gray = cv2.cvtColor(img, cv2.COLOR_BGR2GRAY)\n",
    "ret, binary = cv2.threshold(gray, 127, 255, cv2.THRESH_BINARY)\n",
    "contours, hierarchy = cv2.findContours(binary, cv2.RETR_LIST, cv2.CHAIN_APPROX_SIMPLE)\n",
    "# 返回顶点及边长\n",
    "x, y, w, h = cv2.boundingRect(contours[0])\n",
    "print('顶点及长宽的点形式：')\n",
    "print('x =', x)\n",
    "print('y =', y)\n",
    "print('w =', w)\n",
    "print('h =', h)"
   ]
  },
  {
   "cell_type": "code",
   "execution_count": 6,
   "metadata": {},
   "outputs": [],
   "source": [
    "# 使用函数 cv2.draeContours() 绘制矩形边框\n",
    "import cv2\n",
    "import numpy as np\n",
    "img = cv2.imread(\"C:\\\\Users\\\\jiangyu\\\\Desktop\\\\Pictures\\\\LunKuo.png\")\n",
    "cv2.imshow('original', img)\n",
    "gray = cv2.cvtColor(img, cv2.COLOR_BGR2GRAY)  # 提取图像轮廓\n",
    "ret, binary = cv2.threshold(gray, 127, 255, cv2.THRESH_BINARY)\n",
    "contours, hierarchy = cv2.findContours(binary, cv2.RETR_LIST, cv2.CHAIN_APPROX_SIMPLE)\n",
    "x, y, w, h = cv2.boundingRect(contours[2])  # 构造矩形边界\n",
    "brcnt = np.array([[[x, y]], [[x + w, y]], [[x + w, y + h]], [[x, y +h]]])\n",
    "cv2.drawContours(img, [brcnt], -1, (0, 255, 0), 2)\n",
    "cv2.imshow('result', img)\n",
    "cv2.waitKey()\n",
    "cv2.destroyAllWindows()"
   ]
  },
  {
   "cell_type": "code",
   "execution_count": 7,
   "metadata": {},
   "outputs": [],
   "source": [
    "# 使用 cv2.boundingRect(), cv2.rectangle() 绘制矩形边界包围框\n",
    "import cv2\n",
    "import numpy as np\n",
    "img = cv2.imread(\"C:\\\\Users\\\\jiangyu\\\\Desktop\\\\Pictures\\\\LunKuo.png\")\n",
    "cv2.imshow('original', img)\n",
    "gray = cv2.cvtColor(img, cv2.COLOR_BGR2GRAY)  # 提取图像轮廓\n",
    "ret, binary = cv2.threshold(gray, 127, 255, cv2.THRESH_BINARY)\n",
    "contours, hierarchy = cv2.findContours(binary, cv2.RETR_LIST, cv2.CHAIN_APPROX_SIMPLE)\n",
    "x, y, w, h = cv2.boundingRect(contours[2])  # 构造矩形边界\n",
    "# brcnt = np.array([[[x, y]], [[x + w, y]], [[x + w, y + h]], [[x, y +h]]])\n",
    "# cv2.drawContours(img, [brcnt], -1, (0, 255, 0), 2)\n",
    "cv2.rectangle(img, (x, y), (x + w, y + h), (0, 255, 0), 2)\n",
    "cv2.imshow('result', img)\n",
    "cv2.waitKey()\n",
    "cv2.destroyAllWindows()"
   ]
  },
  {
   "cell_type": "code",
   "execution_count": 2,
   "metadata": {},
   "outputs": [
    {
     "name": "stdout",
     "output_type": "stream",
     "text": [
      "返回值 rect:\n",
      " ((184.0, 167.5), (195.0, 212.0), 90.0)\n",
      "\n",
      "转换后的points:\n",
      " [[ 78.  70.]\n",
      " [290.  70.]\n",
      " [290. 265.]\n",
      " [ 78. 265.]]\n"
     ]
    }
   ],
   "source": [
    "# 最小包围矩形框\n",
    "import cv2\n",
    "import numpy as np\n",
    "img = cv2.imread(\"C:\\\\Users\\\\jiangyu\\\\Desktop\\\\Pictures\\\\pie.jpg\")\n",
    "cv2.imshow('original', img)\n",
    "gray = cv2.cvtColor(img, cv2.COLOR_BGR2GRAY)  # 提取图像轮廓\n",
    "ret, binary = cv2.threshold(gray, 127, 255, cv2.THRESH_BINARY)\n",
    "contours, hierarchy = cv2.findContours(binary, cv2.RETR_LIST, cv2.CHAIN_APPROX_SIMPLE)\n",
    "rect = cv2.minAreaRect(contours[0])\n",
    "print('返回值 rect:\\n', rect)  # (最小外接矩形的中心(x, y), (宽度， 高度), 旋转角度)\n",
    "points = cv2.boxPoints(rect)  # cv2.boxPoints(rect) 是将 rect 的值转换为 cv2.drawContours()可以使用的类型\n",
    "print('\\n转换后的points:\\n', points)\n",
    "points = np.int0(points)  # 取整\n",
    "cv2.drawContours(img, [points], 0, (0, 255, 0), 2)\n",
    "cv2.imshow('result', img)\n",
    "cv2.waitKey()\n",
    "cv2.destroyAllWindows()"
   ]
  },
  {
   "cell_type": "code",
   "execution_count": 3,
   "metadata": {},
   "outputs": [],
   "source": [
    "# 最小包围圆形\n",
    "import cv2\n",
    "import numpy as np\n",
    "img = cv2.imread(\"C:\\\\Users\\\\jiangyu\\\\Desktop\\\\Pictures\\\\pie.jpg\")\n",
    "cv2.imshow('original', img)\n",
    "gray = cv2.cvtColor(img, cv2.COLOR_BGR2GRAY)  # 提取图像轮廓\n",
    "ret, binary = cv2.threshold(gray, 127, 255, cv2.THRESH_BINARY)\n",
    "contours, hierarchy = cv2.findContours(binary, cv2.RETR_LIST, cv2.CHAIN_APPROX_SIMPLE)\n",
    "(x, y), radius = cv2.minEnclosingCircle(contours[0])\n",
    "center = (int(x), int(y))\n",
    "radius = int(radius)\n",
    "cv2.circle(img, center, radius, (0, 0, 255), 2)\n",
    "cv2.imshow('result', img)\n",
    "cv2.waitKey()\n",
    "cv2.destroyAllWindows()"
   ]
  },
  {
   "cell_type": "code",
   "execution_count": 4,
   "metadata": {},
   "outputs": [
    {
     "name": "stdout",
     "output_type": "stream",
     "text": [
      "ellipse = ((183.67527770996094, 167.82595825195312), (195.05020141601562, 211.87734985351562), 90.00541687011719)\n"
     ]
    }
   ],
   "source": [
    "# 最优拟合椭圆\n",
    "import cv2\n",
    "img = cv2.imread(\"C:\\\\Users\\\\jiangyu\\\\Desktop\\\\Pictures\\\\pie.jpg\")\n",
    "gray = cv2.cvtColor(img, cv2.COLOR_BGR2GRAY)  # 提取图像轮廓\n",
    "ret, binary = cv2.threshold(gray, 127, 255, cv2.THRESH_BINARY)\n",
    "contours, hierarchy = cv2.findContours(binary, cv2.RETR_LIST, cv2.CHAIN_APPROX_SIMPLE)\n",
    "cv2.imshow('original', img)\n",
    "ellipse = cv2.fitEllipse(contours[0])\n",
    "print('ellipse =', ellipse)\n",
    "cv2.ellipse(img, ellipse, (0, 255, 0), 3)\n",
    "cv2.imshow('result', img)\n",
    "cv2.waitKey()\n",
    "cv2.destroyAllWindows()"
   ]
  },
  {
   "cell_type": "code",
   "execution_count": 1,
   "metadata": {},
   "outputs": [],
   "source": [
    "# 最优拟合直线\n",
    "import cv2\n",
    "img = cv2.imread(\"C:\\\\Users\\\\jiangyu\\\\Desktop\\\\Pictures\\\\pie.jpg\")\n",
    "gray = cv2.cvtColor(img, cv2.COLOR_BGR2GRAY)  # 提取图像轮廓\n",
    "ret, binary = cv2.threshold(gray, 127, 255, cv2.THRESH_BINARY)\n",
    "contours, hierarchy = cv2.findContours(binary, cv2.RETR_LIST, cv2.CHAIN_APPROX_SIMPLE)  \n",
    "cv2.imshow('original', img)\n",
    "rows, cols = img.shape[0:2]\n",
    "[vx, vy, x, y] = cv2.fitLine(contours[0], cv2.DIST_L2, 0, 0.01, 0.01)  # cv2.DIST_L2 代表欧氏距离\n",
    "lefty = int((-x * vy / vx) + y)\n",
    "righty = int(((cols - x) * vy / vx) + y)\n",
    "cv2.line(img, (cols - 1, righty), (0, lefty), (0, 255, 0), 2)\n",
    "cv2.imshow('result', img)\n",
    "cv2.waitKey()\n",
    "cv2.destroyAllWindows()"
   ]
  },
  {
   "cell_type": "markdown",
   "metadata": {},
   "source": [
    "#### 12. 5 凸包"
   ]
  },
  {
   "cell_type": "markdown",
   "metadata": {},
   "source": [
    "#### 12.6 利用形状场景算法比较轮廓"
   ]
  },
  {
   "cell_type": "markdown",
   "metadata": {},
   "source": [
    "#### 12.7 轮廓的特征值"
   ]
  },
  {
   "cell_type": "markdown",
   "metadata": {},
   "source": [
    "# 第十三章 直方图处理"
   ]
  },
  {
   "cell_type": "markdown",
   "metadata": {},
   "source": [
    "#### 13.1 直方图的含义"
   ]
  },
  {
   "cell_type": "markdown",
   "metadata": {},
   "source": [
    "#### 13.2 绘制直方图"
   ]
  },
  {
   "cell_type": "code",
   "execution_count": 3,
   "metadata": {},
   "outputs": [
    {
     "data": {
      "image/png": "[encoded data removed]",
      "text/plain": [
       "<Figure size 432x288 with 1 Axes>"
      ]
     },
     "metadata": {
      "needs_background": "light"
     },
     "output_type": "display_data"
    }
   ],
   "source": [
    "import cv2\n",
    "import matplotlib.pyplot as plt\n",
    "img = cv2.imread(\"C:\\\\Users\\\\jiangyu\\\\Desktop\\\\Pictures\\\\Cats\\\\cat1.jpg\")\n",
    "cv2.imshow('img', img)\n",
    "plt.hist(img.ravel(), 256)  # 将灰度等级分成 255 个等级\n",
    "cv2.waitKey()\n",
    "cv2.destroyAllWindows()"
   ]
  },
  {
   "cell_type": "code",
   "execution_count": 4,
   "metadata": {},
   "outputs": [
    {
     "data": {
      "image/png": "[encoded data removed]",
      "text/plain": [
       "<Figure size 432x288 with 1 Axes>"
      ]
     },
     "metadata": {
      "needs_background": "light"
     },
     "output_type": "display_data"
    }
   ],
   "source": [
    "import cv2\n",
    "import matplotlib.pyplot as plt\n",
    "img = cv2.imread(\"C:\\\\Users\\\\jiangyu\\\\Desktop\\\\Pictures\\\\Cats\\\\cat1.jpg\")\n",
    "cv2.imshow('img', img)\n",
    "plt.hist(img.ravel(), 16)  # 将灰度等级分成 16 个等级\n",
    "cv2.waitKey()\n",
    "cv2.destroyAllWindows()"
   ]
  },
  {
   "cell_type": "markdown",
   "metadata": {},
   "source": [
    "#### 13.3 直方图均衡化"
   ]
  },
  {
   "cell_type": "markdown",
   "metadata": {},
   "source": [
    "#### 13.4 pyplot 模块介绍"
   ]
  },
  {
   "cell_type": "markdown",
   "metadata": {},
   "source": [
    "# 第十四章 傅里叶变换"
   ]
  },
  {
   "cell_type": "markdown",
   "metadata": {},
   "source": [
    "#### 14.1 理论基础"
   ]
  },
  {
   "cell_type": "markdown",
   "metadata": {},
   "source": [
    "#### 14.2 NumPy 实现傅里叶变换"
   ]
  },
  {
   "cell_type": "code",
   "execution_count": null,
   "metadata": {},
   "outputs": [],
   "source": [
    "# NumPy傅里叶变换函数为： numpy.fft.fft2()"
   ]
  },
  {
   "cell_type": "markdown",
   "metadata": {},
   "source": [
    "#### 14.3 OpenCV 实现傅里叶变换"
   ]
  },
  {
   "cell_type": "code",
   "execution_count": null,
   "metadata": {},
   "outputs": [],
   "source": [
    "# 傅里叶变换：cv2.dft()\n",
    "# 傅里叶逆变换：cv2.idft()"
   ]
  },
  {
   "cell_type": "markdown",
   "metadata": {},
   "source": [
    "# 第十五章 模板匹配"
   ]
  },
  {
   "cell_type": "markdown",
   "metadata": {},
   "source": [
    "#### 15.1 模板匹配基础"
   ]
  },
  {
   "cell_type": "markdown",
   "metadata": {},
   "source": [
    "#### 15.2 多模板匹配"
   ]
  },
  {
   "cell_type": "markdown",
   "metadata": {},
   "source": [
    "# 第十六章 霍夫变换"
   ]
  },
  {
   "cell_type": "markdown",
   "metadata": {},
   "source": [
    "#### 16.1 霍夫直线变换"
   ]
  },
  {
   "cell_type": "markdown",
   "metadata": {},
   "source": [
    "#### 16.2 霍夫圆环变换"
   ]
  },
  {
   "cell_type": "markdown",
   "metadata": {},
   "source": [
    "# 第十七章 图像分割与提取"
   ]
  },
  {
   "cell_type": "markdown",
   "metadata": {},
   "source": [
    "#### 17.1 用分水岭算法实现图像分割与提取"
   ]
  },
  {
   "cell_type": "markdown",
   "metadata": {},
   "source": [
    "#### 17.2 交互式前景提取"
   ]
  },
  {
   "cell_type": "markdown",
   "metadata": {},
   "source": [
    "# 第十八章 视频处理"
   ]
  },
  {
   "cell_type": "markdown",
   "metadata": {},
   "source": [
    "#### 18.1 VideoCapture 类"
   ]
  },
  {
   "cell_type": "code",
   "execution_count": 3,
   "metadata": {},
   "outputs": [],
   "source": [
    "import numpy as np\n",
    "import cv2\n",
    "cap = cv2.VideoCapture(0)  # 读取内置摄像头\n",
    "# cap = cv2.VideoCapture('C:\\\\Users\\\\jiangyu\\\\Desktop\\\\Pictures\\\\DouYin.mp4')  # 读取视频文件\n",
    "while(cap.isOpened()):\n",
    "    ret, img = cap.read()\n",
    "    # print(ret)  # 若捕获到了帧，则返回 True\n",
    "    cv2.imshow('Image', img)\n",
    "    c = cv2.waitKey(1)\n",
    "    if c == 27: # 按 ESC 键\n",
    "        break\n",
    "cap.release()\n",
    "cv2.destroyAllWindows()"
   ]
  },
  {
   "cell_type": "code",
   "execution_count": 1,
   "metadata": {},
   "outputs": [],
   "source": [
    "import numpy as np\n",
    "import cv2\n",
    "cap = cv2.VideoCapture(0)  # 读取内置摄像头\n",
    "# cap = cv2.VideoCapture('C:\\\\Users\\\\jiangyu\\\\Desktop\\\\Pictures\\\\DouYin.mp4')  # 读取视频文件\n",
    "while(cap.isOpened()):\n",
    "    ret, img = cap.read()\n",
    "    # print(ret)  # 若捕获到了帧，则返回 True\n",
    "    img1 = cv2.Canny(img, 50, 100)\n",
    "    cv2.imshow('Image', img1)\n",
    "    c = cv2.waitKey(1)\n",
    "    if c == 27: # 按 ESC 键\n",
    "        break\n",
    "cap.release()\n",
    "cv2.destroyAllWindows()"
   ]
  },
  {
   "cell_type": "markdown",
   "metadata": {},
   "source": [
    "# 第十九章 绘图与交互"
   ]
  },
  {
   "cell_type": "markdown",
   "metadata": {},
   "source": [
    "#### 19.1 绘画基础"
   ]
  },
  {
   "cell_type": "code",
   "execution_count": 4,
   "metadata": {},
   "outputs": [],
   "source": [
    "# 绘制直线\n",
    "# cv2.line(), 绘制起始点，终点，颜色，粗细\n",
    "import numpy as np\n",
    "import cv2\n",
    "n = 300\n",
    "img = np.zeros((n, n + 1, 3), np.uint8)\n",
    "img = cv2.line(img, (0, 0), (n, n), (255, 0, 0), 3)\n",
    "img = cv2.line(img, (0, 100), (n, 100), (0, 255, 0), 2)\n",
    "img = cv2.line(img, (100, 0), (100, n), (0, 0, 255), 1)\n",
    "winname = 'Demo19.1'\n",
    "cv2.namedWindow(winname)\n",
    "cv2.imshow(winname, img)\n",
    "cv2.waitKey(0)\n",
    "cv2.destroyAllWindows()"
   ]
  },
  {
   "cell_type": "code",
   "execution_count": 10,
   "metadata": {},
   "outputs": [],
   "source": [
    "# 绘制矩形\n",
    "import numpy as np\n",
    "import cv2\n",
    "n = 300\n",
    "img = np.ones((n, n, 3), np.uint8) * 255\n",
    "img = cv2.rectangle(img, (50, 50), (n - 100, n - 50), (255, 0, 0), -1)  # -1 代表填充颜色\n",
    "winname = 'Demo19.1'\n",
    "cv2.namedWindow(winname)\n",
    "cv2.imshow(winname, img)\n",
    "cv2.waitKey(0)\n",
    "cv2.destroyAllWindows()"
   ]
  },
  {
   "cell_type": "code",
   "execution_count": 12,
   "metadata": {},
   "outputs": [],
   "source": [
    "# 绘制圆形\n",
    "import numpy as np\n",
    "import cv2\n",
    "n = 400\n",
    "img = np.zeros((n, n, 3), np.uint8)\n",
    "(centerX, centerY) = (round(img.shape[1] / 2), round(img.shape[0] / 2))  \n",
    "# 注意数值类型：不能使用 centeX = img.shape[1] / 2\n",
    "red = (0, 0, 255)\n",
    "for i in range(5, round(n / 2), 12):\n",
    "    cv2.circle(img, (centerX, centerY), i, red, 3)\n",
    "    # cv2.circle(载体图像, (圆心), 半径, 颜色, 线宽)\n",
    "winname = 'Demo19.1'\n",
    "cv2.namedWindow(winname)\n",
    "cv2.imshow(winname, img)\n",
    "cv2.waitKey(0)\n",
    "cv2.destroyAllWindows()"
   ]
  },
  {
   "cell_type": "code",
   "execution_count": 21,
   "metadata": {},
   "outputs": [],
   "source": [
    "import numpy as np\n",
    "import cv2\n",
    "n = 600\n",
    "img = np.zeros((n, n, 3), np.uint8)\n",
    "for i in range(0, 100):\n",
    "    (centerX, centerY, radius, colors) = (np.random.randint(0, n), np.random.randint(0, n), \n",
    "                                          np.random.randint(5, n / 5), np.random.randint(0, 256, size = (3,)).tolist())    \n",
    "    cv2.circle(img, (centerX, centerY), radius, colors, -1)\n",
    "winname = 'Demo19.2'\n",
    "cv2.namedWindow(winname)\n",
    "cv2.imshow(winname, img)\n",
    "cv2.waitKey(0)\n",
    "cv2.destroyAllWindows()"
   ]
  },
  {
   "cell_type": "code",
   "execution_count": 28,
   "metadata": {},
   "outputs": [],
   "source": [
    "# 绘制椭圆\n",
    "import numpy as np\n",
    "import cv2\n",
    "n = 800\n",
    "img = np.zeros((n, n, 3), np.uint8) * 255\n",
    "# img = cv2.ellipse(img, center, axes, angle, startAngle, endAngle, color[, thickness[, lineType]])\n",
    "# img = cv2.ellipse(img, 椭圆圆心坐标，轴的长度，偏转角度，圆弧起始角长度，圆弧终结角长度)\n",
    "for i in range(100):\n",
    "    size = (np.random.randint(5, n / 5), np.random.randint(5, n / 5))\n",
    "    angle = np.random.randint(0, 361)\n",
    "    thickness = np.random.randint(2, 10)\n",
    "    (centerX, centerY, colors) = (np.random.randint(0, n), np.random.randint(0, n),  \n",
    "                                  np.random.randint(10, 256, size = (3,)).tolist())    \n",
    "    center = (centerX, centerY)\n",
    "    cv2.ellipse(img, center, size, angle, 0, 360, colors, thickness)\n",
    "winname = 'Demo19.3'\n",
    "cv2.namedWindow(winname)\n",
    "cv2.imshow(winname, img)\n",
    "cv2.waitKey(0)\n",
    "cv2.destroyAllWindows()"
   ]
  },
  {
   "cell_type": "code",
   "execution_count": 47,
   "metadata": {},
   "outputs": [],
   "source": [
    "import numpy as np\n",
    "import cv2\n",
    "n = 400\n",
    "img = np.ones((n, n, 3), np.uint8) * 255\n",
    "pts = np.array([[200, 50], [300, 200], [200, 350], [100, 200]], np.int32)  # 生成各个顶点\n",
    "pts = pts.reshape((-1, 1, 2))\n",
    "cv2.polylines(img, [pts], True, (0, 0, 255), 8)  # True 表示多边形封闭\n",
    "cv2.imshow('winname', img)\n",
    "cv2.waitKey(0)\n",
    "cv2.destroyAllWindows()"
   ]
  },
  {
   "cell_type": "code",
   "execution_count": 60,
   "metadata": {},
   "outputs": [],
   "source": [
    "# 在图形上绘制文字\n",
    "import numpy as np\n",
    "import cv2\n",
    "n = 400\n",
    "img = np.ones((n, n, 3), np.uint8) * 255\n",
    "font = cv2.FONT_HERSHEY_COMPLEX\n",
    "cv2.putText(img, 'OpenCV', (10, 210), font, 3, (0, 0, 255), 15)\n",
    "# cv2.putText(载入图像, '绘制的文字', (绘制字体的位置), 字体, 字体大小, (字体颜色), 字体宽度)\n",
    "cv2.imshow('img', img)\n",
    "cv2.waitKey(0)\n",
    "cv2.destroyAllWindows()"
   ]
  },
  {
   "cell_type": "markdown",
   "metadata": {},
   "source": [
    "#### 19.2 鼠标交互"
   ]
  },
  {
   "cell_type": "code",
   "execution_count": 66,
   "metadata": {},
   "outputs": [
    {
     "name": "stdout",
     "output_type": "stream",
     "text": [
      "鼠标按了左键\n",
      "81 74\n",
      "鼠标按了右键\n",
      "215 134\n"
     ]
    }
   ],
   "source": [
    "# 设计一个程序，对触发的鼠标事件进行判断\n",
    "import cv2\n",
    "import numpy as np\n",
    "# event:表示触发了何种事件； flags：代表鼠标拖拽事件； x, y：鼠标操作时的坐标\n",
    "def Demo(event, x, y, flags, params):\n",
    "    if event == cv2.EVENT_LBUTTONDOWN:\n",
    "        print('鼠标按了左键')\n",
    "        print(x, y)\n",
    "    elif event == cv2.EVENT_RBUTTONDOWN:\n",
    "        print('鼠标按了右键')\n",
    "        print(x, y)\n",
    "    elif flags == cv2.EVENT_FLAG_LBUTTON:\n",
    "        print('按住左键拖动了鼠标')\n",
    "    elif flags == cv2.EVENT_MBUTTONDOWN:\n",
    "        print('单击了中间键')\n",
    "# 创建名称为 Demo 的响应函数 onMouseAction\n",
    "img = np.ones((300, 300, 3), np.uint8) * 255\n",
    "cv2.namedWindow('Demo19.4')\n",
    "cv2.setMouseCallback('Demo19.4', Demo)\n",
    "cv2.imshow('Demo19.4', img)\n",
    "cv2.waitKey(0)\n",
    "cv2.destroyAllWindows()"
   ]
  },
  {
   "cell_type": "code",
   "execution_count": 14,
   "metadata": {},
   "outputs": [
    {
     "name": "stdout",
     "output_type": "stream",
     "text": [
      "['EVENT_FLAG_ALTKEY', 'EVENT_FLAG_CTRLKEY', 'EVENT_FLAG_LBUTTON', 'EVENT_FLAG_MBUTTON', 'EVENT_FLAG_RBUTTON', 'EVENT_FLAG_SHIFTKEY', 'EVENT_LBUTTONDBLCLK', 'EVENT_LBUTTONDOWN', 'EVENT_LBUTTONUP', 'EVENT_MBUTTONDBLCLK', 'EVENT_MBUTTONDOWN', 'EVENT_MBUTTONUP', 'EVENT_MOUSEHWHEEL', 'EVENT_MOUSEMOVE', 'EVENT_MOUSEWHEEL', 'EVENT_RBUTTONDBLCLK', 'EVENT_RBUTTONDOWN', 'EVENT_RBUTTONUP']\n"
     ]
    }
   ],
   "source": [
    "import cv2\n",
    "events = [i for i in dir(cv2) if 'EVENT' in i]\n",
    "print(events)"
   ]
  },
  {
   "cell_type": "code",
   "execution_count": 35,
   "metadata": {},
   "outputs": [],
   "source": [
    "# 进阶示例\n",
    "import cv2\n",
    "import numpy as np\n",
    "thickness = -1\n",
    "mode = 1\n",
    "d = 400\n",
    "def draw_circle(event, x, y, flags, param):\n",
    "    if event == cv2.EVENT_LBUTTONDOWN:\n",
    "        a = np.random.randint(1, d - 50)\n",
    "        r = np.random.randint(1, round(d / 5))\n",
    "        angle = np.random.randint(0, 361)\n",
    "        color =  np.random.randint(10, 256, size = (3,)).tolist()\n",
    "        if mode == 1:\n",
    "            cv2.rectangle(img, (x, y), (a, a), color, thickness)\n",
    "        elif mode == 2:\n",
    "            cv2.circle(img, (x, y), r, color, thickness)\n",
    "        elif mode == 3:\n",
    "            cv2.line(img, (x, y), (a, a), color, 3)\n",
    "        elif mode == 4:\n",
    "            cv2.ellipse(img, (x, y), (np.random.randint(5, d / 5), np.random.randint(5, d / 5)), \n",
    "                        angle, 0, 360, color, thickness)\n",
    "        elif mode == 5:\n",
    "            centerx, centery = np.random.randint(0, d), np.random.randint(0, d)\n",
    "            cv2.putText(img, 'OpenCV', (centerx, centery), cv2.FONT_HERSHEY_SIMPLEX, \n",
    "                        np.random.randint(1, 10), color, np.random.randint(1, 10))\n",
    "img = np.ones((d, d, 3), np.uint8) * 255\n",
    "cv2.namedWindow('Image')\n",
    "cv2.setMouseCallback('Image', draw_circle)\n",
    "while(1):\n",
    "    cv2.imshow('Image', img)\n",
    "    k = cv2.waitKey(1)&0xFF\n",
    "    if k == 27:\n",
    "        break\n",
    "    elif k == ord('q'):\n",
    "        mode = 1\n",
    "    elif k == ord('w'):\n",
    "        mode = 2\n",
    "    elif k == ord('e'):\n",
    "        mode = 3\n",
    "    elif k == ord('r'):\n",
    "        mode = 4\n",
    "    elif k == ord('t'):\n",
    "        mode = 5\n",
    "cv2.destroyAllWindows()"
   ]
  },
  {
   "cell_type": "markdown",
   "metadata": {},
   "source": [
    "#### 19.3 滚动条"
   ]
  },
  {
   "cell_type": "code",
   "execution_count": 1,
   "metadata": {},
   "outputs": [],
   "source": [
    "# cv2.creatTrackbar(trackbarname, winname, value, count, onChange)\n",
    "# cv2.creatTrackbar(滚动条名称, 滚动条窗口名称, 初始值, 滚动条最大值, 回调函数)\n",
    "# 回调函数：将滚动条要实现的操作写在回调函数内\n",
    "# 滚动条的值可以通过 cv2.getTrackbarPos(trackbarname, winname) 获取 -- cv2.gTbP(滚动条名称，窗口名称)\n",
    "# 用滚动条实现调色板\n",
    "import cv2\n",
    "import numpy as np\n",
    "def changeColor(x):\n",
    "    r = cv2.getTrackbarPos('R', 'Image')\n",
    "    g = cv2.getTrackbarPos('G', 'Image')\n",
    "    b = cv2.getTrackbarPos('B', 'Image')\n",
    "    img[:] = [b, g, r]  # 获取图片的颜色三通道\n",
    "img = np.zeros((100, 700, 3), np.uint8)\n",
    "cv2.namedWindow('Image')\n",
    "cv2.createTrackbar('R', 'Image', 0, 255, changeColor)\n",
    "cv2.createTrackbar('G', 'Image', 0, 255, changeColor)\n",
    "cv2.createTrackbar('B', 'Image', 0, 255, changeColor)\n",
    "while(1):\n",
    "    cv2.imshow('Image', img)\n",
    "    k = cv2.waitKey(1)&0xFF\n",
    "    if k == 27:\n",
    "        break\n",
    "cv2.destroyAllWindows()"
   ]
  },
  {
   "cell_type": "code",
   "execution_count": 5,
   "metadata": {},
   "outputs": [],
   "source": [
    "# 用滚动条调整阈值处理参数\n",
    "import cv2\n",
    "Type = 0  # 阈值处理方式\n",
    "Value = 0  # 阈值\n",
    "def onType(a):\n",
    "    Type = cv2.getTrackbarPos(tType, windowname)\n",
    "    Value = cv2.getTrackbarPos(tValue, windowname)\n",
    "    ret, dst = cv2.threshold(img, Value, 255, Type)\n",
    "    cv2.imshow(windowname, dst)\n",
    "def onValue(a):\n",
    "    Type = cv2.getTrackbarPos(tType, windowname)\n",
    "    Value = cv2.getTrackbarPos(tValue, windowname)\n",
    "    ret, dst = cv2.threshold(img, Value, 255, Type)\n",
    "    cv2.imshow(windowname, dst)\n",
    "img = cv2.imread(\"C:\\\\Users\\\\jiangyu\\\\Desktop\\\\Pictures\\\\3S.jpg\", 0)\n",
    "windowname = 'Image'\n",
    "cv2.namedWindow(windowname)\n",
    "cv2.imshow(windowname, img)\n",
    "# 创建两个滚动条\n",
    "tType = 'Type'\n",
    "tValue = 'Value'\n",
    "cv2.createTrackbar(tType, windowname, 0, 4, onType)\n",
    "cv2.createTrackbar(tValue, windowname, 0, 255, onValue)\n",
    "if cv2.waitKey(0) == 27:\n",
    "    cv2.destroyAllWindows()"
   ]
  }
 ],
 "metadata": {
  "kernelspec": {
   "display_name": "Python 3 (ipykernel)",
   "language": "python",
   "name": "python3"
  },
  "language_info": {
   "codemirror_mode": {
    "name": "ipython",
    "version": 3
   },
   "file_extension": ".py",
   "mimetype": "text/x-python",
   "name": "python",
   "nbconvert_exporter": "python",
   "pygments_lexer": "ipython3",
   "version": "3.7.13"
  }
 },
 "nbformat": 4,
 "nbformat_minor": 4
}
