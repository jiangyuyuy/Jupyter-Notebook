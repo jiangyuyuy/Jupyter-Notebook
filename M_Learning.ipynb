{
 "cells": [
  {
   "cell_type": "code",
   "execution_count": 5,
   "metadata": {},
   "outputs": [
    {
     "data": {
      "text/plain": [
       "'\\nscikit-learn基本功能：分类，回归， 聚类，数据降维， 数据预处理\\n\\n- 获取数据集的方式：\\n1.sklearn.datasets.load_*() 获取小规模数据集，数据集已经随scikit-learn安装而下载了\\n2.sklearn.datasets.fetch_*(data_home = None) 用于从远程获得大规模数据集， 函数第一个参数data_home表示数据集下载的目录\\n\\n- 数据集的方法和属性：\\n\\n'"
      ]
     },
     "execution_count": 5,
     "metadata": {},
     "output_type": "execute_result"
    }
   ],
   "source": [
    "\"\"\"\n",
    "scikit-learn基本功能：分类，回归， 聚类，数据降维， 数据预处理\n",
    "\n",
    "-- 获取数据集的方式：\n",
    "1. sklearn.datasets.load_*() 获取小规模数据集，数据集已经随scikit-learn安装而下载了\n",
    "2. sklearn.datasets.fetch_*(data_home = None) 用于从远程获得大规模数据集， 函数第一个参数data_home表示数据集下载的目录\n",
    "\n",
    "-- 数据集的方法和属性：\n",
    "1. data：特征数据集(二维的numpy.ndarray数组)\n",
    "2. target: 标签数组(一维的numpy.ndarray数组)\n",
    "3. DESCR: 数据描述\n",
    "4. feature_names: 特征名(新闻数据，手写数字，回归数据没有)\n",
    "5. target_name: 标签名(回归数据没有)\n",
    "\n",
    "-- 数据集划分：(可以使用sklearn.model_selection.train_test_split进行分割)\n",
    "1. x: 数据集的特征值\n",
    "2. y: 数据集的目标值\n",
    "3. test_size: 测试数据的占比，用小数表示\n",
    "返回值如下：\n",
    "1. x_train: 训练部分的特征值\n",
    "2. x_test: 测试部分的特征值\n",
    "3. y_train: 训练部分的目标值\n",
    "4. y_test: 测试部分的目标值\n",
    "\n",
    "-- 本地数据集：\n",
    "---- 分类数据集：\n",
    "1. load_iris: 鸢尾花花瓣数据集\n",
    "2. load_digits: 手写数字数据集\n",
    "3. load_wine: 红酒数据集\n",
    "4. load_breast_cancer: 乳腺癌数据集\n",
    "---- 回归类数据集：\n",
    "1. load_boston: 波士顿房价数据集\n",
    "2. load_diabetes: 糖尿病数据集\n",
    "3. load_linnerud: 体能训练数据集\n",
    "-- 远程数据集：\n",
    "---- 分类数据集：\n",
    "1. fetch_olivetti_faces: 面孔数据集\n",
    "2. fetch_20newsgroups: 20个新闻组数据集\n",
    "3. fetch_lfw_people: 户外人脸识别数据集\n",
    "4. fetch_lfw_pairs: 户外人脸对数据集(同一个人两个图片)\n",
    "\"\"\""
   ]
  },
  {
   "cell_type": "code",
   "execution_count": 9,
   "metadata": {},
   "outputs": [],
   "source": [
    "from sklearn import datasets\n",
    "import sklearn\n",
    "from sklearn.model_selection import train_test_split"
   ]
  },
  {
   "cell_type": "code",
   "execution_count": 10,
   "metadata": {},
   "outputs": [
    {
     "name": "stdout",
     "output_type": "stream",
     "text": [
      "<class 'sklearn.utils.Bunch'>\n",
      "['DESCR', 'data', 'feature_names', 'filename', 'target']\n"
     ]
    }
   ],
   "source": [
    "boston = datasets.load_boston()\n",
    "print(type(boston))\n",
    "print(dir(boston))"
   ]
  },
  {
   "cell_type": "code",
   "execution_count": 12,
   "metadata": {},
   "outputs": [],
   "source": [
    "# 永远都是 x 在前面，先训练后测试\n",
    "x_train, x_test, y_train, y_test = train_test_split(boston.data, boston.target, test_size = 0.25)"
   ]
  },
  {
   "cell_type": "markdown",
   "metadata": {},
   "source": [
    "# K近邻算法"
   ]
  },
  {
   "cell_type": "code",
   "execution_count": null,
   "metadata": {},
   "outputs": [],
   "source": [
    "\"\"\"\n",
    "它的原理是求两点之间的距离，看谁的距离最近，以此来区分要预测的数据是属于那个分类\n",
    "使用sklearn实现K近邻算法:\n",
    "sklearn.neighbors.KNeighborsClassifier(n_neighbors = 5, algorithm = 'auto')\n",
    "\"\"\""
   ]
  },
  {
   "cell_type": "code",
   "execution_count": 2,
   "metadata": {},
   "outputs": [],
   "source": [
    "from sklearn.neighbors import KNeighborsClassifier\n",
    "import pandas as pd\n",
    "import numpy as np\n",
    "import seaborn as sns"
   ]
  },
  {
   "cell_type": "code",
   "execution_count": 3,
   "metadata": {
    "scrolled": true
   },
   "outputs": [
    {
     "name": "stderr",
     "output_type": "stream",
     "text": [
      "C:\\ProgramData\\Anaconda3\\lib\\site-packages\\seaborn\\_decorators.py:36: FutureWarning: Pass the following variables as keyword args: x, y. From version 0.12, the only valid positional argument will be `data`, and passing other arguments without an explicit keyword will result in an error or misinterpretation.\n",
      "  warnings.warn(\n"
     ]
    },
    {
     "data": {
      "image/png": "[encoded data removed]",
      "text/plain": [
       "<Figure size 432x288 with 1 Axes>"
      ]
     },
     "metadata": {
      "needs_background": "light"
     },
     "output_type": "display_data"
    }
   ],
   "source": [
    "values = np.array([ [0, 0],\n",
    "    [0.1, 0.2],\n",
    "    [1, 1],\n",
    "    [1.1, 0.9]] )\n",
    "labels = ['A', 'A', 'B', 'B']\n",
    "df = pd.DataFrame(values, labels)\n",
    "axis = sns.scatterplot(values[:, 0], values[:, 1])\n",
    "for value, label in zip(values, labels):\n",
    "    axis.text(value[0], value[1], label)"
   ]
  },
  {
   "cell_type": "code",
   "execution_count": 4,
   "metadata": {},
   "outputs": [
    {
     "data": {
      "text/plain": [
       "array(['A'], dtype='<U1')"
      ]
     },
     "execution_count": 4,
     "metadata": {},
     "output_type": "execute_result"
    }
   ],
   "source": [
    "knn = KNeighborsClassifier(n_neighbors = 3)\n",
    "knn.fit(values, labels)\n",
    "knn.predict([[0.3, 0.3]])  # 要给出二维数组"
   ]
  },
  {
   "cell_type": "code",
   "execution_count": 5,
   "metadata": {},
   "outputs": [
    {
     "data": {
      "text/plain": [
       "array(['B'], dtype='<U1')"
      ]
     },
     "execution_count": 5,
     "metadata": {},
     "output_type": "execute_result"
    }
   ],
   "source": [
    "knn.predict([[1.3, 0.6]]) "
   ]
  },
  {
   "cell_type": "code",
   "execution_count": 13,
   "metadata": {},
   "outputs": [
    {
     "data": {
      "text/plain": [
       "\"\\nfrom sklearn.neighbors import KNeighborsClassifier\\nimport pandas as pd\\nimport numpy as np\\nimport seaborn as sns\\nfrom sklearn.model_selection import train_test_split\\nfrom sklearn.preprocessing import StandardScaler\\n\\ndf = pd.read_csv('C:/Users/jiangyu/Desktop/datingTestSets', sep = '\\t', names = ['flight', 'icecream', 'game', 'tppe'])\\ndf.head()\\nfeatures = df.drop(columns = ['type'], axis = 0)  # 去掉type这一列数据，把其他列数据返回给features变量\\ntargets = df['type']\\nX_train, X_test, y_train, y_test = train_test_split(features, targets, test_szie = 0.25)\\nknn = KNeighborsClassifier()\\nknn.fit(X_train, y_train)\\nknn.score(X_test, y_test)  # 0.812\\nknn.predict([[40000, 10, 0.5]])  # array(['largeDoses'], dtype = object)\\n\\n# 标准化\\nscaler = StandarScaler()\\nX_train = scaler.fit_transform(X_train)\\nX_test = scaler.fit_transform(X_test)\\nknn.fit(X_train, y_train)\\nknn.score(X_test, y_test)  # 0.96\\n\""
      ]
     },
     "execution_count": 13,
     "metadata": {},
     "output_type": "execute_result"
    }
   ],
   "source": [
    "\"\"\"\n",
    "from sklearn.neighbors import KNeighborsClassifier\n",
    "import pandas as pd\n",
    "import numpy as np\n",
    "import seaborn as sns\n",
    "from sklearn.model_selection import train_test_split\n",
    "from sklearn.preprocessing import StandardScaler\n",
    "\n",
    "df = pd.read_csv('C:/Users/jiangyu/Desktop/datingTestSets', sep = '\\t', names = ['flight', 'icecream', 'game', 'tppe'])\n",
    "df.head()\n",
    "features = df.drop(columns = ['type'], axis = 0)  # 去掉type这一列数据，把其他列数据返回给features变量\n",
    "targets = df['type']\n",
    "X_train, X_test, y_train, y_test = train_test_split(features, targets, test_szie = 0.25)\n",
    "knn = KNeighborsClassifier()\n",
    "knn.fit(X_train, y_train)\n",
    "knn.score(X_test, y_test)  # 0.812\n",
    "knn.predict([[40000, 10, 0.5]])  # array(['largeDoses'], dtype = object)\n",
    "\n",
    "# 标准化\n",
    "scaler = StandarScaler()\n",
    "X_train = scaler.fit_transform(X_train)\n",
    "X_test = scaler.fit_transform(X_test)\n",
    "knn.fit(X_train, y_train)\n",
    "knn.score(X_test, y_test)  # 0.96\n",
    "\"\"\""
   ]
  },
  {
   "cell_type": "markdown",
   "metadata": {},
   "source": [
    "#### K近邻算法练习"
   ]
  },
  {
   "cell_type": "code",
   "execution_count": 18,
   "metadata": {},
   "outputs": [],
   "source": [
    "# 导入相关库\n",
    "import pandas as pd\n",
    "from sklearn.model_selection import train_test_split  # 训练集和测试集划分工具\n",
    "from sklearn.preprocessing import StandardScaler  # 标准化工具\n",
    "from sklearn.neighbors import KNeighborsClassifier  # K近邻算法库\n",
    "from sklearn.datasets import load_wine  # 导入红酒数据集"
   ]
  },
  {
   "cell_type": "code",
   "execution_count": 19,
   "metadata": {},
   "outputs": [],
   "source": [
    "# 加载数据\n",
    "wine = load_wine()"
   ]
  },
  {
   "cell_type": "code",
   "execution_count": 21,
   "metadata": {},
   "outputs": [],
   "source": [
    "# 标准化\n",
    "scaler = StandardScaler()\n",
    "features = scaler.fit_transform(wine.data)\n",
    "targets = wine.target"
   ]
  },
  {
   "cell_type": "code",
   "execution_count": 29,
   "metadata": {},
   "outputs": [
    {
     "data": {
      "text/plain": [
       "0.9777777777777777"
      ]
     },
     "execution_count": 29,
     "metadata": {},
     "output_type": "execute_result"
    }
   ],
   "source": [
    "# x训练数据集求得分\n",
    "X_train, X_test, y_train, y_test = train_test_split(features, targets, test_size = 0.25)\n",
    "knn = KNeighborsClassifier()\n",
    "knn.fit(X_train, y_train)\n",
    "knn.score(X_test, y_test)"
   ]
  },
  {
   "cell_type": "code",
   "execution_count": 30,
   "metadata": {},
   "outputs": [
    {
     "data": {
      "text/plain": [
       "['alcohol',\n",
       " 'malic_acid',\n",
       " 'ash',\n",
       " 'alcalinity_of_ash',\n",
       " 'magnesium',\n",
       " 'total_phenols',\n",
       " 'flavanoids',\n",
       " 'nonflavanoid_phenols',\n",
       " 'proanthocyanins',\n",
       " 'color_intensity',\n",
       " 'hue',\n",
       " 'od280/od315_of_diluted_wines',\n",
       " 'proline']"
      ]
     },
     "execution_count": 30,
     "metadata": {},
     "output_type": "execute_result"
    }
   ],
   "source": [
    "wine.feature_names"
   ]
  },
  {
   "cell_type": "markdown",
   "metadata": {},
   "source": [
    "# 朴素贝叶斯"
   ]
  },
  {
   "cell_type": "code",
   "execution_count": 1,
   "metadata": {},
   "outputs": [],
   "source": [
    "# 联合概率：指多个条件同时满足的概率  \n",
    "# 条件概率：指 A 事件满足情况下，B 事件发生的概率\n",
    "# 朴素贝叶斯公式：P(A|B) = [P(B|A) * P(A)] / P(B)\n",
    "# P(A|B) ：某个关键词属于某个分类的概率\n",
    "# P(B|A) ：某个分类下，某个关键词出现的概率\n",
    "# P(A) ：某个类别的概率\n",
    "# P(B) ：这个关键词在需要预测的文档中出现的概率"
   ]
  },
  {
   "cell_type": "code",
   "execution_count": 2,
   "metadata": {},
   "outputs": [
    {
     "data": {
      "text/html": [
       "<div>\n",
       "<style scoped>\n",
       "    .dataframe tbody tr th:only-of-type {\n",
       "        vertical-align: middle;\n",
       "    }\n",
       "\n",
       "    .dataframe tbody tr th {\n",
       "        vertical-align: top;\n",
       "    }\n",
       "\n",
       "    .dataframe thead th {\n",
       "        text-align: right;\n",
       "    }\n",
       "</style>\n",
       "<table border=\"1\" class=\"dataframe\">\n",
       "  <thead>\n",
       "    <tr style=\"text-align: right;\">\n",
       "      <th></th>\n",
       "      <th>科技类</th>\n",
       "      <th>娱乐类</th>\n",
       "      <th>汇总</th>\n",
       "    </tr>\n",
       "  </thead>\n",
       "  <tbody>\n",
       "    <tr>\n",
       "      <th>明星</th>\n",
       "      <td>9</td>\n",
       "      <td>51</td>\n",
       "      <td>60</td>\n",
       "    </tr>\n",
       "    <tr>\n",
       "      <th>影院</th>\n",
       "      <td>8</td>\n",
       "      <td>56</td>\n",
       "      <td>64</td>\n",
       "    </tr>\n",
       "    <tr>\n",
       "      <th>云计算</th>\n",
       "      <td>63</td>\n",
       "      <td>0</td>\n",
       "      <td>63</td>\n",
       "    </tr>\n",
       "    <tr>\n",
       "      <th>支付宝</th>\n",
       "      <td>20</td>\n",
       "      <td>15</td>\n",
       "      <td>35</td>\n",
       "    </tr>\n",
       "    <tr>\n",
       "      <th>汇总</th>\n",
       "      <td>100</td>\n",
       "      <td>121</td>\n",
       "      <td>221</td>\n",
       "    </tr>\n",
       "  </tbody>\n",
       "</table>\n",
       "</div>"
      ],
      "text/plain": [
       "     科技类  娱乐类   汇总\n",
       "明星     9   51   60\n",
       "影院     8   56   64\n",
       "云计算   63    0   63\n",
       "支付宝   20   15   35\n",
       "汇总   100  121  221"
      ]
     },
     "execution_count": 2,
     "metadata": {},
     "output_type": "execute_result"
    }
   ],
   "source": [
    "import pandas as pd\n",
    "dat1 = {'科技类':{'明星': 9, '影院': 8, '云计算':63, '支付宝': 20, '汇总': 100},\n",
    "        '娱乐类':{'明星': 51, '影院': 56, '云计算':0, '支付宝': 15, '汇总': 121},\n",
    "        '汇总':{'明星': 60, '影院': 64, '云计算':63, '支付宝': 35, '汇总': 221}}\n",
    "a = pd.DataFrame(dat1)\n",
    "a"
   ]
  },
  {
   "cell_type": "code",
   "execution_count": 3,
   "metadata": {},
   "outputs": [],
   "source": [
    "# 现在有一篇文章包含 影院，支付宝，云计算 试分析该文章属于哪个类别的概率大一些\n",
    "# P(科技|影视，支付宝，云计算) = P(影视，支付宝，云计算|科技) * P(科技) = (8 / 100) * (20 / 100) * (63 / 100) * (100 / 121)\n",
    "# P(娱乐|影视，支付宝，云计算) = P(影视，支付宝，云计算|娱乐) * P(娱乐) = (56 / 121) * (35 / 121) * (63 / 121) * (121 / 221)\n",
    "# 拉普拉斯平滑系数 ：为避免出现概率为 0 的情况，其值默认为 1"
   ]
  },
  {
   "cell_type": "code",
   "execution_count": 31,
   "metadata": {},
   "outputs": [],
   "source": [
    "# 项目实战：文章分类\n",
    "from sklearn.feature_extraction.text import CountVectorizer  # 文本提取库\n",
    "from sklearn.datasets import fetch_20newsgroups  # 远程数据集\n",
    "from sklearn.model_selection import train_test_split\n",
    "from sklearn.naive_bayes import MultinomialNB"
   ]
  },
  {
   "cell_type": "code",
   "execution_count": 27,
   "metadata": {},
   "outputs": [
    {
     "name": "stdout",
     "output_type": "stream",
     "text": [
      "['happy', 'is', 'it', 'life', 'love', 'makes', 'me', 'python', 'short', 'use']\n",
      "[[0 1 0 1 0 0 0 1 1 1]\n",
      " [1 0 1 0 1 1 1 1 0 0]]\n",
      "<class 'scipy.sparse.csr.csr_matrix'>\n"
     ]
    }
   ],
   "source": [
    "world1 = 'Life is short, I use Python'\n",
    "world2 = 'I love Python, it makes me happy'\n",
    "vect = CountVectorizer()\n",
    "words = vect.fit_transform([world1, world2])\n",
    "names = vect.get_feature_names()\n",
    "print(names)\n",
    "print(words.toarray())\n",
    "print(type(words))"
   ]
  },
  {
   "cell_type": "code",
   "execution_count": 33,
   "metadata": {},
   "outputs": [
    {
     "data": {
      "text/plain": [
       "0.8289148108872393"
      ]
     },
     "execution_count": 33,
     "metadata": {},
     "output_type": "execute_result"
    }
   ],
   "source": [
    "newsgroups = fetch_20newsgroups()\n",
    "# newsgroups.target_names\n",
    "X_train, X_test, y_train, y_test = train_test_split(newsgroups.data, newsgroups.target, test_size = 0.25)\n",
    "news_vect = CountVectorizer()\n",
    "X_train = news_vect.fit_transform(X_train)  # 提取特征,然后再矩阵化\n",
    "X_test = news_vect.transform(X_test)  # 只矩阵化\n",
    "nb = MultinomialNB()\n",
    "nb.fit(X_train, y_train)\n",
    "nb.score(X_test, y_test)"
   ]
  },
  {
   "cell_type": "code",
   "execution_count": null,
   "metadata": {},
   "outputs": [],
   "source": [
    "# 朴素贝叶斯算法\n",
    "# 1. 多项式模型，应用于离散性数据，比如：文档分类，垃圾邮件识别等。使用的类是：sklearn.navie_bayes.MultinomialNB\n",
    "# 2. 高斯模型，应用于连续性数据采用。使用的类是：sklearn.navie_bayes.GaussianNB\n",
    "# 3. 伯努利模型，应用于特征值都是 0 和 1 的情况下。使用的类是：sklearn.navie_bayes.BernoulliNB"
   ]
  },
  {
   "cell_type": "markdown",
   "metadata": {},
   "source": [
    "# 决策树"
   ]
  },
  {
   "cell_type": "code",
   "execution_count": 2,
   "metadata": {},
   "outputs": [
    {
     "data": {
      "text/plain": [
       "'\\n信息熵 H(x) = -1 * np.sum(pi * np.ldg(pi)) (比特)\\n信息熵越大，数据越分散，有点类似方差\\n信息增益：表示特征 x 使得类 y 的不确定性减少的程度\\n决策树算法：ID3、C4.5、CART\\n预剪枝：决策树建立过程进行修剪可以降低过拟合\\n后剪枝：决策树建立之后再进行修剪\\n\\nSklearn实现决策树:可以通过sklearn.tree.DecisionTreeClassifier来实现决策树\\n1. criterion: gini(基尼系数) 或则 entroy(信息熵)\\n2. splitter: best 或则 random\\n3. max_depth: 树的最大深度\\n4. min_samples_split: 决策树中某个叶子节点的样本最小个数\\n5. min_weight_fraction_leaf: 叶子节点所有样本权重和的最小值\\n6. max_leaf_nodes: 最大的叶子节点个数\\n7. class_weight: 指定样本各特征的权重\\n8. min_impurity_decrease: 最小的不纯度\\n'"
      ]
     },
     "execution_count": 2,
     "metadata": {},
     "output_type": "execute_result"
    }
   ],
   "source": [
    "\"\"\"\n",
    "信息熵 H(x) = -1 * np.sum(pi * np.ldg(pi)) (比特)\n",
    "信息熵越大，数据越分散，有点类似方差\n",
    "信息增益：表示特征 x 使得类 y 的不确定性减少的程度\n",
    "决策树算法：ID3、C4.5、CART\n",
    "预剪枝：决策树建立过程进行修剪可以降低过拟合\n",
    "后剪枝：决策树建立之后再进行修剪\n",
    "\n",
    "Sklearn实现决策树:可以通过sklearn.tree.DecisionTreeClassifier来实现决策树\n",
    "1. criterion: gini(基尼系数) 或则 entroy(信息熵)\n",
    "2. splitter: best 或则 random\n",
    "3. max_depth: 树的最大深度\n",
    "4. min_samples_split: 决策树中某个叶子节点的样本最小个数\n",
    "5. min_weight_fraction_leaf: 叶子节点所有样本权重和的最小值\n",
    "6. max_leaf_nodes: 最大的叶子节点个数\n",
    "7. class_weight: 指定样本各特征的权重\n",
    "8. min_impurity_decrease: 最小的不纯度\n",
    "\"\"\""
   ]
  },
  {
   "cell_type": "code",
   "execution_count": null,
   "metadata": {},
   "outputs": [],
   "source": []
  }
 ],
 "metadata": {
  "kernelspec": {
   "display_name": "Python 3",
   "language": "python",
   "name": "python3"
  },
  "language_info": {
   "codemirror_mode": {
    "name": "ipython",
    "version": 3
   },
   "file_extension": ".py",
   "mimetype": "text/x-python",
   "name": "python",
   "nbconvert_exporter": "python",
   "pygments_lexer": "ipython3",
   "version": "3.8.10"
  }
 },
 "nbformat": 4,
 "nbformat_minor": 4
}
