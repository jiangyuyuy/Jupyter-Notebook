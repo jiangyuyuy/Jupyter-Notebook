{
 "cells": [
  {
   "cell_type": "code",
   "execution_count": 5,
   "metadata": {},
   "outputs": [
    {
     "name": "stdout",
     "output_type": "stream",
     "text": [
      "索引 0 :  12\n",
      "索引 1 :  20\n",
      "索引 2 :  31\n",
      "索引 3 :  45\n"
     ]
    }
   ],
   "source": [
    "list_1 = [12, 20, 31, 45]\n",
    "for i in list_1:\n",
    "    print(\"索引\", list_1.index(i), \": \", i)"
   ]
  },
  {
   "cell_type": "code",
   "execution_count": 6,
   "metadata": {},
   "outputs": [
    {
     "name": "stdout",
     "output_type": "stream",
     "text": [
      "索引 0 :  12\n",
      "索引 1 :  20\n",
      "索引 2 :  31\n",
      "索引 3 :  45\n"
     ]
    }
   ],
   "source": [
    "for i in range(len(list_1)):\n",
    "    print(\"索引\", i, \": \", list_1[i])"
   ]
  },
  {
   "cell_type": "code",
   "execution_count": 7,
   "metadata": {},
   "outputs": [
    {
     "name": "stdout",
     "output_type": "stream",
     "text": [
      "索引 0 :  12\n",
      "索引 1 :  20\n",
      "索引 2 :  31\n",
      "索引 3 :  45\n"
     ]
    }
   ],
   "source": [
    "for i, j in enumerate(list_1):\n",
    "    print(\"索引\", i, \": \", j)"
   ]
  },
  {
   "cell_type": "code",
   "execution_count": 8,
   "metadata": {},
   "outputs": [
    {
     "name": "stdout",
     "output_type": "stream",
     "text": [
      "[(0, 12), (1, 20), (2, 31), (3, 45)]\n"
     ]
    }
   ],
   "source": [
    "list_2 = list(enumerate(list_1))\n",
    "print(list_2)"
   ]
  },
  {
   "cell_type": "code",
   "execution_count": 11,
   "metadata": {},
   "outputs": [
    {
     "name": "stdout",
     "output_type": "stream",
     "text": [
      "dict_items([('name', 'jiang'), ('age', 18), ('city', 'guangzhou'), ('tel', 10086)])\n"
     ]
    }
   ],
   "source": [
    "dict_1 = {\"name\":\"jiang\", \"age\":18, \"city\":\"guangzhou\", \"tel\":10086}\n",
    "print(dict_1.items())"
   ]
  },
  {
   "cell_type": "code",
   "execution_count": 12,
   "metadata": {},
   "outputs": [
    {
     "name": "stdout",
     "output_type": "stream",
     "text": [
      "name jiang\n",
      "age 18\n",
      "city guangzhou\n",
      "tel 10086\n"
     ]
    }
   ],
   "source": [
    "for key, value in dict_1.items():\n",
    "    print(key, value)"
   ]
  },
  {
   "cell_type": "code",
   "execution_count": 17,
   "metadata": {},
   "outputs": [
    {
     "name": "stdout",
     "output_type": "stream",
     "text": [
      "[('age', 18), ('city', 'guangzhou'), ('name', 'jiang'), ('tel', 10086)]\n"
     ]
    }
   ],
   "source": [
    "list_2 = sorted(dict_1.items(), key=lambda i:i[0], reverse=False)\n",
    "print(list_2)"
   ]
  },
  {
   "cell_type": "code",
   "execution_count": 18,
   "metadata": {},
   "outputs": [
    {
     "name": "stdout",
     "output_type": "stream",
     "text": [
      "{'age': 18, 'city': 'guangzhou', 'name': 'jiang', 'tel': 10086}\n"
     ]
    }
   ],
   "source": [
    "dict_2 = dict(list_2)\n",
    "print(dict_2)"
   ]
  },
  {
   "cell_type": "code",
   "execution_count": 19,
   "metadata": {},
   "outputs": [
    {
     "name": "stdout",
     "output_type": "stream",
     "text": [
      "140720917260128\n"
     ]
    }
   ],
   "source": [
    "a = 3\n",
    "print(id(a))"
   ]
  },
  {
   "cell_type": "code",
   "execution_count": 20,
   "metadata": {},
   "outputs": [
    {
     "name": "stdout",
     "output_type": "stream",
     "text": [
      "140720917260160\n"
     ]
    }
   ],
   "source": [
    "a = 4\n",
    "print(id(a))"
   ]
  },
  {
   "cell_type": "code",
   "execution_count": 21,
   "metadata": {},
   "outputs": [
    {
     "name": "stdout",
     "output_type": "stream",
     "text": [
      "140720917260160\n"
     ]
    }
   ],
   "source": [
    "b = 4\n",
    "print(id(b))"
   ]
  },
  {
   "cell_type": "code",
   "execution_count": 22,
   "metadata": {},
   "outputs": [
    {
     "name": "stdout",
     "output_type": "stream",
     "text": [
      "140720917260128\n"
     ]
    }
   ],
   "source": [
    "b = 3\n",
    "print(id(b))"
   ]
  },
  {
   "cell_type": "code",
   "execution_count": 26,
   "metadata": {},
   "outputs": [
    {
     "name": "stdout",
     "output_type": "stream",
     "text": [
      "2241488694272\n"
     ]
    }
   ],
   "source": [
    "list1 = [1, 2]\n",
    "print(id(list1))"
   ]
  },
  {
   "cell_type": "code",
   "execution_count": 27,
   "metadata": {},
   "outputs": [
    {
     "name": "stdout",
     "output_type": "stream",
     "text": [
      "[1, 2, 3]\n",
      "2241488694272\n"
     ]
    }
   ],
   "source": [
    "list1.append(3)\n",
    "print(list1)\n",
    "print(id(list1))"
   ]
  },
  {
   "cell_type": "code",
   "execution_count": 28,
   "metadata": {},
   "outputs": [
    {
     "name": "stdout",
     "output_type": "stream",
     "text": [
      "2241489665408\n"
     ]
    }
   ],
   "source": [
    "list2 = [1, 2]\n",
    "print(id(list2))"
   ]
  },
  {
   "cell_type": "code",
   "execution_count": 33,
   "metadata": {},
   "outputs": [],
   "source": [
    "f = open(\"file1.txt\", \"w\", encoding=\"utf-8\")\n",
    "f.write(\"123456...\\n\")\n",
    "f.write(\"456\")\n",
    "f.close()"
   ]
  },
  {
   "cell_type": "code",
   "execution_count": 34,
   "metadata": {},
   "outputs": [
    {
     "name": "stdout",
     "output_type": "stream",
     "text": [
      "123456...\n",
      "456\n"
     ]
    }
   ],
   "source": [
    "f = open(\"file1.txt\", \"r\", encoding=\"utf-8\")\n",
    "content = f.read()\n",
    "print(content)\n",
    "f.close()"
   ]
  },
  {
   "cell_type": "code",
   "execution_count": 35,
   "metadata": {},
   "outputs": [
    {
     "name": "stdout",
     "output_type": "stream",
     "text": [
      "123456...\n",
      "\n"
     ]
    }
   ],
   "source": [
    "f = open(\"file1.txt\", \"r\", encoding=\"utf-8\")\n",
    "content = f.readline()\n",
    "print(content)\n",
    "f.close()"
   ]
  },
  {
   "cell_type": "code",
   "execution_count": 37,
   "metadata": {},
   "outputs": [
    {
     "name": "stdout",
     "output_type": "stream",
     "text": [
      "123456...\n",
      "\n",
      "456\n"
     ]
    }
   ],
   "source": [
    "f = open(\"file1.txt\", \"r\", encoding=\"utf-8\")\n",
    "for _ in range(2):\n",
    "    content = f.readline()\n",
    "    print(content)\n",
    "f.close()"
   ]
  },
  {
   "cell_type": "code",
   "execution_count": 38,
   "metadata": {},
   "outputs": [
    {
     "name": "stdout",
     "output_type": "stream",
     "text": [
      "['123456...\\n', '456']\n"
     ]
    }
   ],
   "source": [
    "f = open(\"file1.txt\", \"r\", encoding=\"utf-8\")\n",
    "content = f.readlines()\n",
    "print(content)\n",
    "f.close()"
   ]
  },
  {
   "cell_type": "code",
   "execution_count": 39,
   "metadata": {},
   "outputs": [
    {
     "name": "stdout",
     "output_type": "stream",
     "text": [
      "123456...\n",
      "\n",
      "456\n"
     ]
    }
   ],
   "source": [
    "f = open(\"file1.txt\", \"r\", encoding=\"utf-8\")\n",
    "content = f.readlines()\n",
    "for i in content:\n",
    "    print(i)\n",
    "f.close()"
   ]
  },
  {
   "cell_type": "code",
   "execution_count": 40,
   "metadata": {},
   "outputs": [],
   "source": [
    "import os\n",
    "os.rename(\"file.txt\", \"file0.txt\")"
   ]
  },
  {
   "cell_type": "code",
   "execution_count": 41,
   "metadata": {},
   "outputs": [
    {
     "name": "stdout",
     "output_type": "stream",
     "text": [
      "['hi', 'hi', 'hi', 'hi', 'hi']\n"
     ]
    }
   ],
   "source": [
    "print([\"hi\"] * 5)"
   ]
  },
  {
   "cell_type": "code",
   "execution_count": 42,
   "metadata": {},
   "outputs": [
    {
     "name": "stdout",
     "output_type": "stream",
     "text": [
      "[0, 0, 0, 0, 0]\n"
     ]
    }
   ],
   "source": [
    "a = [0] * 5\n",
    "print(a)"
   ]
  },
  {
   "cell_type": "code",
   "execution_count": 43,
   "metadata": {},
   "outputs": [
    {
     "name": "stdout",
     "output_type": "stream",
     "text": [
      "140720917260032\n",
      "140720917260032\n",
      "140720917260032\n",
      "140720917260032\n",
      "140720917260032\n"
     ]
    }
   ],
   "source": [
    "for i in a:\n",
    "    print(id(i))"
   ]
  },
  {
   "cell_type": "code",
   "execution_count": 44,
   "metadata": {},
   "outputs": [
    {
     "name": "stdout",
     "output_type": "stream",
     "text": [
      "140720917260064\n",
      "140720917260032\n",
      "140720917260032\n",
      "140720917260032\n",
      "140720917260128\n"
     ]
    }
   ],
   "source": [
    "a[0] = 1\n",
    "a[4] = 3\n",
    "for i in a:\n",
    "    print(id(i))"
   ]
  },
  {
   "cell_type": "code",
   "execution_count": 45,
   "metadata": {},
   "outputs": [
    {
     "name": "stdout",
     "output_type": "stream",
     "text": [
      "[[0, 0, 0, 0], [0, 0, 0, 0], [0, 0, 0, 0]]\n"
     ]
    }
   ],
   "source": [
    "b = [[0] * 4] * 3  # 这种方式初始化是错误的, 不能对列表重复，因为列表是可变数据类型\n",
    "print(b)"
   ]
  },
  {
   "cell_type": "code",
   "execution_count": 47,
   "metadata": {},
   "outputs": [
    {
     "name": "stdout",
     "output_type": "stream",
     "text": [
      "[[0, 1, 0, 0], [0, 1, 0, 0], [0, 1, 0, 0]]\n"
     ]
    }
   ],
   "source": [
    "b[0][1] = 1\n",
    "print(b)"
   ]
  },
  {
   "cell_type": "code",
   "execution_count": 48,
   "metadata": {},
   "outputs": [
    {
     "name": "stdout",
     "output_type": "stream",
     "text": [
      "[[0, 0, 0, 0], [0, 0, 0, 0], [0, 0, 0, 0]]\n"
     ]
    }
   ],
   "source": [
    "c = [[0] * 4 for _ in range(3)]  # 正确的初始化方法\n",
    "print(c)"
   ]
  },
  {
   "cell_type": "code",
   "execution_count": 49,
   "metadata": {},
   "outputs": [
    {
     "name": "stdout",
     "output_type": "stream",
     "text": [
      "[[2, 0, 0, 0], [0, 0, 0, 0], [0, 0, 0, 0]]\n"
     ]
    }
   ],
   "source": [
    "c[0][0] = 2\n",
    "print(c)"
   ]
  },
  {
   "cell_type": "code",
   "execution_count": 50,
   "metadata": {},
   "outputs": [
    {
     "name": "stdout",
     "output_type": "stream",
     "text": [
      "[1, 2, [3, 4]]\n",
      "[1, 2, [3, 4]]\n"
     ]
    }
   ],
   "source": [
    "list1 = [1, 2, [3, 4]]\n",
    "list2 = list1\n",
    "print(list1)\n",
    "print(list2)"
   ]
  },
  {
   "cell_type": "code",
   "execution_count": 51,
   "metadata": {},
   "outputs": [
    {
     "name": "stdout",
     "output_type": "stream",
     "text": [
      "[2, 2, [3, 4]]\n",
      "[2, 2, [3, 4]]\n"
     ]
    }
   ],
   "source": [
    "list1[0] = 2\n",
    "print(list1)\n",
    "print(list2)"
   ]
  },
  {
   "cell_type": "code",
   "execution_count": 52,
   "metadata": {},
   "outputs": [
    {
     "name": "stdout",
     "output_type": "stream",
     "text": [
      "2241489711680\n",
      "2241489711680\n"
     ]
    }
   ],
   "source": [
    "print(id(list1))\n",
    "print(id(list2))"
   ]
  },
  {
   "cell_type": "code",
   "execution_count": 53,
   "metadata": {},
   "outputs": [
    {
     "name": "stdout",
     "output_type": "stream",
     "text": [
      "2241489726720\n",
      "2241489726976\n"
     ]
    }
   ],
   "source": [
    "import copy \n",
    "A = list1.copy()  # 浅拷贝\n",
    "B = copy.copy(list1)  # 浅拷贝\n",
    "print(id(A))\n",
    "print(id(B))"
   ]
  },
  {
   "cell_type": "code",
   "execution_count": 1,
   "metadata": {},
   "outputs": [
    {
     "name": "stdout",
     "output_type": "stream",
     "text": [
      "3\n"
     ]
    }
   ],
   "source": [
    "a = 1 and 3\n",
    "print(a)"
   ]
  },
  {
   "cell_type": "code",
   "execution_count": 2,
   "metadata": {},
   "outputs": [
    {
     "name": "stdout",
     "output_type": "stream",
     "text": [
      "0\n"
     ]
    }
   ],
   "source": [
    "b = 0 and 2\n",
    "print(b)"
   ]
  },
  {
   "cell_type": "code",
   "execution_count": 8,
   "metadata": {},
   "outputs": [
    {
     "name": "stdout",
     "output_type": "stream",
     "text": [
      "[(1, 2)]\n"
     ]
    }
   ],
   "source": [
    "a = []\n",
    "b = [] + [(1, 2)]\n",
    "print(b)"
   ]
  },
  {
   "cell_type": "code",
   "execution_count": 9,
   "metadata": {},
   "outputs": [
    {
     "name": "stdout",
     "output_type": "stream",
     "text": [
      "[(1, 2)]\n"
     ]
    }
   ],
   "source": [
    "print(b[::-1])"
   ]
  },
  {
   "cell_type": "code",
   "execution_count": 10,
   "metadata": {},
   "outputs": [
    {
     "name": "stdout",
     "output_type": "stream",
     "text": [
      "[(1, 2), (2, 3)]\n",
      "[(2, 3), (1, 2)]\n"
     ]
    }
   ],
   "source": [
    "b = b + [(2, 3)]\n",
    "print(b)\n",
    "print(b[::-1])"
   ]
  },
  {
   "cell_type": "code",
   "execution_count": 11,
   "metadata": {},
   "outputs": [
    {
     "name": "stdout",
     "output_type": "stream",
     "text": [
      "{(4, 5)}\n"
     ]
    }
   ],
   "source": [
    "a = set()\n",
    "B = (4, 5)\n",
    "a.add(B)\n",
    "print(a)"
   ]
  },
  {
   "cell_type": "code",
   "execution_count": 12,
   "metadata": {},
   "outputs": [
    {
     "name": "stdout",
     "output_type": "stream",
     "text": [
      "{(7, 4): (7, 3)}\n"
     ]
    }
   ],
   "source": [
    "a = {}\n",
    "b = (7, 4)\n",
    "c = (7, 3)\n",
    "a[b] = c \n",
    "print(a)"
   ]
  },
  {
   "cell_type": "code",
   "execution_count": 13,
   "metadata": {},
   "outputs": [
    {
     "name": "stdout",
     "output_type": "stream",
     "text": [
      "[(14, (7, 3))]\n"
     ]
    }
   ],
   "source": [
    "open_list = []\n",
    "import heapq\n",
    "start = (7, 3)\n",
    "fscore = {(7, 3):14}\n",
    "heapq.heappush(open_list, (fscore[start], start))\n",
    "print(open_list)"
   ]
  },
  {
   "cell_type": "code",
   "execution_count": 15,
   "metadata": {},
   "outputs": [],
   "source": [
    "import numpy as np\n",
    "S = np.array([  # S.shape = [15, 20]\n",
    "        [1, 1, 0, 0, 1, 0, 0, 0, 0, 0, 1, 1, 1, 0, 0, 1, 0, 1, 1, 1],\n",
    "        [0, 0, 1, 0, 1, 1, 1, 0, 0, 1, 0, 0, 1, 1, 0, 1, 0, 0, 0, 0],\n",
    "        [1, 0, 0, 0, 1, 0, 1, 1, 0, 0, 0, 0, 0, 1, 0, 0, 1, 1, 1, 0],\n",
    "        [0, 0, 0, 0, 1, 0, 1, 1, 0, 0, 0, 0, 1, 1, 0, 1, 1, 0, 0, 1],\n",
    "        [0, 0, 0, 1, 0, 0, 0, 1, 1, 0, 1, 0, 1, 1, 0, 1, 0, 1, 0, 0],\n",
    "        [0, 1, 1, 1, 1, 1, 0, 1, 1, 1, 1, 0, 1, 0, 0, 1, 0, 1, 0, 1],\n",
    "        [0, 1, 1, 1, 1, 1, 0, 0, 0, 0, 0, 0, 1, 1, 1, 0, 0, 1, 0, 0],\n",
    "        [0, 0, 0, 0, 0, 0, 0, 1, 1, 1, 1, 0, 0, 0, 0, 0, 0, 0, 0, 1],\n",
    "        [0, 0, 1, 1, 1, 1, 0, 0, 0, 0, 1, 1, 1, 0, 1, 1, 1, 1, 0, 1],\n",
    "        [1, 0, 0, 1, 1, 1, 1, 0, 0, 0, 0, 1, 1, 0, 1, 0, 0, 1, 0, 0],\n",
    "        [1, 0, 1, 1, 0, 0, 0, 0, 0, 0, 1, 1, 0, 0, 0, 0, 1, 1, 0, 0],\n",
    "        [0, 0, 0, 1, 0, 0, 0, 0, 0, 0, 0, 0, 0, 0, 0, 1, 0, 1, 0, 1],\n",
    "        [1, 0, 0, 0, 0, 1, 0, 1, 0, 0, 1, 0, 0, 0, 0, 1, 0, 0, 0, 0],\n",
    "        [0, 0, 0, 0, 1, 1, 0, 1, 0, 1, 0, 0, 0, 0, 0, 1, 0, 0, 1, 0],\n",
    "        [1, 0, 0, 1, 0, 1, 0, 1, 1, 0, 0, 0, 0, 1, 1, 0, 1, 0, 1, 0],\n",
    "    ])"
   ]
  },
  {
   "cell_type": "code",
   "execution_count": 19,
   "metadata": {},
   "outputs": [
    {
     "data": {
      "image/png": "[encoded data removed]",
      "text/plain": [
       "<Figure size 360x360 with 1 Axes>"
      ]
     },
     "metadata": {
      "needs_background": "light"
     },
     "output_type": "display_data"
    }
   ],
   "source": [
    "import matplotlib.pyplot as plt\n",
    "fig, ax = plt.subplots(figsize=(5, 5))\n",
    "ax.imshow(S, cmap=plt.cm.Dark2)\n",
    "plt.grid()\n",
    "plt.show()"
   ]
  },
  {
   "cell_type": "code",
   "execution_count": 20,
   "metadata": {},
   "outputs": [
    {
     "data": {
      "text/plain": [
       "5000"
      ]
     },
     "execution_count": 20,
     "metadata": {},
     "output_type": "execute_result"
    }
   ],
   "source": [
    "a = 5_000\n",
    "a"
   ]
  },
  {
   "cell_type": "code",
   "execution_count": 1,
   "metadata": {},
   "outputs": [],
   "source": [
    "from torch.utils.tensorboard import SummaryWriter\n",
    "writer = SummaryWriter(\"log\")\n",
    "for i in range(100):\n",
    "    writer.add_scalar(\"y=2x\", 2 * i, 1)\n",
    "writer.close()"
   ]
  },
  {
   "cell_type": "code",
   "execution_count": 9,
   "metadata": {},
   "outputs": [
    {
     "data": {
      "text/plain": [
       "'D:\\\\ipynb'"
      ]
     },
     "execution_count": 9,
     "metadata": {},
     "output_type": "execute_result"
    }
   ],
   "source": [
    "pwd"
   ]
  },
  {
   "cell_type": "code",
   "execution_count": 6,
   "metadata": {},
   "outputs": [
    {
     "data": {
      "image/png": "[encoded data removed]",
      "text/plain": [
       "<Figure size 432x288 with 1 Axes>"
      ]
     },
     "metadata": {},
     "output_type": "display_data"
    }
   ],
   "source": [
    "import matplotlib.pyplot as plt\n",
    "import numpy as np\n",
    "#plt.style.use('bmh')  \n",
    "#plt.style.use('dark_background')\n",
    "plt.style.use('ggplot')\n",
    "# make data\n",
    "np.random.seed(1)\n",
    "x = np.linspace(0, 8, 16)\n",
    "y1 = 3 + 4*x/8 + np.random.uniform(0.0, 0.5, len(x))\n",
    "y2 = 1 + 2*x/8 + np.random.uniform(0.0, 0.5, len(x))\n",
    "# plot\n",
    "fig, ax = plt.subplots()\n",
    "ax.fill_between(x, y1, y2, alpha=.5, linewidth=0)\n",
    "ax.plot(x, (y1 + y2)/2, linewidth=2)\n",
    "ax.set(xlim=(0, 8), xticks=np.arange(1, 8),\n",
    "       ylim=(0, 8), yticks=np.arange(1, 8))\n",
    "plt.show()"
   ]
  },
  {
   "cell_type": "code",
   "execution_count": 19,
   "metadata": {},
   "outputs": [],
   "source": [
    "import numpy as np\n",
    "reward_list = [np.random.randint(450, 500) for _ in range(100)]\n",
    "reward_list_1 = [5 * i / 6 for i in reward_list]\n",
    "reward_list_2 = [i + 1 * i / 6 for i in reward_list]"
   ]
  },
  {
   "cell_type": "code",
   "execution_count": 23,
   "metadata": {},
   "outputs": [
    {
     "data": {
      "image/png": "[encoded data removed]",
      "text/plain": [
       "<Figure size 432x288 with 1 Axes>"
      ]
     },
     "metadata": {},
     "output_type": "display_data"
    }
   ],
   "source": [
    "import matplotlib.pyplot as plt\n",
    "plt.style.use('ggplot')\n",
    "x = range(1, len(reward_list) + 1)\n",
    "fig, ax = plt.subplots()\n",
    "ax.fill_between(x, reward_list_1, reward_list_2, facecolor='g', alpha=.2, linewidth=0)\n",
    "ax.plot(x, reward_list, linewidth=1, color=\"b\")\n",
    "plt.show()"
   ]
  },
  {
   "cell_type": "code",
   "execution_count": 6,
   "metadata": {},
   "outputs": [
    {
     "name": "stdout",
     "output_type": "stream",
     "text": [
      "Categorical(probs: torch.Size([4]))\n",
      "tensor(2)\n"
     ]
    }
   ],
   "source": [
    "import torch\n",
    "from torch.distributions.categorical import Categorical\n",
    "rand = Categorical(torch.tensor([0.25, 0.25, 0.25, 0.25]))\n",
    "# 按[0.25,0.25,0.25,0.25]的概率去生成[0,1,2,3]\n",
    "print(rand)\n",
    "print(rand.sample())"
   ]
  },
  {
   "cell_type": "code",
   "execution_count": 8,
   "metadata": {},
   "outputs": [
    {
     "data": {
      "text/plain": [
       "tensor(2)"
      ]
     },
     "execution_count": 8,
     "metadata": {},
     "output_type": "execute_result"
    }
   ],
   "source": [
    "torch.tensor(2)"
   ]
  },
  {
   "cell_type": "code",
   "execution_count": 24,
   "metadata": {},
   "outputs": [
    {
     "name": "stdout",
     "output_type": "stream",
     "text": [
      "1.0.1\n"
     ]
    }
   ],
   "source": [
    "a = '1.0.1'\n",
    "print(a)"
   ]
  },
  {
   "cell_type": "code",
   "execution_count": 25,
   "metadata": {},
   "outputs": [
    {
     "data": {
      "text/plain": [
       "'1.0'"
      ]
     },
     "execution_count": 25,
     "metadata": {},
     "output_type": "execute_result"
    }
   ],
   "source": [
    "a[:3]"
   ]
  },
  {
   "cell_type": "code",
   "execution_count": 2,
   "metadata": {},
   "outputs": [],
   "source": [
    "from collections import OrderedDict\n",
    "V = dict(left=OrderedDict(dl=2, du=2, ud=2, ul=2),\n",
    "                         straight=OrderedDict(dl=1, du=2, ud=2, ru=2, ur=2),\n",
    "                         right=OrderedDict(dr=1, ur=2, lr=2))"
   ]
  },
  {
   "cell_type": "code",
   "execution_count": 3,
   "metadata": {},
   "outputs": [
    {
     "name": "stdout",
     "output_type": "stream",
     "text": [
      "{'left': OrderedDict([('dl', 2), ('du', 2), ('ud', 2), ('ul', 2)]), 'straight': OrderedDict([('dl', 1), ('du', 2), ('ud', 2), ('ru', 2), ('ur', 2)]), 'right': OrderedDict([('dr', 1), ('ur', 2), ('lr', 2)])}\n"
     ]
    }
   ],
   "source": [
    "print(V)"
   ]
  },
  {
   "cell_type": "code",
   "execution_count": 5,
   "metadata": {},
   "outputs": [
    {
     "data": {
      "text/plain": [
       "OrderedDict([('dl', 2), ('du', 2), ('ud', 2), ('ul', 2)])"
      ]
     },
     "execution_count": 5,
     "metadata": {},
     "output_type": "execute_result"
    }
   ],
   "source": [
    "V[\"left\"]"
   ]
  },
  {
   "cell_type": "code",
   "execution_count": 6,
   "metadata": {},
   "outputs": [
    {
     "name": "stdout",
     "output_type": "stream",
     "text": [
      "tensor([[0.0290, 0.4019, 0.2598, 0.3666],\n",
      "        [0.0583, 0.7006, 0.0518, 0.4681],\n",
      "        [0.6738, 0.3315, 0.7837, 0.5631],\n",
      "        [0.7749, 0.8208, 0.2793, 0.6817]])\n"
     ]
    }
   ],
   "source": [
    "import torch\n",
    "torch.manual_seed(1234)\n",
    "print(torch.Tensor(4,4).uniform_(0,1))\n",
    "# tensor([[0.0290, 0.4019, 0.2598, 0.3666],\n",
    "#         [0.0583, 0.7006, 0.0518, 0.4681],\n",
    "#         [0.6738, 0.3315, 0.7837, 0.5631],\n",
    "#         [0.7749, 0.8208, 0.2793, 0.6817]])"
   ]
  },
  {
   "cell_type": "code",
   "execution_count": 12,
   "metadata": {},
   "outputs": [
    {
     "name": "stdout",
     "output_type": "stream",
     "text": [
      "tensor([[0., 0., 1., 0.],\n",
      "        [0., 1., 0., 0.],\n",
      "        [0., 0., 1., 1.],\n",
      "        [0., 1., 0., 1.]])\n"
     ]
    }
   ],
   "source": [
    "import torch\n",
    "torch.manual_seed(1234)\n",
    "print(torch.bernoulli(torch.Tensor(4,4).uniform_(0,1)))\n",
    "# tensor([[0., 0., 1., 0.],\n",
    "#         [0., 1., 0., 0.],\n",
    "#         [0., 0., 1., 1.],\n",
    "#         [0., 1., 0., 1.]])"
   ]
  },
  {
   "cell_type": "code",
   "execution_count": 13,
   "metadata": {},
   "outputs": [
    {
     "name": "stdout",
     "output_type": "stream",
     "text": [
      "tensor([10., 10., 13., 10., 34., 45., 65., 67., 34.])\n",
      "tensor([8, 7, 6])\n",
      "tensor([34., 67., 65.])\n",
      "tensor([0, 6, 5])\n"
     ]
    }
   ],
   "source": [
    "import  torch\n",
    "x = torch.Tensor([10, 10, 13, 10, 34, 45, 65, 67, 34])\n",
    "print(x)\n",
    "s = torch.multinomial(x, 3)\n",
    "print(s)\n",
    "# tensor([10., 10., 13., 10., 34., 45., 65., 67., 34.])\n",
    "# tensor([6, 5, 3])\n",
    "print(x[s])\n",
    "# tensor([65., 45., 10.])\n",
    "s2 = torch.multinomial(x, 3, replacement=True)\n",
    "print(s2)\n",
    "# tensor([5, 8, 0])"
   ]
  },
  {
   "cell_type": "code",
   "execution_count": 14,
   "metadata": {},
   "outputs": [
    {
     "name": "stdout",
     "output_type": "stream",
     "text": [
      "tensor([ 1.8184,  1.3116,  3.6433,  3.9032,  5.1917,  5.4906,  6.4741,  8.7568,\n",
      "         9.0900, 10.0271])\n",
      "tensor([-0.3087,  0.4805, -0.3330,  0.5492,  0.8478,  0.4700,  0.5726,  0.2961,\n",
      "         0.4487,  0.3181])\n"
     ]
    }
   ],
   "source": [
    "import torch\n",
    "print(torch.normal(mean=torch.arange(1.,11.),std=torch.arange(1, 0, -0.1)))\n",
    "print(torch.normal(mean=0.5,std=torch.arange(1, 0, -0.1)))\n",
    "# tensor([0.6081, 2.0959, 3.3777, 3.2333, 5.7116, 5.8800, 6.8375, 7.7534, 8.6826, 9.9325])\n",
    "# tensor([ 1.3883,  2.3341,  1.6991, -0.3810,  0.2032,  0.6049, -0.0235,  0.1430, 0.7984,  0.4316])"
   ]
  },
  {
   "cell_type": "code",
   "execution_count": null,
   "metadata": {},
   "outputs": [],
   "source": []
  }
 ],
 "metadata": {
  "kernelspec": {
   "display_name": "Python 3",
   "language": "python",
   "name": "python3"
  },
  "language_info": {
   "codemirror_mode": {
    "name": "ipython",
    "version": 3
   },
   "file_extension": ".py",
   "mimetype": "text/x-python",
   "name": "python",
   "nbconvert_exporter": "python",
   "pygments_lexer": "ipython3",
   "version": "3.8.5"
  }
 },
 "nbformat": 4,
 "nbformat_minor": 4
}
