{
 "cells": [
  {
   "cell_type": "code",
   "execution_count": 1,
   "metadata": {},
   "outputs": [
    {
     "data": {
      "text/plain": [
       "(Bernoulli(probs: 0.5),\n",
       " tensor([[0.6196, 0.8533, 0.7224, 0.7670, 0.1143],\n",
       "         [0.4029, 0.4340, 0.5146, 0.9677, 0.3558],\n",
       "         [0.6987, 0.0196, 0.3622, 0.7990, 0.3895],\n",
       "         [0.3811, 0.5607, 0.5803, 0.4775, 0.4352],\n",
       "         [0.0953, 0.7569, 0.9279, 0.6191, 0.2136]]))"
      ]
     },
     "execution_count": 1,
     "metadata": {},
     "output_type": "execute_result"
    }
   ],
   "source": [
    "# Dropout 正则化\n",
    "import torch\n",
    "from torch.distributions import Bernoulli\n",
    "activations = torch.rand((5, 5))\n",
    "m = Bernoulli(0.5)\n",
    "m, activations"
   ]
  },
  {
   "cell_type": "code",
   "execution_count": 2,
   "metadata": {},
   "outputs": [
    {
     "data": {
      "text/plain": [
       "tensor([[0., 1., 1., 1., 0.],\n",
       "        [0., 1., 1., 0., 1.],\n",
       "        [0., 1., 0., 0., 0.],\n",
       "        [1., 0., 1., 0., 1.],\n",
       "        [0., 1., 0., 1., 0.]])"
      ]
     },
     "execution_count": 2,
     "metadata": {},
     "output_type": "execute_result"
    }
   ],
   "source": [
    "mask = m.sample(activations.shape)\n",
    "mask"
   ]
  },
  {
   "cell_type": "code",
   "execution_count": 3,
   "metadata": {},
   "outputs": [
    {
     "data": {
      "text/plain": [
       "tensor([[0.0000, 0.8533, 0.7224, 0.7670, 0.0000],\n",
       "        [0.0000, 0.4340, 0.5146, 0.0000, 0.3558],\n",
       "        [0.0000, 0.0196, 0.0000, 0.0000, 0.0000],\n",
       "        [0.3811, 0.0000, 0.5803, 0.0000, 0.4352],\n",
       "        [0.0000, 0.7569, 0.0000, 0.6191, 0.0000]])"
      ]
     },
     "execution_count": 3,
     "metadata": {},
     "output_type": "execute_result"
    }
   ],
   "source": [
    "activations *= mask\n",
    "activations"
   ]
  },
  {
   "cell_type": "code",
   "execution_count": 4,
   "metadata": {},
   "outputs": [
    {
     "data": {
      "text/plain": [
       "Dropout(p=0.5, inplace=False)"
      ]
     },
     "execution_count": 4,
     "metadata": {},
     "output_type": "execute_result"
    }
   ],
   "source": [
    "from torch import nn\n",
    "p, count, iters, shape = 0.5, 0, 50, (5, 5)\n",
    "dropout = nn.Dropout(p)\n",
    "dropout.train()"
   ]
  },
  {
   "cell_type": "code",
   "execution_count": 5,
   "metadata": {},
   "outputs": [
    {
     "name": "stdout",
     "output_type": "stream",
     "text": [
      "Train 模式影响了50.8%的神经元\n"
     ]
    }
   ],
   "source": [
    "for _ in range(iters):\n",
    "    activations = torch.rand(shape) + 1e-5\n",
    "    output = dropout(activations)\n",
    "    count += torch.sum(output == activations * (1 / (1 - p)))\n",
    "print(f\"Train 模式影响了{100 * (1 - float(count) / (activations.nelement() * iters)):.1f}%的神经元\")"
   ]
  },
  {
   "cell_type": "code",
   "execution_count": 6,
   "metadata": {},
   "outputs": [
    {
     "data": {
      "text/plain": [
       "tensor([[False, False, False,  True, False],\n",
       "        [ True, False,  True, False, False],\n",
       "        [False, False,  True,  True,  True],\n",
       "        [False, False, False, False, False],\n",
       "        [False, False, False,  True, False]])"
      ]
     },
     "execution_count": 6,
     "metadata": {},
     "output_type": "execute_result"
    }
   ],
   "source": [
    "output == activations * (1 / (1 - p))"
   ]
  },
  {
   "cell_type": "code",
   "execution_count": 7,
   "metadata": {},
   "outputs": [
    {
     "data": {
      "text/plain": [
       "tensor([[0., 0., 0., 1., 0.],\n",
       "        [1., 0., 1., 0., 0.],\n",
       "        [0., 0., 1., 1., 1.],\n",
       "        [0., 0., 0., 0., 0.],\n",
       "        [0., 0., 0., 1., 0.]])"
      ]
     },
     "execution_count": 7,
     "metadata": {},
     "output_type": "execute_result"
    }
   ],
   "source": [
    "(output == activations * (1 / (1 - p))).float()"
   ]
  },
  {
   "cell_type": "code",
   "execution_count": 8,
   "metadata": {},
   "outputs": [
    {
     "name": "stdout",
     "output_type": "stream",
     "text": [
      "Eval 模式影响了0.0%的神经元\n"
     ]
    }
   ],
   "source": [
    "count = 0\n",
    "dropout.eval()\n",
    "for _ in range(iters):\n",
    "    activations = torch.rand(shape) + 1e-5\n",
    "    output = dropout(activations)\n",
    "    count += torch.sum(output == activations)  # 测试阶段不需要乘以 1 / (1 - p)\n",
    "print(f\"Eval 模式影响了{100 * (1 - float(count) / (activations.nelement() * iters)):.1f}%的神经元\")"
   ]
  },
  {
   "cell_type": "code",
   "execution_count": 9,
   "metadata": {},
   "outputs": [],
   "source": [
    "# 批标准化\n",
    "import torch\n",
    "from torch import nn"
   ]
  },
  {
   "cell_type": "code",
   "execution_count": 10,
   "metadata": {},
   "outputs": [
    {
     "name": "stdout",
     "output_type": "stream",
     "text": [
      "BEFORE\n",
      "running_mean: tensor([0., 0., 0., 0., 0.])\n",
      "running_var: tensor([1., 1., 1., 1., 1.])\n"
     ]
    }
   ],
   "source": [
    "m = nn.BatchNorm1d(num_features = 5, affine = False)\n",
    "print(\"BEFORE\")\n",
    "print(\"running_mean:\", m.running_mean)\n",
    "print(\"running_var:\", m.running_var)"
   ]
  },
  {
   "cell_type": "code",
   "execution_count": 11,
   "metadata": {},
   "outputs": [],
   "source": [
    "for _ in range(100):\n",
    "    input = torch.randn(20, 5)\n",
    "    output = m(input)"
   ]
  },
  {
   "cell_type": "code",
   "execution_count": 12,
   "metadata": {},
   "outputs": [
    {
     "data": {
      "text/plain": [
       "(torch.Size([20, 5]),\n",
       " tensor([[-0.7554,  1.2216,  0.8998,  0.3112, -0.4706],\n",
       "         [-1.0602,  2.0212,  0.0225,  0.8421,  0.7273],\n",
       "         [ 0.5163,  0.3491,  0.9872,  0.9916,  1.2226],\n",
       "         [ 0.5108,  0.7029, -1.0604,  0.3484,  1.1812],\n",
       "         [-0.6991, -1.0747,  0.5229,  0.5034,  0.1215]]),\n",
       " torch.Size([20, 5]),\n",
       " tensor([[-0.6919,  0.9283,  1.3450,  0.1044, -0.6471],\n",
       "         [-1.0343,  1.9080,  0.3792,  0.5088,  0.7554],\n",
       "         [ 0.7366, -0.1409,  1.4411,  0.6226,  1.3353],\n",
       "         [ 0.7305,  0.2927, -0.8127,  0.1328,  1.2868],\n",
       "         [-0.6287, -1.8855,  0.9300,  0.2508,  0.0461]]))"
      ]
     },
     "execution_count": 12,
     "metadata": {},
     "output_type": "execute_result"
    }
   ],
   "source": [
    "input.size(), input[:5], output.size(), output[:5]"
   ]
  },
  {
   "cell_type": "code",
   "execution_count": 13,
   "metadata": {},
   "outputs": [
    {
     "name": "stdout",
     "output_type": "stream",
     "text": [
      "AFTER\n",
      "running_mean: tensor([-0.0229,  0.0272, -0.0490,  0.0192,  0.0112])\n",
      "running_var: tensor([1.0332, 0.9424, 0.9128, 1.0989, 0.9065])\n"
     ]
    }
   ],
   "source": [
    "print('AFTER')\n",
    "print(\"running_mean:\", m.running_mean)\n",
    "print(\"running_var:\", m.running_var)"
   ]
  },
  {
   "cell_type": "code",
   "execution_count": 14,
   "metadata": {},
   "outputs": [],
   "source": [
    "m.eval()\n",
    "for _ in range(100):\n",
    "    input = torch.randn(20, 5)\n",
    "    output = m(input)"
   ]
  },
  {
   "cell_type": "code",
   "execution_count": 15,
   "metadata": {},
   "outputs": [
    {
     "name": "stdout",
     "output_type": "stream",
     "text": [
      "EVAL\n",
      "running_mean: tensor([-0.0229,  0.0272, -0.0490,  0.0192,  0.0112])\n",
      "running_var: tensor([1.0332, 0.9424, 0.9128, 1.0989, 0.9065])\n"
     ]
    }
   ],
   "source": [
    "print(\"EVAL\")  # eval 模式批量归一化参数也不进行更新\n",
    "print(\"running_mean:\", m.running_mean)\n",
    "print(\"running_var:\", m.running_var)"
   ]
  },
  {
   "cell_type": "code",
   "execution_count": 16,
   "metadata": {},
   "outputs": [],
   "source": [
    "import torch\n",
    "from torch import nn"
   ]
  },
  {
   "cell_type": "code",
   "execution_count": 17,
   "metadata": {},
   "outputs": [
    {
     "name": "stdout",
     "output_type": "stream",
     "text": [
      "No Affine, Gamma: None\n",
      "No Affine, beta: None\n"
     ]
    }
   ],
   "source": [
    "print(\"No Affine, Gamma:\", m.weight)\n",
    "print(\"No Affine, beta:\", m.bias)"
   ]
  },
  {
   "cell_type": "code",
   "execution_count": 19,
   "metadata": {},
   "outputs": [
    {
     "name": "stdout",
     "output_type": "stream",
     "text": [
      "with affine, gamma: Parameter containing:\n",
      "tensor([1., 1., 1., 1., 1.], requires_grad=True)\n",
      "with affine, beta: Parameter containing:\n",
      "tensor([0., 0., 0., 0., 0.], requires_grad=True)\n"
     ]
    }
   ],
   "source": [
    "m_affine = nn.BatchNorm1d(num_features = 5, affine = True)\n",
    "print(\"with affine, gamma:\", m_affine.weight)\n",
    "print(\"with affine, beta:\", m_affine.bias)"
   ]
  },
  {
   "cell_type": "code",
   "execution_count": null,
   "metadata": {},
   "outputs": [],
   "source": []
  }
 ],
 "metadata": {
  "kernelspec": {
   "display_name": "Python 3",
   "language": "python",
   "name": "python3"
  },
  "language_info": {
   "codemirror_mode": {
    "name": "ipython",
    "version": 3
   },
   "file_extension": ".py",
   "mimetype": "text/x-python",
   "name": "python",
   "nbconvert_exporter": "python",
   "pygments_lexer": "ipython3",
   "version": "3.8.5"
  }
 },
 "nbformat": 4,
 "nbformat_minor": 4
}
