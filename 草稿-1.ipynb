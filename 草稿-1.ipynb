{
 "cells": [
  {
   "cell_type": "code",
   "execution_count": 1,
   "metadata": {},
   "outputs": [],
   "source": [
    "import time\n",
    "def timer(func):\n",
    "    def wrap():\n",
    "        start = time.time()\n",
    "        func()\n",
    "        end = time.time()\n",
    "        used = end - start\n",
    "        print(f\"{func.__name__} used {used:.5f}s\")\n",
    "    return wrap"
   ]
  },
  {
   "cell_type": "code",
   "execution_count": 2,
   "metadata": {},
   "outputs": [],
   "source": [
    "def func1():\n",
    "    time.sleep(1)"
   ]
  },
  {
   "cell_type": "code",
   "execution_count": 3,
   "metadata": {},
   "outputs": [
    {
     "data": {
      "text/plain": [
       "'func1'"
      ]
     },
     "execution_count": 3,
     "metadata": {},
     "output_type": "execute_result"
    }
   ],
   "source": [
    "func1.__name__"
   ]
  },
  {
   "cell_type": "code",
   "execution_count": 4,
   "metadata": {},
   "outputs": [
    {
     "name": "stdout",
     "output_type": "stream",
     "text": [
      "func1 used 1.00262s\n"
     ]
    }
   ],
   "source": [
    "time1 = timer(func1)\n",
    "time1()"
   ]
  },
  {
   "cell_type": "code",
   "execution_count": 5,
   "metadata": {},
   "outputs": [],
   "source": [
    "# 可以在被封装的函数前使用 @ 符号来指定装饰器\n",
    "@timer\n",
    "def func2():\n",
    "    list_ = []\n",
    "    for i in range(10):\n",
    "        for j in range(10):\n",
    "            multi = i * j\n",
    "            list_.append(multi)\n",
    "    return print(list_)"
   ]
  },
  {
   "cell_type": "code",
   "execution_count": 6,
   "metadata": {},
   "outputs": [
    {
     "name": "stdout",
     "output_type": "stream",
     "text": [
      "[0, 0, 0, 0, 0, 0, 0, 0, 0, 0, 0, 1, 2, 3, 4, 5, 6, 7, 8, 9, 0, 2, 4, 6, 8, 10, 12, 14, 16, 18, 0, 3, 6, 9, 12, 15, 18, 21, 24, 27, 0, 4, 8, 12, 16, 20, 24, 28, 32, 36, 0, 5, 10, 15, 20, 25, 30, 35, 40, 45, 0, 6, 12, 18, 24, 30, 36, 42, 48, 54, 0, 7, 14, 21, 28, 35, 42, 49, 56, 63, 0, 8, 16, 24, 32, 40, 48, 56, 64, 72, 0, 9, 18, 27, 36, 45, 54, 63, 72, 81]\n",
      "func2 used 0.00100s\n"
     ]
    }
   ],
   "source": [
    "func2()"
   ]
  },
  {
   "cell_type": "code",
   "execution_count": 17,
   "metadata": {},
   "outputs": [],
   "source": [
    "# 带参数的装饰器\n",
    "def timer1(func):\n",
    "    def wrap(*args, **kwargs):\n",
    "        start = time.time()\n",
    "        func(*args, **kwargs)\n",
    "        end = time.time()\n",
    "        used = end - start\n",
    "        print(f\"{func.__name__} used {used:.5f}s\")\n",
    "    return wrap"
   ]
  },
  {
   "cell_type": "code",
   "execution_count": 18,
   "metadata": {},
   "outputs": [],
   "source": [
    "@timer1\n",
    "def func3(num):\n",
    "    print(num)"
   ]
  },
  {
   "cell_type": "code",
   "execution_count": 19,
   "metadata": {},
   "outputs": [
    {
     "name": "stdout",
     "output_type": "stream",
     "text": [
      "1\n",
      "func3 used 0.00000s\n"
     ]
    }
   ],
   "source": [
    "func3(1)"
   ]
  },
  {
   "cell_type": "code",
   "execution_count": 22,
   "metadata": {},
   "outputs": [],
   "source": [
    "# 冒泡排序\n",
    "def bobble_sort(list_):\n",
    "    num_list = len(list_)\n",
    "    for i in range(num_list):\n",
    "        for j in range(i + 1, num_list):\n",
    "            if list_[i] < list_[j]:\n",
    "                list_[i], list_[j] = list_[j], list_[i]\n",
    "    return list_"
   ]
  },
  {
   "cell_type": "code",
   "execution_count": 23,
   "metadata": {},
   "outputs": [
    {
     "data": {
      "text/plain": [
       "[9, 8, 6, 5, 5, 4, 3, 1]"
      ]
     },
     "execution_count": 23,
     "metadata": {},
     "output_type": "execute_result"
    }
   ],
   "source": [
    "list_ = [1, 5, 3, 6, 9, 8, 4, 5]\n",
    "a = bobble_sort(list_)\n",
    "a"
   ]
  },
  {
   "cell_type": "code",
   "execution_count": 1,
   "metadata": {},
   "outputs": [
    {
     "data": {
      "text/plain": [
       "0.8182792087802229"
      ]
     },
     "execution_count": 1,
     "metadata": {},
     "output_type": "execute_result"
    }
   ],
   "source": [
    "import numpy as np\n",
    "np.random.uniform()"
   ]
  },
  {
   "cell_type": "code",
   "execution_count": 6,
   "metadata": {},
   "outputs": [
    {
     "data": {
      "text/plain": [
       "8.496601319303146"
      ]
     },
     "execution_count": 6,
     "metadata": {},
     "output_type": "execute_result"
    }
   ],
   "source": [
    "np.random.uniform(0, 20)"
   ]
  },
  {
   "cell_type": "code",
   "execution_count": 5,
   "metadata": {},
   "outputs": [
    {
     "data": {
      "text/plain": [
       "array([[227, 267,  64],\n",
       "       [ 45, 160,  71]])"
      ]
     },
     "execution_count": 5,
     "metadata": {},
     "output_type": "execute_result"
    }
   ],
   "source": [
    "width = 300\n",
    "box = [[227, 267, 64], [45, 160, 71]]\n",
    "box = np.array(box)\n",
    "box"
   ]
  },
  {
   "cell_type": "code",
   "execution_count": 6,
   "metadata": {},
   "outputs": [
    {
     "data": {
      "text/plain": [
       "array([227,  45])"
      ]
     },
     "execution_count": 6,
     "metadata": {},
     "output_type": "execute_result"
    }
   ],
   "source": [
    "box[:, 0]"
   ]
  },
  {
   "cell_type": "code",
   "execution_count": 3,
   "metadata": {},
   "outputs": [],
   "source": [
    "box[:, 0] = width - box[:, 0]"
   ]
  },
  {
   "cell_type": "code",
   "execution_count": 4,
   "metadata": {},
   "outputs": [
    {
     "data": {
      "text/plain": [
       "array([[ 73, 267,  64],\n",
       "       [255, 160,  71]])"
      ]
     },
     "execution_count": 4,
     "metadata": {},
     "output_type": "execute_result"
    }
   ],
   "source": [
    "box"
   ]
  },
  {
   "cell_type": "code",
   "execution_count": 1,
   "metadata": {},
   "outputs": [
    {
     "data": {
      "text/plain": [
       "tensor([0, 1, 2, 3])"
      ]
     },
     "execution_count": 1,
     "metadata": {},
     "output_type": "execute_result"
    }
   ],
   "source": [
    "import torch\n",
    "a = torch.arange(4)\n",
    "a"
   ]
  },
  {
   "cell_type": "code",
   "execution_count": 4,
   "metadata": {},
   "outputs": [
    {
     "data": {
      "text/plain": [
       "(tensor([[0],\n",
       "         [1],\n",
       "         [2],\n",
       "         [3]]),\n",
       " tensor([[0],\n",
       "         [1],\n",
       "         [2],\n",
       "         [3]]),\n",
       " tensor([[0, 1, 2, 3]]),\n",
       " tensor([[0, 1, 2, 3]]),\n",
       " tensor([0, 1, 2, 3]))"
      ]
     },
     "execution_count": 4,
     "metadata": {},
     "output_type": "execute_result"
    }
   ],
   "source": [
    "a_1 = a.reshape((4, 1))\n",
    "a_2 = a.reshape(4, 1)\n",
    "a_3 = a.reshape(1, 4)\n",
    "a_4 = a.reshape((1, 4))\n",
    "a_5 = a.reshape(4,)\n",
    "a_1, a_2, a_3, a_4, a_5"
   ]
  },
  {
   "cell_type": "code",
   "execution_count": 6,
   "metadata": {},
   "outputs": [
    {
     "data": {
      "text/plain": [
       "(tensor([0]), tensor(0), tensor(0))"
      ]
     },
     "execution_count": 6,
     "metadata": {},
     "output_type": "execute_result"
    }
   ],
   "source": [
    "a_1[0], a_1[0][0], a_5[0]"
   ]
  },
  {
   "cell_type": "code",
   "execution_count": 11,
   "metadata": {},
   "outputs": [
    {
     "data": {
      "text/plain": [
       "tensor([0, 1, 2, 3])"
      ]
     },
     "execution_count": 11,
     "metadata": {},
     "output_type": "execute_result"
    }
   ],
   "source": [
    "a_1.reshape(4,)"
   ]
  },
  {
   "cell_type": "code",
   "execution_count": 16,
   "metadata": {},
   "outputs": [
    {
     "data": {
      "text/plain": [
       "([array([0. , 0.1, 0.2, 0.3, 0.4, 0.5, 0.6, 0.7, 0.8, 0.9, 1. , 1.1, 1.2,\n",
       "         1.3, 1.4, 1.5, 1.6, 1.7, 1.8, 1.9, 2. , 2.1, 2.2, 2.3, 2.4, 2.5,\n",
       "         2.6, 2.7, 2.8, 2.9])],\n",
       " array([0. , 0.1, 0.2, 0.3, 0.4, 0.5, 0.6, 0.7, 0.8, 0.9, 1. , 1.1, 1.2,\n",
       "        1.3, 1.4, 1.5, 1.6, 1.7, 1.8, 1.9, 2. , 2.1, 2.2, 2.3, 2.4, 2.5,\n",
       "        2.6, 2.7, 2.8, 2.9]),\n",
       " 0.0)"
      ]
     },
     "execution_count": 16,
     "metadata": {},
     "output_type": "execute_result"
    }
   ],
   "source": [
    "import numpy as np\n",
    "a = np.arange(0, 3, 0.1)\n",
    "a = [a]\n",
    "a, a[0], a[0][0]"
   ]
  },
  {
   "cell_type": "code",
   "execution_count": 19,
   "metadata": {},
   "outputs": [
    {
     "data": {
      "text/plain": [
       "True"
      ]
     },
     "execution_count": 19,
     "metadata": {},
     "output_type": "execute_result"
    }
   ],
   "source": [
    "a[0].ndim == 1"
   ]
  },
  {
   "cell_type": "code",
   "execution_count": 20,
   "metadata": {},
   "outputs": [
    {
     "data": {
      "text/plain": [
       "[[], [], [], [], []]"
      ]
     },
     "execution_count": 20,
     "metadata": {},
     "output_type": "execute_result"
    }
   ],
   "source": [
    "[[]] * 5"
   ]
  },
  {
   "cell_type": "code",
   "execution_count": 21,
   "metadata": {},
   "outputs": [
    {
     "data": {
      "text/plain": [
       "True"
      ]
     },
     "execution_count": 21,
     "metadata": {},
     "output_type": "execute_result"
    }
   ],
   "source": [
    "hasattr(a[0], \"__len__\")"
   ]
  },
  {
   "cell_type": "code",
   "execution_count": 22,
   "metadata": {},
   "outputs": [
    {
     "data": {
      "text/plain": [
       "30"
      ]
     },
     "execution_count": 22,
     "metadata": {},
     "output_type": "execute_result"
    }
   ],
   "source": [
    "len(a[0])"
   ]
  },
  {
   "cell_type": "code",
   "execution_count": 24,
   "metadata": {},
   "outputs": [
    {
     "data": {
      "text/plain": [
       "(True, False)"
      ]
     },
     "execution_count": 24,
     "metadata": {},
     "output_type": "execute_result"
    }
   ],
   "source": [
    "x = [1, 2, 3]\n",
    "isinstance(x, list), hasattr(x[0], \"__len__\")"
   ]
  },
  {
   "cell_type": "code",
   "execution_count": 32,
   "metadata": {},
   "outputs": [
    {
     "data": {
      "image/png": "[encoded data removed]",
      "text/plain": [
       "<Figure size 432x288 with 1 Axes>"
      ]
     },
     "metadata": {
      "needs_background": "light"
     },
     "output_type": "display_data"
    }
   ],
   "source": [
    "z = torch.linspace(-1 * np.pi, 1 * np.pi, 100)\n",
    "z.requires_grad_(True)\n",
    "y = torch.sin(z)\n",
    "y.sum().backward()\n",
    "import matplotlib.pyplot as plt\n",
    "plt.plot(z.detach(), y.detach(), label='y=sin(x)')\n",
    "plt.plot(z.detach(), z.grad, label='y = cos(x)')\n",
    "plt.legend(loc='upper right')\n",
    "plt.grid()\n",
    "plt.show()"
   ]
  },
  {
   "cell_type": "code",
   "execution_count": 60,
   "metadata": {},
   "outputs": [
    {
     "data": {
      "text/plain": [
       "(array([[[281,  51, 115],\n",
       "         [133, 270,  16],\n",
       "         [120, 291,  77],\n",
       "         [268, 308, 250]],\n",
       " \n",
       "        [[ 94, 311, 218],\n",
       "         [279, 176,  21],\n",
       "         [116,  15,  88],\n",
       "         [254, 185,   8]],\n",
       " \n",
       "        [[381,  56, 460],\n",
       "         [150,  93, 153],\n",
       "         [377, 133, 181],\n",
       "         [457, 225,  32]],\n",
       " \n",
       "        [[158, 350,  69],\n",
       "         [247, 133, 185],\n",
       "         [148, 286, 180],\n",
       "         [168, 143, 490]]]),\n",
       " array([[281,  51, 115],\n",
       "        [133, 270,  16],\n",
       "        [120, 291,  77],\n",
       "        [268, 308, 250]]),\n",
       " 16)"
      ]
     },
     "execution_count": 60,
     "metadata": {},
     "output_type": "execute_result"
    }
   ],
   "source": [
    "import numpy as np\n",
    "img = np.random.randn(48).reshape(4, 4, 3)\n",
    "img = abs(img) * 250\n",
    "img = img.astype(np.int)\n",
    "img = np.array(img)\n",
    "img, img[0], img[0][1][2]"
   ]
  },
  {
   "cell_type": "code",
   "execution_count": 61,
   "metadata": {
    "scrolled": true
   },
   "outputs": [
    {
     "data": {
      "text/plain": [
       "(array([[149.        , 139.66666667, 162.66666667, 275.33333333],\n",
       "        [207.66666667, 158.66666667,  73.        , 149.        ],\n",
       "        [299.        , 132.        , 230.33333333, 238.        ],\n",
       "        [192.33333333, 188.33333333, 204.66666667, 267.        ]]),\n",
       " array([[281, 270, 291, 308],\n",
       "        [311, 279, 116, 254],\n",
       "        [460, 153, 377, 457],\n",
       "        [350, 247, 286, 490]]),\n",
       " array([[281, 308, 250],\n",
       "        [279, 311, 218],\n",
       "        [457, 225, 460],\n",
       "        [247, 350, 490]]),\n",
       " array([[381, 350, 460],\n",
       "        [279, 270, 185],\n",
       "        [377, 291, 181],\n",
       "        [457, 308, 490]]))"
      ]
     },
     "execution_count": 61,
     "metadata": {},
     "output_type": "execute_result"
    }
   ],
   "source": [
    "np.mean(img, axis=2), np.max(img, axis=2), np.max(img, axis=1), np.max(img, axis=0)"
   ]
  },
  {
   "cell_type": "code",
   "execution_count": 62,
   "metadata": {},
   "outputs": [
    {
     "data": {
      "text/plain": [
       "array([[ True,  True,  True, False],\n",
       "       [ True,  True,  True,  True],\n",
       "       [False,  True,  True,  True],\n",
       "       [ True,  True,  True, False]])"
      ]
     },
     "execution_count": 62,
     "metadata": {},
     "output_type": "execute_result"
    }
   ],
   "source": [
    "np.mean(img, axis=2) < 250"
   ]
  },
  {
   "cell_type": "code",
   "execution_count": 63,
   "metadata": {},
   "outputs": [
    {
     "data": {
      "text/plain": [
       "(array([0, 0, 0, 1, 1, 1, 1, 2, 2, 2, 3, 3, 3], dtype=int64),\n",
       " array([0, 1, 2, 0, 1, 2, 3, 1, 2, 3, 0, 1, 2], dtype=int64))"
      ]
     },
     "execution_count": 63,
     "metadata": {},
     "output_type": "execute_result"
    }
   ],
   "source": [
    "np.where(np.mean(img, axis=2) < 250)"
   ]
  },
  {
   "cell_type": "code",
   "execution_count": 64,
   "metadata": {},
   "outputs": [
    {
     "data": {
      "text/plain": [
       "array([[[281,  51, 115],\n",
       "        [133, 270,  16],\n",
       "        [120, 291,  77],\n",
       "        [268, 308, 250]],\n",
       "\n",
       "       [[ 94, 311, 218],\n",
       "        [279, 176,  21],\n",
       "        [116,  15,  88],\n",
       "        [254, 185,   8]],\n",
       "\n",
       "       [[381,  56, 460],\n",
       "        [150,  93, 153],\n",
       "        [377, 133, 181],\n",
       "        [457, 225,  32]],\n",
       "\n",
       "       [[158, 350,  69],\n",
       "        [247, 133, 185],\n",
       "        [148, 286, 180],\n",
       "        [168, 143, 490]]])"
      ]
     },
     "execution_count": 64,
     "metadata": {},
     "output_type": "execute_result"
    }
   ],
   "source": [
    "img"
   ]
  },
  {
   "cell_type": "code",
   "execution_count": 65,
   "metadata": {},
   "outputs": [
    {
     "data": {
      "text/plain": [
       "(array([[115,  16,  77, 250],\n",
       "        [218,  21,  88,   8],\n",
       "        [460, 153, 181,  32],\n",
       "        [ 69, 185, 180, 490]]),\n",
       " array([[ 51, 270, 291, 308],\n",
       "        [311, 176,  15, 185],\n",
       "        [ 56,  93, 133, 225],\n",
       "        [350, 133, 286, 143]]),\n",
       " array([[281, 133, 120, 268],\n",
       "        [ 94, 279, 116, 254],\n",
       "        [381, 150, 377, 457],\n",
       "        [158, 247, 148, 168]]))"
      ]
     },
     "execution_count": 65,
     "metadata": {},
     "output_type": "execute_result"
    }
   ],
   "source": [
    "img[:, :, 2], img[:, :, 1], img[:, :, 0]"
   ]
  },
  {
   "cell_type": "code",
   "execution_count": 10,
   "metadata": {},
   "outputs": [
    {
     "data": {
      "text/plain": [
       "(torch.Size([1, 2, 3, 3]),\n",
       " tensor([[[[ 0,  1,  2],\n",
       "           [ 3,  4,  5],\n",
       "           [ 6,  7,  8]],\n",
       " \n",
       "          [[ 9, 10, 11],\n",
       "           [ 2,  2,  2],\n",
       "           [15, 16, 17]]]]))"
      ]
     },
     "execution_count": 10,
     "metadata": {},
     "output_type": "execute_result"
    }
   ],
   "source": [
    "import torch\n",
    "a = torch.arange(18).reshape(1, 2, 3, 3)\n",
    "a[0][1][1] = 2\n",
    "a.size(), a"
   ]
  },
  {
   "cell_type": "code",
   "execution_count": 13,
   "metadata": {},
   "outputs": [
    {
     "data": {
      "text/plain": [
       "tensor([[1, 1, 1],\n",
       "        [0, 0, 0],\n",
       "        [1, 1, 1]])"
      ]
     },
     "execution_count": 13,
     "metadata": {},
     "output_type": "execute_result"
    }
   ],
   "source": [
    "torch.argmax(a, dim=1).squeeze(0)"
   ]
  },
  {
   "cell_type": "code",
   "execution_count": 9,
   "metadata": {},
   "outputs": [
    {
     "data": {
      "text/plain": [
       "tensor([[[[ 1.5152,  0.2349,  0.5941],\n",
       "          [-2.1778, -1.1935, -1.8444],\n",
       "          [-0.9930, -2.1225, -1.0410]],\n",
       "\n",
       "         [[-1.1702, -0.9455,  1.7418],\n",
       "          [-2.0153,  0.8992, -0.0763],\n",
       "          [-0.6841,  1.0656, -0.8774]]]])"
      ]
     },
     "execution_count": 9,
     "metadata": {},
     "output_type": "execute_result"
    }
   ],
   "source": [
    "import torch\n",
    "a = torch.randn(18).reshape(1, 2, 3, 3)\n",
    "a"
   ]
  },
  {
   "cell_type": "code",
   "execution_count": 13,
   "metadata": {},
   "outputs": [
    {
     "data": {
      "text/plain": [
       "(torch.return_types.max(\n",
       " values=tensor([[[ 1.5152,  0.2349,  0.5941],\n",
       "          [-2.1778, -1.1935, -1.8444],\n",
       "          [-0.9930, -2.1225, -1.0410]],\n",
       " \n",
       "         [[-1.1702, -0.9455,  1.7418],\n",
       "          [-2.0153,  0.8992, -0.0763],\n",
       "          [-0.6841,  1.0656, -0.8774]]]),\n",
       " indices=tensor([[[0, 0, 0],\n",
       "          [0, 0, 0],\n",
       "          [0, 0, 0]],\n",
       " \n",
       "         [[0, 0, 0],\n",
       "          [0, 0, 0],\n",
       "          [0, 0, 0]]])),\n",
       " torch.return_types.max(\n",
       " values=tensor([[[ 1.5152,  0.2349,  1.7418],\n",
       "          [-2.0153,  0.8992, -0.0763],\n",
       "          [-0.6841,  1.0656, -0.8774]]]),\n",
       " indices=tensor([[[0, 0, 1],\n",
       "          [1, 1, 1],\n",
       "          [1, 1, 1]]])),\n",
       " torch.return_types.max(\n",
       " values=tensor([[[ 1.5152,  0.2349,  0.5941],\n",
       "          [-0.6841,  1.0656,  1.7418]]]),\n",
       " indices=tensor([[[0, 0, 0],\n",
       "          [2, 2, 0]]])),\n",
       " torch.return_types.max(\n",
       " values=tensor([[[ 1.5152, -1.1935, -0.9930],\n",
       "          [ 1.7418,  0.8992,  1.0656]]]),\n",
       " indices=tensor([[[0, 1, 0],\n",
       "          [2, 1, 1]]])))"
      ]
     },
     "execution_count": 13,
     "metadata": {},
     "output_type": "execute_result"
    }
   ],
   "source": [
    "torch.max(a, dim=0), torch.max(a, dim=1), torch.max(a, dim=2), torch.max(a, dim=3)"
   ]
  },
  {
   "cell_type": "code",
   "execution_count": null,
   "metadata": {},
   "outputs": [],
   "source": []
  }
 ],
 "metadata": {
  "kernelspec": {
   "display_name": "Python 3",
   "language": "python",
   "name": "python3"
  },
  "language_info": {
   "codemirror_mode": {
    "name": "ipython",
    "version": 3
   },
   "file_extension": ".py",
   "mimetype": "text/x-python",
   "name": "python",
   "nbconvert_exporter": "python",
   "pygments_lexer": "ipython3",
   "version": "3.8.5"
  }
 },
 "nbformat": 4,
 "nbformat_minor": 4
}
