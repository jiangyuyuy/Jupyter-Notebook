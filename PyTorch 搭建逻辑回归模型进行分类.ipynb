{
 "cells": [
  {
   "cell_type": "code",
   "execution_count": 1,
   "metadata": {},
   "outputs": [],
   "source": [
    "import torch\n",
    "from torch import nn\n",
    "from torch.autograd import Variable\n",
    "import matplotlib.pyplot as plt\n",
    "import numpy as np"
   ]
  },
  {
   "cell_type": "code",
   "execution_count": 2,
   "metadata": {},
   "outputs": [],
   "source": [
    "# 制作数据\n",
    "n_data = torch.ones(100, 2)\n",
    "x0 = torch.normal(2 * n_data, 1)\n",
    "y0 = torch.zeros(100, 1)\n",
    "x1 = torch.normal(-2 * n_data, 1)\n",
    "y1 = torch.ones(100, 1)"
   ]
  },
  {
   "cell_type": "code",
   "execution_count": 3,
   "metadata": {},
   "outputs": [
    {
     "data": {
      "text/plain": [
       "(torch.Size([100, 2]),\n",
       " torch.Size([100, 2]),\n",
       " torch.Size([100, 1]),\n",
       " torch.Size([100, 2]),\n",
       " torch.Size([100, 1]))"
      ]
     },
     "execution_count": 3,
     "metadata": {},
     "output_type": "execute_result"
    }
   ],
   "source": [
    "n_data.size(), x0.size(), y0.size(), x1.size(), y1.size()"
   ]
  },
  {
   "cell_type": "code",
   "execution_count": 4,
   "metadata": {},
   "outputs": [],
   "source": [
    "x = torch.cat((x0, x1), 0).type(torch.FloatTensor)\n",
    "y = torch.cat((y0, y1), 0).type(torch.FloatTensor)"
   ]
  },
  {
   "cell_type": "code",
   "execution_count": 5,
   "metadata": {},
   "outputs": [
    {
     "data": {
      "text/plain": [
       "(torch.Size([200, 2]), torch.Size([200, 1]))"
      ]
     },
     "execution_count": 5,
     "metadata": {},
     "output_type": "execute_result"
    }
   ],
   "source": [
    "x.shape, y.shape"
   ]
  },
  {
   "cell_type": "code",
   "execution_count": 6,
   "metadata": {},
   "outputs": [
    {
     "data": {
      "text/plain": [
       "(array([0.4168843 , 1.9259739 , 2.560935  , 0.48428535, 2.7628512 ],\n",
       "       dtype=float32),\n",
       " array([0.45164013, 0.8468677 , 4.3923445 , 3.138462  , 1.8164177 ],\n",
       "       dtype=float32))"
      ]
     },
     "execution_count": 6,
     "metadata": {},
     "output_type": "execute_result"
    }
   ],
   "source": [
    "x.data.numpy()[:, 0][:5], x.data.numpy()[:, 1][:5]"
   ]
  },
  {
   "cell_type": "code",
   "execution_count": 7,
   "metadata": {},
   "outputs": [
    {
     "data": {
      "image/png": "[encoded data removed]",
      "text/plain": [
       "<Figure size 432x288 with 1 Axes>"
      ]
     },
     "metadata": {
      "needs_background": "light"
     },
     "output_type": "display_data"
    }
   ],
   "source": [
    "plt.scatter(\n",
    "    x.data.numpy()[:, 0], \n",
    "    x.data.numpy()[:, 1], \n",
    "    c = y.data.numpy(), s = 50, lw = 0, cmap = 'RdYlGn')\n",
    "plt.show()"
   ]
  },
  {
   "cell_type": "code",
   "execution_count": 8,
   "metadata": {},
   "outputs": [],
   "source": [
    "class LogisticRegression(nn.Module):\n",
    "    def __init__(self):\n",
    "        super(LogisticRegression, self).__init__()\n",
    "        self.linear = nn.Linear(2, 1)\n",
    "        self.sigmoid = nn.Sigmoid()\n",
    "    def forward(self, x):\n",
    "        x = self.linear(x)\n",
    "        x = self.sigmoid(x)\n",
    "        return x"
   ]
  },
  {
   "cell_type": "code",
   "execution_count": 9,
   "metadata": {},
   "outputs": [],
   "source": [
    "logistic_model = LogisticRegression()"
   ]
  },
  {
   "cell_type": "code",
   "execution_count": 10,
   "metadata": {},
   "outputs": [],
   "source": [
    "if torch.cuda.is_available():\n",
    "    logistic_model.cuda()"
   ]
  },
  {
   "cell_type": "code",
   "execution_count": 11,
   "metadata": {},
   "outputs": [],
   "source": [
    "# 定义损失函数和优化器\n",
    "criterion = nn.BCELoss()\n",
    "optimizer = torch.optim.SGD(logistic_model.parameters(), lr = 1e-3, momentum = 0.9)"
   ]
  },
  {
   "cell_type": "code",
   "execution_count": 12,
   "metadata": {},
   "outputs": [
    {
     "data": {
      "text/plain": [
       "(tensor([[0.4169, 0.4516],\n",
       "         [1.9260, 0.8469],\n",
       "         [2.5609, 4.3923],\n",
       "         [0.4843, 3.1385],\n",
       "         [2.7629, 1.8164]]),\n",
       " tensor([[0.4169, 0.4516],\n",
       "         [1.9260, 0.8469],\n",
       "         [2.5609, 4.3923],\n",
       "         [0.4843, 3.1385],\n",
       "         [2.7629, 1.8164]]))"
      ]
     },
     "execution_count": 12,
     "metadata": {},
     "output_type": "execute_result"
    }
   ],
   "source": [
    "# Variable() 可以计算梯度\n",
    "x_data1 = Variable(x)\n",
    "x_data1[:5], x[:5]"
   ]
  },
  {
   "cell_type": "code",
   "execution_count": 15,
   "metadata": {},
   "outputs": [
    {
     "data": {
      "text/plain": [
       "(torch.Size([200, 1]), torch.Size([200, 1]))"
      ]
     },
     "execution_count": 15,
     "metadata": {},
     "output_type": "execute_result"
    }
   ],
   "source": [
    "y_data1 = Variable(y).cuda()\n",
    "x_data1 = Variable(x).cuda()\n",
    "out1 = logistic_model(x_data1)\n",
    "y_data1.size(), out1.size()"
   ]
  },
  {
   "cell_type": "code",
   "execution_count": 18,
   "metadata": {},
   "outputs": [
    {
     "name": "stdout",
     "output_type": "stream",
     "text": [
      "********************\n",
      "epoch: 2000\n",
      "loss is: 0.009771211072802544\n",
      "acc is: 0.995\n",
      "********************\n",
      "epoch: 4000\n",
      "loss is: 0.009508704766631126\n",
      "acc is: 0.995\n",
      "********************\n",
      "epoch: 6000\n",
      "loss is: 0.009273163974285126\n",
      "acc is: 0.995\n",
      "********************\n",
      "epoch: 8000\n",
      "loss is: 0.009059625677764416\n",
      "acc is: 0.995\n",
      "********************\n",
      "epoch: 10000\n",
      "loss is: 0.008864411152899265\n",
      "acc is: 0.995\n"
     ]
    }
   ],
   "source": [
    "# 开始训练\n",
    "for epoch in range(10000):\n",
    "    if torch.cuda.is_available():\n",
    "        x_data = Variable(x).cuda()\n",
    "        y_data = Variable(y).cuda()\n",
    "    else:\n",
    "        x_data = Variable(x)\n",
    "        y_data = Variable(y)\n",
    "    out = logistic_model(x_data)\n",
    "    loss = criterion(out, y_data)\n",
    "    print_loss = loss.data.item()\n",
    "    # 逐元素比较 a 和 b，即是否 a >= b\n",
    "    mask = out.ge(0.5).float()  # 返回 0, 1\n",
    "    correct = (mask == y_data).sum()  # 计算正确预测的个数\n",
    "    acc = correct.item() / x_data.size(0)  # 计算精度\n",
    "    optimizer.zero_grad()\n",
    "    loss.backward()\n",
    "    optimizer.step()\n",
    "    if (epoch + 1) % 2000 == 0:\n",
    "        print('*' * 20)\n",
    "        print(f\"epoch: {epoch + 1}\")\n",
    "        print(f\"loss is: {print_loss}\")\n",
    "        print(f\"acc is: {acc}\")"
   ]
  },
  {
   "cell_type": "code",
   "execution_count": 19,
   "metadata": {},
   "outputs": [
    {
     "data": {
      "text/plain": [
       "Parameter containing:\n",
       "tensor([[-2.2778, -2.9796]], device='cuda:0', requires_grad=True)"
      ]
     },
     "execution_count": 19,
     "metadata": {},
     "output_type": "execute_result"
    }
   ],
   "source": [
    "logistic_model.linear.weight"
   ]
  },
  {
   "cell_type": "code",
   "execution_count": 22,
   "metadata": {},
   "outputs": [
    {
     "data": {
      "text/plain": [
       "(tensor(-2.2778, device='cuda:0', grad_fn=<UnbindBackward>),\n",
       " tensor(-2.9796, device='cuda:0', grad_fn=<UnbindBackward>),\n",
       " Parameter containing:\n",
       " tensor([-0.4183], device='cuda:0', requires_grad=True))"
      ]
     },
     "execution_count": 22,
     "metadata": {},
     "output_type": "execute_result"
    }
   ],
   "source": [
    "# 结果可视化\n",
    "wo, w1 = logistic_model.linear.weight[0]\n",
    "b = logistic_model.linear.bias\n",
    "wo, w1, b"
   ]
  },
  {
   "cell_type": "code",
   "execution_count": 23,
   "metadata": {},
   "outputs": [],
   "source": [
    "wo = float(wo.item())\n",
    "w1 = float(w1.item())\n",
    "b = float(b.item())"
   ]
  },
  {
   "cell_type": "code",
   "execution_count": 25,
   "metadata": {},
   "outputs": [
    {
     "data": {
      "image/png": "[encoded data removed]",
      "text/plain": [
       "<Figure size 432x288 with 1 Axes>"
      ]
     },
     "metadata": {
      "needs_background": "light"
     },
     "output_type": "display_data"
    }
   ],
   "source": [
    "plot_x = np.arange(-7, 7, 0.1)\n",
    "plot_y = (- wo * plot_x - b) / w1\n",
    "plt.scatter(\n",
    "    x.data.numpy()[:, 0], \n",
    "    x.data.numpy()[:, 1], \n",
    "    c = y.data.numpy(), s = 50, lw = 0, cmap = 'RdYlGn')\n",
    "plt.plot(plot_x, plot_y)\n",
    "plt.show()"
   ]
  }
 ],
 "metadata": {
  "kernelspec": {
   "display_name": "Python 3",
   "language": "python",
   "name": "python3"
  },
  "language_info": {
   "codemirror_mode": {
    "name": "ipython",
    "version": 3
   },
   "file_extension": ".py",
   "mimetype": "text/x-python",
   "name": "python",
   "nbconvert_exporter": "python",
   "pygments_lexer": "ipython3",
   "version": "3.8.5"
  }
 },
 "nbformat": 4,
 "nbformat_minor": 4
}
