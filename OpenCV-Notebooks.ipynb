{
 "cells": [
  {
   "cell_type": "code",
   "execution_count": null,
   "metadata": {},
   "outputs": [],
   "source": [
    "\"\"\"\n",
    "cv2.imread(),  cv2.imshow(), cv2.namedWindow(), cv2.waitKey(), cv2.destroyWindow(), cv2.destroyAllWindows() \n",
    "cv2.imwrite(), img.item(), img.itemset(), cv2.split(), cv2.merge(), img.shape, img.size, img.dtype\n",
    "cv2.add(), cv2.addWeighted(), cv2.bitwise_and(), cv2.bitwise_or(), cv2.bitwise_xor(), cv2.COLOR_BGR2RGB\n",
    "cv2.COLOR_BGR2GRAY, cv2.cvtCOLOR(), cv2.resize(), cv2.flip(), cv2.warpAffine(), cv2.getRotationMatrix2D()\n",
    "cv2.getAffineTransform(), cv2.getPerspectiveTransform(), cv2.warpPerspective(), cv2.threshold()\n",
    "cv2.THRESH_BINARY, cv2.THRESH_BINARY_INV, cv2.THRESH_TRUNC, cv2.THRESH_TOZERO, cv2.THRESH_TOZERO_INV\n",
    "cv2.adaptiveThreshold(), cv2.ADAPTIVE_THRESH_MEAN_C, cv2.ADAPTIVE_THRESH_GAUSSIAN_C\n",
    "cv2.THRESH_OTSU, cv2.blur(), cv2.boxFilter(), cv2.GaussianBlur(), cv2.medianBlur(), cv2.bilateralFilter()\n",
    "cv2.filter2D(), cv2.erode(), cv2.dilate(), cv2.morphologyEx(), cv2.MORPH_OPEN, cv2.MORPH_CLOSE\n",
    "cv2.MORPH_GRADIENT, cv2.MORPH_TOPHAT, cv2.MORPH_BLACKHAT, cv2.getStructuringElement(), cv2.MORPH_RECT\n",
    "cv2.MORPH_CROSS, cv2.MORPH_ELLIPSE, \n",
    "\"\"\""
   ]
  },
  {
   "cell_type": "code",
   "execution_count": null,
   "metadata": {},
   "outputs": [],
   "source": [
    "# 第一章\n",
    "import cv2\n",
    "cv2.namedWindow('name')\n",
    "catdog = cv2.imread('catdog.jpg')\n",
    "cv2.imshow('name', catdog)\n",
    "cv2.waitKey(0)\n",
    "cv2.destroyAllWindows()"
   ]
  },
  {
   "cell_type": "code",
   "execution_count": 1,
   "metadata": {},
   "outputs": [
    {
     "name": "stdout",
     "output_type": "stream",
     "text": [
      "[[[255   0   0]\n",
      "  [255   0   0]\n",
      "  [255   0   0]]\n",
      "\n",
      " [[255   0   0]\n",
      "  [255   0   0]\n",
      "  [255   0   0]]\n",
      "\n",
      " [[255   0   0]\n",
      "  [255   0   0]\n",
      "  [255   0   0]]]\n"
     ]
    }
   ],
   "source": [
    "import numpy as np\n",
    "img = np.zeros((3, 3, 3), dtype=np.uint8)\n",
    "img[:, :, 0]  = 255\n",
    "print(img)"
   ]
  },
  {
   "cell_type": "code",
   "execution_count": 12,
   "metadata": {},
   "outputs": [
    {
     "name": "stdout",
     "output_type": "stream",
     "text": [
      "[[[255   0   0]\n",
      "  [  0 255   0]\n",
      "  [  0   0 255]]\n",
      "\n",
      " [[255   0   0]\n",
      "  [  0 255   0]\n",
      "  [  0   0 255]]\n",
      "\n",
      " [[255   0   0]\n",
      "  [  0 255   0]\n",
      "  [  0   0 255]]]\n"
     ]
    }
   ],
   "source": [
    "img1 = np.zeros((3, 3, 3), dtype=np.uint8)\n",
    "img1[:, 0:1, 0] = 255  # 第一个 : 表示三个 3 X 3 维数组都取\n",
    "img1[:, 1:2, 1] = 255\n",
    "img1[:, 2:3, 2] = 255\n",
    "print(img1)"
   ]
  },
  {
   "cell_type": "code",
   "execution_count": 3,
   "metadata": {},
   "outputs": [
    {
     "data": {
      "text/plain": [
       "array([[[ 0.52093971, -0.10393626,  1.01329216],\n",
       "        [ 0.1766761 , -1.72978313,  0.91837437],\n",
       "        [-0.29733735, -1.10307678, -0.36755627]],\n",
       "\n",
       "       [[-0.70421923,  0.60041545,  1.61311229],\n",
       "        [ 1.03778003,  1.42565125,  1.00936365],\n",
       "        [-0.30065846,  0.36459496,  0.83182847]],\n",
       "\n",
       "       [[-0.56079239, -0.57154945,  1.61724847],\n",
       "        [ 1.0429707 ,  0.05328803,  0.77250672],\n",
       "        [-0.35525768,  0.5318268 ,  0.51434736]]])"
      ]
     },
     "execution_count": 3,
     "metadata": {},
     "output_type": "execute_result"
    }
   ],
   "source": [
    "a = np.random.randn(3, 3, 3)\n",
    "a"
   ]
  },
  {
   "cell_type": "code",
   "execution_count": 6,
   "metadata": {},
   "outputs": [
    {
     "data": {
      "text/plain": [
       "(array([[ 0.52093971,  0.1766761 , -0.29733735],\n",
       "        [-0.70421923,  1.03778003, -0.30065846],\n",
       "        [-0.56079239,  1.0429707 , -0.35525768]]),\n",
       " array([[ 0.52093971, -0.10393626,  1.01329216],\n",
       "        [-0.70421923,  0.60041545,  1.61311229],\n",
       "        [-0.56079239, -0.57154945,  1.61724847]]))"
      ]
     },
     "execution_count": 6,
     "metadata": {},
     "output_type": "execute_result"
    }
   ],
   "source": [
    "a[:, :, 0], a[:, 0]"
   ]
  },
  {
   "cell_type": "code",
   "execution_count": 4,
   "metadata": {},
   "outputs": [
    {
     "data": {
      "text/plain": [
       "(array([[ 89, 242,  32],\n",
       "        [111,  43,  45],\n",
       "        [  8, 246, 239]], dtype=uint8),\n",
       " array([[ 99, 159, 206],\n",
       "        [ 82, 223, 200],\n",
       "        [215,  40, 129]], dtype=uint8))"
      ]
     },
     "execution_count": 4,
     "metadata": {},
     "output_type": "execute_result"
    }
   ],
   "source": [
    "import numpy as np\n",
    "import cv2\n",
    "a = np.random.randint(0, 255, (3, 3), dtype=np.uint8)\n",
    "b = np.random.randint(0, 255, (3, 3), dtype=np.uint8)\n",
    "a, b"
   ]
  },
  {
   "cell_type": "code",
   "execution_count": 8,
   "metadata": {
    "scrolled": true
   },
   "outputs": [
    {
     "data": {
      "text/plain": [
       "(array([[ 65, 146,   0],\n",
       "        [ 66,  11,   8],\n",
       "        [  0,  32, 129]], dtype=uint8),\n",
       " array([[123, 255, 238],\n",
       "        [127, 255, 237],\n",
       "        [223, 254, 239]], dtype=uint8),\n",
       " array([[ 58, 109, 238],\n",
       "        [ 61, 244, 229],\n",
       "        [223, 222, 110]], dtype=uint8))"
      ]
     },
     "execution_count": 8,
     "metadata": {},
     "output_type": "execute_result"
    }
   ],
   "source": [
    "cv2.bitwise_and(a, b), cv2.bitwise_or(a, b), cv2.bitwise_xor(a, b)"
   ]
  },
  {
   "cell_type": "code",
   "execution_count": 10,
   "metadata": {},
   "outputs": [
    {
     "data": {
      "text/plain": [
       "'0b1000'"
      ]
     },
     "execution_count": 10,
     "metadata": {},
     "output_type": "execute_result"
    }
   ],
   "source": [
    "bin(8)"
   ]
  },
  {
   "cell_type": "code",
   "execution_count": 14,
   "metadata": {},
   "outputs": [
    {
     "data": {
      "text/plain": [
       "array([[[8, 6, 1, 4, 0, 8, 6, 9],\n",
       "        [7, 5, 9, 7, 6, 0, 6, 8],\n",
       "        [1, 4, 8, 4, 0, 3, 6, 6],\n",
       "        [6, 9, 0, 9, 9, 9, 8, 4],\n",
       "        [6, 7, 1, 7, 8, 5, 2, 0]],\n",
       "\n",
       "       [[3, 7, 4, 4, 3, 9, 6, 6],\n",
       "        [1, 1, 6, 7, 5, 0, 7, 8],\n",
       "        [0, 8, 5, 2, 3, 1, 5, 3],\n",
       "        [8, 7, 4, 5, 8, 7, 1, 1],\n",
       "        [8, 0, 9, 0, 6, 1, 2, 2]],\n",
       "\n",
       "       [[3, 4, 4, 0, 6, 5, 2, 0],\n",
       "        [6, 9, 5, 3, 3, 5, 5, 6],\n",
       "        [3, 7, 9, 8, 8, 4, 6, 1],\n",
       "        [7, 7, 9, 5, 5, 0, 5, 7],\n",
       "        [9, 5, 2, 8, 8, 2, 1, 6]]])"
      ]
     },
     "execution_count": 14,
     "metadata": {},
     "output_type": "execute_result"
    }
   ],
   "source": [
    "a = np.random.randint(0, 10, (3, 5, 8))\n",
    "a"
   ]
  },
  {
   "cell_type": "code",
   "execution_count": 16,
   "metadata": {
    "scrolled": true
   },
   "outputs": [
    {
     "data": {
      "text/plain": [
       "array([[[  1,   2,   4,   8,  16,  32,  64, 128],\n",
       "        [  1,   2,   4,   8,  16,  32,  64, 128],\n",
       "        [  1,   2,   4,   8,  16,  32,  64, 128],\n",
       "        [  1,   2,   4,   8,  16,  32,  64, 128],\n",
       "        [  1,   2,   4,   8,  16,  32,  64, 128]],\n",
       "\n",
       "       [[  1,   2,   4,   8,  16,  32,  64, 128],\n",
       "        [  1,   2,   4,   8,  16,  32,  64, 128],\n",
       "        [  1,   2,   4,   8,  16,  32,  64, 128],\n",
       "        [  1,   2,   4,   8,  16,  32,  64, 128],\n",
       "        [  1,   2,   4,   8,  16,  32,  64, 128]],\n",
       "\n",
       "       [[  1,   2,   4,   8,  16,  32,  64, 128],\n",
       "        [  1,   2,   4,   8,  16,  32,  64, 128],\n",
       "        [  1,   2,   4,   8,  16,  32,  64, 128],\n",
       "        [  1,   2,   4,   8,  16,  32,  64, 128],\n",
       "        [  1,   2,   4,   8,  16,  32,  64, 128]]])"
      ]
     },
     "execution_count": 16,
     "metadata": {},
     "output_type": "execute_result"
    }
   ],
   "source": [
    "for i in range(8):\n",
    "    a[:, :, i] = 2 ** i\n",
    "a"
   ]
  },
  {
   "cell_type": "code",
   "execution_count": 2,
   "metadata": {},
   "outputs": [],
   "source": [
    "import cv2\n",
    "img = cv2.imread('catdog.jpg', 0)\n",
    "t, rst = cv2.threshold(img, 127, 255, cv2.THRESH_BINARY)  # t 代表要返回的阈值，rst 代表阈值结果图像\n",
    "cv2.imshow('img', img)\n",
    "cv2.imshow('after_img', rst)\n",
    "cv2.waitKey()\n",
    "cv2.destroyAllWindows()"
   ]
  },
  {
   "cell_type": "code",
   "execution_count": 4,
   "metadata": {},
   "outputs": [],
   "source": [
    "import cv2\n",
    "img = cv2.imread('catdog.jpg', 0)\n",
    "t, rst = cv2.threshold(img, 127, 255, cv2.THRESH_BINARY_INV)  # t 代表要返回的阈值，rst 代表阈值结果图像\n",
    "cv2.imshow('img', img)\n",
    "cv2.imshow('after_img', rst)\n",
    "cv2.waitKey()\n",
    "cv2.destroyAllWindows()"
   ]
  },
  {
   "cell_type": "code",
   "execution_count": null,
   "metadata": {},
   "outputs": [],
   "source": []
  }
 ],
 "metadata": {
  "kernelspec": {
   "display_name": "Python 3",
   "language": "python",
   "name": "python3"
  },
  "language_info": {
   "codemirror_mode": {
    "name": "ipython",
    "version": 3
   },
   "file_extension": ".py",
   "mimetype": "text/x-python",
   "name": "python",
   "nbconvert_exporter": "python",
   "pygments_lexer": "ipython3",
   "version": "3.8.5"
  }
 },
 "nbformat": 4,
 "nbformat_minor": 4
}
