{
 "cells": [
  {
   "cell_type": "code",
   "execution_count": 1,
   "metadata": {},
   "outputs": [],
   "source": [
    "# 1. 1 到 3 能组成多少个三位数字"
   ]
  },
  {
   "cell_type": "code",
   "execution_count": 2,
   "metadata": {},
   "outputs": [
    {
     "data": {
      "text/plain": [
       "[123, 132, 213, 231, 312, 321]"
      ]
     },
     "execution_count": 2,
     "metadata": {},
     "output_type": "execute_result"
    }
   ],
   "source": [
    "num_list = []\n",
    "for i in range(1, 4):\n",
    "    for j in range(1, 4):\n",
    "        for k in range(1, 4):\n",
    "            if (i != j) and (i != k) and (j != k):\n",
    "                init = i * 100 + j * 10 + k\n",
    "                num_list.append(init)\n",
    "num_list"
   ]
  },
  {
   "cell_type": "code",
   "execution_count": 3,
   "metadata": {},
   "outputs": [],
   "source": [
    "# 2. 奖金计算"
   ]
  },
  {
   "cell_type": "code",
   "execution_count": 4,
   "metadata": {},
   "outputs": [
    {
     "name": "stdout",
     "output_type": "stream",
     "text": [
      "请输入净利润: 120000\n",
      "1500.0\n",
      "11500.0\n",
      "11500.0\n"
     ]
    }
   ],
   "source": [
    "saving = int(input('请输入净利润: '))\n",
    "arr = [1000000, 600000, 400000, 200000, 100000, 0]\n",
    "rat = [0.01, 0.015, 0.03, 0.05, 0.075, 0.1]\n",
    "r = 0.0\n",
    "for idx in range(0, 6):\n",
    "    if saving > arr[idx]:\n",
    "        r += ((saving - arr[idx]) * rat[idx])\n",
    "        print(r)\n",
    "        saving = arr[idx]\n",
    "print(r)"
   ]
  },
  {
   "cell_type": "code",
   "execution_count": 5,
   "metadata": {},
   "outputs": [],
   "source": [
    "# 3. 一个整数加上 100 是一个完全平方数，再加上 168 又是一个完全平方数"
   ]
  },
  {
   "cell_type": "code",
   "execution_count": 9,
   "metadata": {},
   "outputs": [
    {
     "data": {
      "text/plain": [
       "[-99.0, 21.0, 261.0, 1581.0]"
      ]
     },
     "execution_count": 9,
     "metadata": {},
     "output_type": "execute_result"
    }
   ],
   "source": [
    "num_list_1 = []\n",
    "for i in range(1, 100):\n",
    "    if 168 % i == 0:\n",
    "        j = 168 / i\n",
    "        if (i > j) and (i + j) % 2 == 0 and (i - j) % 2 == 0:\n",
    "            m = (i + j) / 2\n",
    "            n = (i - j) / 2\n",
    "            x = n ** 2 - 100\n",
    "            num_list_1.append(x)\n",
    "num_list_1"
   ]
  },
  {
   "cell_type": "code",
   "execution_count": 10,
   "metadata": {},
   "outputs": [],
   "source": [
    "# 4. 输入某年某月某日，判断这天是这一年的第几天"
   ]
  },
  {
   "cell_type": "code",
   "execution_count": 28,
   "metadata": {},
   "outputs": [
    {
     "name": "stdout",
     "output_type": "stream",
     "text": [
      "请输入年份 year: 2021\n",
      "请输入月份 month: 12\n",
      "请输入该月的日期 day: 25\n",
      "It is the 359th day\n",
      "请输入年份 year: 2021\n",
      "请输入月份 month: 1\n",
      "请输入该月的日期 day: 32\n",
      "日期输入错误, 请重新输入！\n"
     ]
    }
   ],
   "source": [
    "for m in range(2):\n",
    "    year = int(input(\"请输入年份 year: \"))\n",
    "    month = int(input(\"请输入月份 month: \"))\n",
    "    day = int(input(\"请输入该月的日期 day: \"))\n",
    "    months = [0, 31, 59, 90, 120, 151, 181, 212, 243, 273, 304, 334]\n",
    "    if ((month == 12) and (0 < day <= 31)) or ((month == 1) and (0 < day <= 31)) or ((month == 2) and (0 < day <= 28)):\n",
    "        sum = months[month - 1]\n",
    "    elif ((month == 3) and (0 < day <= 31)) or ((month == 4) and (0 < day <= 30)) or ((month == 5) and (0 < day <= 31)):\n",
    "        sum = months[month - 1]\n",
    "    elif ((month == 6) and (0 < day <= 30)) or ((month == 7) and (0 < day <= 31)) or ((month == 8) and (0 < day <= 31)):\n",
    "        sum = months[month - 1]\n",
    "    elif ((month == 9) and (0 < day <= 30)) or ((month == 10) and (0 < day <= 31)) or ((month == 11) and (0 < day <= 30)):\n",
    "        sum = months[month - 1]\n",
    "    else:\n",
    "        print(\"日期输入错误, 请重新输入！\")\n",
    "        break\n",
    "    sum += day\n",
    "    leap = 0\n",
    "    if (year % 400 == 0) or ((year % 4 == 0) and (year % 100 != 0)):\n",
    "        leap = 1\n",
    "    if (leap == 1) and (month > 2):\n",
    "        sum += 1\n",
    "    print(f\"It is the {sum}th day\")"
   ]
  },
  {
   "cell_type": "code",
   "execution_count": 1,
   "metadata": {},
   "outputs": [],
   "source": [
    "# 5. 输入三个数，从小到大排列在输出"
   ]
  },
  {
   "cell_type": "code",
   "execution_count": 3,
   "metadata": {},
   "outputs": [
    {
     "name": "stdout",
     "output_type": "stream",
     "text": [
      "请输入整数 x: 1\n",
      "请输入整数 y: 2\n",
      "请输入整数 z: 2\n",
      "从大到小的排列顺序为: y = z = 2 > x = 1\n",
      "请输入整数 x: 1\n",
      "请输入整数 y: -2\n",
      "请输入整数 z: 1\n",
      "从大到小的排列顺序为: x = z = 1 > y = -2\n",
      "请输入整数 x: 5\n",
      "请输入整数 y: 8\n",
      "请输入整数 z: 2\n",
      "从大到小的排列顺序为: y = 8 > x = 5 > z = 2\n"
     ]
    }
   ],
   "source": [
    "for i in range(3):    \n",
    "    x = int(input(\"请输入整数 x: \"))\n",
    "    y = int(input(\"请输入整数 y: \"))\n",
    "    z = int(input(\"请输入整数 z: \"))\n",
    "    if x > y and x > z:\n",
    "        if y > z:\n",
    "            print(f\"从大到小的排列顺序为: x = {x} > y = {y} > z = {z}\")\n",
    "        elif y < z:\n",
    "            print(f\"从大到小的排列顺序为: x = {x} > z = {z} > y = {y}\")\n",
    "        else:\n",
    "            print(f\"从大到小的排列顺序为: x = {x} > z = y = {y}\")\n",
    "    elif y > x and y > z:\n",
    "        if x > z:\n",
    "            print(f\"从大到小的排列顺序为: y = {y} > x = {x} > z = {z}\")\n",
    "        elif x < z:\n",
    "            print(f\"从大到小的排列顺序为: y = {y} > z = {z} > x = {x}\")\n",
    "        else:\n",
    "            print(f\"从大到小的排列顺序为: y = {y} > z = x = {x}\")\n",
    "    elif z > x and z > y:\n",
    "        if x > y:\n",
    "            print(f\"从大到小的排列顺序为: z = {z} > x = {x} > y = {y}\")\n",
    "        elif x < y:\n",
    "            print(f\"从大到小的排列顺序为: z = {z} > y = {y} > x = {x}\")\n",
    "        else:\n",
    "            print(f\"从大到小的排列顺序为: z = {z} > y = x = {x}\")\n",
    "    elif x == y == z:\n",
    "        print(f\"输入的三个数字一样大, x = y = z = {x}\")\n",
    "    elif y == z and z > x:\n",
    "        print(f\"从大到小的排列顺序为: y = z = {y} > x = {x}\")\n",
    "    elif x == z and z > y:\n",
    "        print(f\"从大到小的排列顺序为: x = z = {x} > y = {y}\")\n",
    "    elif x == y and x > z:\n",
    "        print(f\"从大到小的排列顺序为: x = y = {x} > z = {z}\")"
   ]
  },
  {
   "cell_type": "code",
   "execution_count": null,
   "metadata": {},
   "outputs": [],
   "source": []
  }
 ],
 "metadata": {
  "kernelspec": {
   "display_name": "Python 3",
   "language": "python",
   "name": "python3"
  },
  "language_info": {
   "codemirror_mode": {
    "name": "ipython",
    "version": 3
   },
   "file_extension": ".py",
   "mimetype": "text/x-python",
   "name": "python",
   "nbconvert_exporter": "python",
   "pygments_lexer": "ipython3",
   "version": "3.8.5"
  }
 },
 "nbformat": 4,
 "nbformat_minor": 4
}
