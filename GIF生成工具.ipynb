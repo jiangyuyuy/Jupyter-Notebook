{
 "cells": [
  {
   "cell_type": "code",
   "execution_count": 1,
   "metadata": {},
   "outputs": [
    {
     "name": "stdout",
     "output_type": "stream",
     "text": [
      "Requirement already satisfied: pillow in c:\\programdata\\anaconda3\\lib\\site-packages (9.0.0)\n"
     ]
    }
   ],
   "source": [
    "!pip install pillow"
   ]
  },
  {
   "cell_type": "code",
   "execution_count": 2,
   "metadata": {},
   "outputs": [
    {
     "ename": "FileNotFoundError",
     "evalue": "[WinError 3] 系统找不到指定的路径。: 'C:/Users/jiangyu/Desktop/cvtf/Dogs'",
     "output_type": "error",
     "traceback": [
      "\u001b[1;31m---------------------------------------------------------------------------\u001b[0m",
      "\u001b[1;31mFileNotFoundError\u001b[0m                         Traceback (most recent call last)",
      "\u001b[1;32m<ipython-input-2-422141cbaf14>\u001b[0m in \u001b[0;36m<module>\u001b[1;34m\u001b[0m\n\u001b[0;32m      6\u001b[0m \u001b[1;31m# imgFolderPath ：是图片所在的文件夹\u001b[0m\u001b[1;33m\u001b[0m\u001b[1;33m\u001b[0m\u001b[1;33m\u001b[0m\u001b[0m\n\u001b[0;32m      7\u001b[0m \u001b[0mimgFolderPath\u001b[0m \u001b[1;33m=\u001b[0m \u001b[1;34m\"C:/Users/jiangyu/Desktop/cvtf/Dogs\"\u001b[0m\u001b[1;33m\u001b[0m\u001b[1;33m\u001b[0m\u001b[0m\n\u001b[1;32m----> 8\u001b[1;33m \u001b[0mfileList\u001b[0m \u001b[1;33m=\u001b[0m \u001b[0mos\u001b[0m\u001b[1;33m.\u001b[0m\u001b[0mlistdir\u001b[0m\u001b[1;33m(\u001b[0m\u001b[0mimgFolderPath\u001b[0m\u001b[1;33m)\u001b[0m\u001b[1;33m\u001b[0m\u001b[1;33m\u001b[0m\u001b[0m\n\u001b[0m\u001b[0;32m      9\u001b[0m \u001b[1;31m# os.listdir(imgFolderPath) 列出所有的文件名，返回列表\u001b[0m\u001b[1;33m\u001b[0m\u001b[1;33m\u001b[0m\u001b[1;33m\u001b[0m\u001b[0m\n\u001b[0;32m     10\u001b[0m \u001b[0mfirstImgPath\u001b[0m \u001b[1;33m=\u001b[0m \u001b[0mos\u001b[0m\u001b[1;33m.\u001b[0m\u001b[0mpath\u001b[0m\u001b[1;33m.\u001b[0m\u001b[0mjoin\u001b[0m\u001b[1;33m(\u001b[0m\u001b[0mimgFolderPath\u001b[0m\u001b[1;33m,\u001b[0m \u001b[0mfileList\u001b[0m\u001b[1;33m[\u001b[0m\u001b[1;36m0\u001b[0m\u001b[1;33m]\u001b[0m\u001b[1;33m)\u001b[0m\u001b[1;33m\u001b[0m\u001b[1;33m\u001b[0m\u001b[0m\n",
      "\u001b[1;31mFileNotFoundError\u001b[0m: [WinError 3] 系统找不到指定的路径。: 'C:/Users/jiangyu/Desktop/cvtf/Dogs'"
     ]
    }
   ],
   "source": [
    "# coding:utf-8\n",
    "import os\n",
    "from PIL import Image\n",
    " \n",
    "# 制作gif\n",
    "# imgFolderPath ：是图片所在的文件夹\n",
    "imgFolderPath = \"C:/Users/jiangyu/Desktop/cvtf/Dogs\"\n",
    "fileList = os.listdir(imgFolderPath)\n",
    "# os.listdir(imgFolderPath) 列出所有的文件名，返回列表\n",
    "firstImgPath = os.path.join(imgFolderPath, fileList[0])\n",
    "im = Image.open(firstImgPath)\n",
    "images = []\n",
    "# for img in fileList[1:]: 遍历剩下的所有图片，读取加入images 列表\n",
    "for img in fileList[1:]:\n",
    "   imgPath = os.path.join(imgFolderPath, img)\n",
    "   images.append(Image.open(imgPath))\n",
    "im.save('beauty.gif', save_all=True,append_images =images,loop = 0,duration=2000)\n",
    "# loop = 0  GIF图片一直重复循环（ loop=0，如果设置为 1，则循环1次，设置为2则循环2次，以此类推）\n",
    "# duration=2000 每帧图片播放2000毫秒\n",
    "# 生成文件目录跟该文件同目录"
   ]
  },
  {
   "cell_type": "code",
   "execution_count": null,
   "metadata": {},
   "outputs": [],
   "source": []
  },
  {
   "cell_type": "code",
   "execution_count": null,
   "metadata": {},
   "outputs": [],
   "source": []
  }
 ],
 "metadata": {
  "kernelspec": {
   "display_name": "Python 3",
   "language": "python",
   "name": "python3"
  },
  "language_info": {
   "codemirror_mode": {
    "name": "ipython",
    "version": 3
   },
   "file_extension": ".py",
   "mimetype": "text/x-python",
   "name": "python",
   "nbconvert_exporter": "python",
   "pygments_lexer": "ipython3",
   "version": "3.8.5"
  }
 },
 "nbformat": 4,
 "nbformat_minor": 5
}
