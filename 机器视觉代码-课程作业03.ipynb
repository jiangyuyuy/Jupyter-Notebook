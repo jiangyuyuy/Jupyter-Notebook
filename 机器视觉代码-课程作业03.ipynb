{
 "cells": [
  {
   "cell_type": "code",
   "execution_count": 2,
   "metadata": {},
   "outputs": [],
   "source": [
    "import cv2\n",
    "import numpy as np\n",
    "img = cv2.imread(\"./ball/1001.png\")\n",
    "image = cv2.pyrDown(img)\n",
    "gray = cv2.cvtColor(image, cv2.COLOR_BGR2GRAY)\n",
    "gray = cv2.medianBlur(gray, 3)\n",
    " \n",
    "circles = cv2.HoughCircles(gray, cv2.HOUGH_GRADIENT, 1, 200, param1=100, param2=30, minRadius=0, maxRadius=0)\n",
    " \n",
    "for i in circles[0, : ]:\n",
    "        cv2.circle(image, (i[0], i[1]), i[2], (0, 0, 255), 2)  #画圆\n",
    "        cv2.circle(image, (i[0], i[1]), 2, (0, 0, 255), 2)     #画圆心\n",
    "cv2.imwrite('circles.jpg', image)"
   ]
  },
  {
   "cell_type": "code",
   "execution_count": null,
   "metadata": {},
   "outputs": [],
   "source": []
  }
 ],
 "metadata": {
  "kernelspec": {
   "display_name": "Python 3 (ipykernel)",
   "language": "python",
   "name": "python3"
  },
  "language_info": {
   "codemirror_mode": {
    "name": "ipython",
    "version": 3
   },
   "file_extension": ".py",
   "mimetype": "text/x-python",
   "name": "python",
   "nbconvert_exporter": "python",
   "pygments_lexer": "ipython3",
   "version": "3.7.13"
  }
 },
 "nbformat": 4,
 "nbformat_minor": 4
}
