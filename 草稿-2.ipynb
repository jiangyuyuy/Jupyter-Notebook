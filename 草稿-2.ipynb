{
 "cells": [
  {
   "cell_type": "code",
   "execution_count": 3,
   "metadata": {},
   "outputs": [],
   "source": [
    "import numpy as np"
   ]
  },
  {
   "cell_type": "code",
   "execution_count": 4,
   "metadata": {},
   "outputs": [
    {
     "data": {
      "text/plain": [
       "array([0., 0., 0., 0., 0., 0., 0., 0., 0., 0.])"
      ]
     },
     "execution_count": 4,
     "metadata": {},
     "output_type": "execute_result"
    }
   ],
   "source": [
    "np.zeros(10)"
   ]
  },
  {
   "cell_type": "code",
   "execution_count": 3,
   "metadata": {},
   "outputs": [
    {
     "data": {
      "text/plain": [
       "3"
      ]
     },
     "execution_count": 3,
     "metadata": {},
     "output_type": "execute_result"
    }
   ],
   "source": [
    "np.random.randint(10)"
   ]
  },
  {
   "cell_type": "code",
   "execution_count": 8,
   "metadata": {},
   "outputs": [
    {
     "data": {
      "text/plain": [
       "array([0.95691859, 0.01149249, 0.17513985, 0.6321031 , 0.32594664,\n",
       "       0.83467749, 0.72336614, 0.65650507, 0.75112423, 0.77329662])"
      ]
     },
     "execution_count": 8,
     "metadata": {},
     "output_type": "execute_result"
    }
   ],
   "source": [
    "a = np.random.rand(10)\n",
    "a"
   ]
  },
  {
   "cell_type": "code",
   "execution_count": 9,
   "metadata": {},
   "outputs": [
    {
     "data": {
      "text/plain": [
       "0"
      ]
     },
     "execution_count": 9,
     "metadata": {},
     "output_type": "execute_result"
    }
   ],
   "source": [
    "np.argmax(a)"
   ]
  },
  {
   "cell_type": "code",
   "execution_count": 14,
   "metadata": {},
   "outputs": [
    {
     "data": {
      "text/plain": [
       "((array([0, 0, 0, 1], dtype=int64), array([1, 2, 3, 3], dtype=int64)),\n",
       " array([0, 0, 0, 1], dtype=int64))"
      ]
     },
     "execution_count": 14,
     "metadata": {},
     "output_type": "execute_result"
    }
   ],
   "source": [
    "b = np.array([[1, 2, 3, 4], \n",
    "             [1, 2, 3, 4]])\n",
    "c = np.array([[3, 2, 3, 4], \n",
    "             [5, 5, 4, 4]])\n",
    "np.where(b == c), np.where(b == c)[0]"
   ]
  },
  {
   "cell_type": "code",
   "execution_count": 12,
   "metadata": {},
   "outputs": [],
   "source": [
    "class Vector:\n",
    "    def __init__(self, d):\n",
    "        self.__coords = [0] * d\n",
    "    def __len__(self):\n",
    "        return len(self.__coords)\n",
    "    def __getitem__(self, j):\n",
    "        return self.__coords[j]\n",
    "    def __setitem__(self, j, val):\n",
    "        self.__coords[j] = val\n",
    "    def __add__(self, other):\n",
    "        if len(self) != len(other):\n",
    "            raise ValueError(\"dimension must agree\")\n",
    "        result = Vector(len(self))\n",
    "        for j in range(len(self)):\n",
    "            result[j] = self[j] + other[j]\n",
    "        return result\n",
    "    def __eq__(self, other):\n",
    "        return self.__coords == other.__coords\n",
    "    def __ne__(self, other):\n",
    "        return not self == other\n",
    "    def __str__(self):\n",
    "        return \"<\" + str(self.__coords)[1:-1] + \">\""
   ]
  },
  {
   "cell_type": "code",
   "execution_count": 13,
   "metadata": {},
   "outputs": [
    {
     "name": "stdout",
     "output_type": "stream",
     "text": [
      "<0, 0, 0, 0, 0>\n"
     ]
    }
   ],
   "source": [
    "v = Vector(5)\n",
    "print(v)"
   ]
  },
  {
   "cell_type": "code",
   "execution_count": 14,
   "metadata": {},
   "outputs": [
    {
     "name": "stdout",
     "output_type": "stream",
     "text": [
      "<0, 1, 0, 0, 0>\n"
     ]
    }
   ],
   "source": [
    "v[1] = 1\n",
    "print(v)"
   ]
  },
  {
   "cell_type": "code",
   "execution_count": 38,
   "metadata": {},
   "outputs": [],
   "source": [
    "class Range:\n",
    "    def __init__(self, start, stop=None, step=1):\n",
    "        if step == 0:\n",
    "            raise ValueError(\"step canot be 0!\")\n",
    "        if stop is None:\n",
    "            start, stop = 0, start\n",
    "        self._length = max(0, (stop - start + step - 1) // step)\n",
    "        self._start = start\n",
    "        self._step = step\n",
    "    def __len__(self):\n",
    "        return self._length\n",
    "    def __getitem__(self, k):\n",
    "        if k < 0:\n",
    "            k += len(self)\n",
    "        if not 0 <= k < self._length:\n",
    "            raise IndexError(\"index out of range\")\n",
    "        return self._start + k * self._step"
   ]
  },
  {
   "cell_type": "code",
   "execution_count": 42,
   "metadata": {},
   "outputs": [
    {
     "data": {
      "text/plain": [
       "[1, 3, 5, 7, 9]"
      ]
     },
     "execution_count": 42,
     "metadata": {},
     "output_type": "execute_result"
    }
   ],
   "source": [
    "r = Range(1, 10, 2)\n",
    "list(r)"
   ]
  },
  {
   "cell_type": "code",
   "execution_count": 2,
   "metadata": {},
   "outputs": [
    {
     "data": {
      "text/plain": [
       "{}"
      ]
     },
     "execution_count": 2,
     "metadata": {},
     "output_type": "execute_result"
    }
   ],
   "source": [
    "q = dict()\n",
    "q"
   ]
  },
  {
   "cell_type": "code",
   "execution_count": 3,
   "metadata": {},
   "outputs": [],
   "source": [
    "q[str([0, 0])] = [0.0, 0.0, 0.0, 0.0]"
   ]
  },
  {
   "cell_type": "code",
   "execution_count": 4,
   "metadata": {},
   "outputs": [
    {
     "data": {
      "text/plain": [
       "{'[0, 0]': [0.0, 0.0, 0.0, 0.0]}"
      ]
     },
     "execution_count": 4,
     "metadata": {},
     "output_type": "execute_result"
    }
   ],
   "source": [
    "q"
   ]
  },
  {
   "cell_type": "code",
   "execution_count": 5,
   "metadata": {},
   "outputs": [],
   "source": [
    "q[str([0, 1])] = [0.0, 0.0, 0.0, 0.0]"
   ]
  },
  {
   "cell_type": "code",
   "execution_count": 6,
   "metadata": {},
   "outputs": [
    {
     "data": {
      "text/plain": [
       "{'[0, 0]': [0.0, 0.0, 0.0, 0.0], '[0, 1]': [0.0, 0.0, 0.0, 0.0]}"
      ]
     },
     "execution_count": 6,
     "metadata": {},
     "output_type": "execute_result"
    }
   ],
   "source": [
    "q"
   ]
  },
  {
   "cell_type": "code",
   "execution_count": 1,
   "metadata": {},
   "outputs": [
    {
     "name": "stdout",
     "output_type": "stream",
     "text": [
      "[40 61 30 47 59]\n"
     ]
    }
   ],
   "source": [
    "import numpy as np\n",
    "ind = np.random.randint(0, 100, 5)\n",
    "print(ind)"
   ]
  },
  {
   "cell_type": "code",
   "execution_count": 18,
   "metadata": {},
   "outputs": [],
   "source": [
    "import numpy as np\n",
    "size = 200000\n",
    "a = np.random.choice(['r', 'g', 'b'], size = size, p = [.2, .3, .5])"
   ]
  },
  {
   "cell_type": "code",
   "execution_count": 19,
   "metadata": {},
   "outputs": [
    {
     "name": "stdout",
     "output_type": "stream",
     "text": [
      "red 的概率为： 0.19957\n",
      "green 的概率为： 0.29988\n",
      "blue 的概率为： 0.50055\n"
     ]
    }
   ],
   "source": [
    "num_r = 0\n",
    "num_g = 0\n",
    "num_b = 0\n",
    "for i in a:\n",
    "    if i == 'r':\n",
    "        num_r += 1\n",
    "    elif  i == 'g':\n",
    "        num_g += 1\n",
    "    else:\n",
    "        num_b += 1\n",
    "print(\"red 的概率为：\", num_r / size)\n",
    "print(\"green 的概率为：\", num_g / size)\n",
    "print(\"blue 的概率为：\", num_b / size)"
   ]
  },
  {
   "cell_type": "code",
   "execution_count": 11,
   "metadata": {},
   "outputs": [
    {
     "name": "stdout",
     "output_type": "stream",
     "text": [
      "c: tensor([ 0.5087, -0.4303,  2.0731])\n"
     ]
    }
   ],
   "source": [
    "import torch\n",
    "from torch.distributions import  Normal\n",
    "mean = torch.Tensor([0, 0, 2])\n",
    "var = torch.Tensor([1, 0.5, 1])\n",
    "normal=Normal(mean, var)\n",
    "c=normal.sample()\n",
    "print(\"c:\",c)"
   ]
  },
  {
   "cell_type": "code",
   "execution_count": 12,
   "metadata": {},
   "outputs": [
    {
     "name": "stdout",
     "output_type": "stream",
     "text": [
      "5\n",
      "4\n",
      "3\n",
      "2\n",
      "1\n"
     ]
    }
   ],
   "source": [
    "for i in range(5, 0, -1):\n",
    "    print(i)"
   ]
  },
  {
   "cell_type": "code",
   "execution_count": 1,
   "metadata": {},
   "outputs": [
    {
     "name": "stdout",
     "output_type": "stream",
     "text": [
      "[100, 100, 100, 100, 100]\n"
     ]
    }
   ],
   "source": [
    "buffer = []\n",
    "buffer.extend([100] * 5)\n",
    "print(buffer)"
   ]
  },
  {
   "cell_type": "code",
   "execution_count": 2,
   "metadata": {},
   "outputs": [
    {
     "name": "stdout",
     "output_type": "stream",
     "text": [
      "[-1. -1. -1. -1. -1. -1. -1. -1. -1.]\n"
     ]
    }
   ],
   "source": [
    "import numpy as np\n",
    "legal_action = np.zeros(9)-1\n",
    "print(legal_action)"
   ]
  },
  {
   "cell_type": "code",
   "execution_count": 1,
   "metadata": {},
   "outputs": [
    {
     "data": {
      "image/png": "[encoded data removed]",
      "text/plain": [
       "<Figure size 500x300 with 1 Axes>"
      ]
     },
     "metadata": {
      "needs_background": "light"
     },
     "output_type": "display_data"
    }
   ],
   "source": [
    "import matplotlib.pyplot as plt\n",
    "import numpy as np\n",
    "# 0.准备数据\n",
    "x = np.linspace(0, 6, 100)\n",
    "y = (x - 3) ** 2 + 2\n",
    "# 1.创建画布\n",
    "plt.figure(figsize=(5, 3), dpi=100)\n",
    "plt.xlabel(\"w\")\n",
    "plt.ylabel(\"J(w)\")\n",
    "# 2.绘制函数图像\n",
    "plt.plot(x, y)\n",
    "# 2.1 添加网格显示\n",
    "# plt.grid()\n",
    "# 3.显示图像\n",
    "plt.savefig(\"1\")\n",
    "plt.show()"
   ]
  },
  {
   "cell_type": "code",
   "execution_count": 4,
   "metadata": {},
   "outputs": [
    {
     "name": "stdout",
     "output_type": "stream",
     "text": [
      "tensor([[ 0,  1,  2,  3,  4],\n",
      "        [ 5,  6,  7,  8,  9],\n",
      "        [10, 11, 12, 13, 14],\n",
      "        [15, 16, 17, 18, 19]])\n"
     ]
    }
   ],
   "source": [
    "import torch \n",
    "action = torch.arange(20).view(4, 5)\n",
    "print(action)"
   ]
  },
  {
   "cell_type": "code",
   "execution_count": 9,
   "metadata": {},
   "outputs": [
    {
     "name": "stdout",
     "output_type": "stream",
     "text": [
      "torch.return_types.max(\n",
      "values=tensor([ 4,  9, 14, 19]),\n",
      "indices=tensor([4, 4, 4, 4]))\n",
      "tensor([4, 4, 4, 4])\n"
     ]
    }
   ],
   "source": [
    "actions = torch.max(action, 1)\n",
    "actionss = torch.max(action, 1)[1]\n",
    "print(actions)\n",
    "print(actionss)"
   ]
  },
  {
   "cell_type": "code",
   "execution_count": 4,
   "metadata": {},
   "outputs": [],
   "source": [
    "# 写一个装饰器验证账号和密码是否正确\n",
    "def new_func(func):\n",
    "    def wrappedfun(username, password):\n",
    "        if username == \"root\" and password == \"123\":\n",
    "            print(\"通过验证！\")\n",
    "            return func()\n",
    "        else:\n",
    "            print(\"密码或账号输入错误！\")\n",
    "            return \n",
    "    return wrappedfun"
   ]
  },
  {
   "cell_type": "code",
   "execution_count": 8,
   "metadata": {},
   "outputs": [
    {
     "name": "stdout",
     "output_type": "stream",
     "text": [
      "密码或账号输入错误！\n",
      "通过验证！\n",
      "...\n"
     ]
    }
   ],
   "source": [
    "@new_func\n",
    "def run():\n",
    "    print(\"...\")\n",
    "run(\"root\",\"1231\")\n",
    "run(\"root\",\"123\")"
   ]
  },
  {
   "cell_type": "code",
   "execution_count": 1,
   "metadata": {},
   "outputs": [
    {
     "name": "stdout",
     "output_type": "stream",
     "text": [
      "[{'a': 0}, {'a': 0}, {'a': 0}, {'a': 0}]\n"
     ]
    }
   ],
   "source": [
    "a = {\"a\":0}\n",
    "b = [a, a, a, a]\n",
    "print(b)"
   ]
  },
  {
   "cell_type": "code",
   "execution_count": 2,
   "metadata": {},
   "outputs": [
    {
     "name": "stdout",
     "output_type": "stream",
     "text": [
      "[{'a': 1}, {'a': 1}, {'a': 1}, {'a': 1}]\n"
     ]
    }
   ],
   "source": [
    "a[\"a\"] = 1\n",
    "print(b)"
   ]
  },
  {
   "cell_type": "code",
   "execution_count": 4,
   "metadata": {},
   "outputs": [],
   "source": [
    "# 复制文件\n",
    "with open(\"catdog.jpg\", \"rb\") as file:\n",
    "    a = file.read()"
   ]
  },
  {
   "cell_type": "code",
   "execution_count": 6,
   "metadata": {},
   "outputs": [],
   "source": [
    "with open(\"cat_dog_copy.jpg\", \"wb\") as file:\n",
    "    file.write(a)"
   ]
  },
  {
   "cell_type": "code",
   "execution_count": 9,
   "metadata": {},
   "outputs": [
    {
     "name": "stdout",
     "output_type": "stream",
     "text": [
      "好好学习，天天向上！\n"
     ]
    }
   ],
   "source": [
    "try:\n",
    "    file = open(\"file.txt\", \"r\")\n",
    "    f = file.read()\n",
    "    print(f)\n",
    "except Exception as e:\n",
    "    file = open(\"file.txt\", \"w\")  # 创建一个空文件\n",
    "    file.write(\"好好学习，天天向上！\")\n",
    "finally:\n",
    "    file.close()"
   ]
  },
  {
   "cell_type": "code",
   "execution_count": 13,
   "metadata": {},
   "outputs": [
    {
     "name": "stdout",
     "output_type": "stream",
     "text": [
      "0\n",
      "1\n",
      "4\n"
     ]
    }
   ],
   "source": [
    "def createGenerator():\n",
    "    mylist = range(3)\n",
    "    for i in mylist:\n",
    "        yield i * i\n",
    "mygenerator = createGenerator() # 创建生成器\n",
    "for i in mygenerator:\n",
    "    print(i) # mygenerator is an object!"
   ]
  },
  {
   "cell_type": "code",
   "execution_count": 29,
   "metadata": {},
   "outputs": [],
   "source": [
    "def func(n):\n",
    "    i, j = 1, 1\n",
    "    while i <= n:\n",
    "        yield j\n",
    "        i += 1\n",
    "        j *= i"
   ]
  },
  {
   "cell_type": "code",
   "execution_count": 30,
   "metadata": {},
   "outputs": [
    {
     "name": "stdout",
     "output_type": "stream",
     "text": [
      "1\n",
      "2\n",
      "6\n",
      "24\n",
      "33\n"
     ]
    }
   ],
   "source": [
    "a = func(4)\n",
    "sum = 0\n",
    "for i in a:\n",
    "    print(i)\n",
    "    sum += i\n",
    "print(sum)"
   ]
  }
 ],
 "metadata": {
  "kernelspec": {
   "display_name": "Python 3",
   "language": "python",
   "name": "python3"
  },
  "language_info": {
   "codemirror_mode": {
    "name": "ipython",
    "version": 3
   },
   "file_extension": ".py",
   "mimetype": "text/x-python",
   "name": "python",
   "nbconvert_exporter": "python",
   "pygments_lexer": "ipython3",
   "version": "3.8.5"
  }
 },
 "nbformat": 4,
 "nbformat_minor": 4
}
